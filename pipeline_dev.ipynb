{
 "cells": [
  {
   "cell_type": "code",
   "execution_count": 1,
   "metadata": {},
   "outputs": [],
   "source": [
    "import os\n",
    "import scanpy as sc\n",
    "import scipy.io\n",
    "import scipy.sparse\n",
    "import pandas as pd \n",
    "import numpy as np\n",
    "import anndata"
   ]
  },
  {
   "cell_type": "markdown",
   "metadata": {},
   "source": [
    "Set directory variables for the samples"
   ]
  },
  {
   "cell_type": "code",
   "execution_count": 23,
   "metadata": {},
   "outputs": [
    {
     "name": "stdout",
     "output_type": "stream",
     "text": [
      "{'dir_gex': '/Users/ecrosse/Desktop/data_for_edie_third_batch_january/WJK-2859_SRSF2_9/CellRangerGex_results', 'dir_dex': '/Users/ecrosse/Desktop/data_for_edie_third_batch_january/WJK-2859_SRSF2_9_dextramer_count/umi_count', 'dir_TCR': '/Users/ecrosse/Desktop/data_for_edie_third_batch_january/WJK-2859_SRSF2_9_TCR_VDJ/CellRangerVdj_results', 'dir_CITE': '/Users/ecrosse/Desktop/data_for_edie_third_batch_january/WJK-2859_SRSF2_9_hash_count/umi_count'}\n",
      "{'dir_gex': '/Users/ecrosse/Desktop/dextramer_data_for_edie_january_part_2/WJK-2864_SRSF2_10/CellRangerGex_results', 'dir_dex': '/Users/ecrosse/Desktop/dextramer_data_for_edie_january_part_2/WJK-2864_SRSF2_10_dextramer_count/umi_count', 'dir_TCR': '/Users/ecrosse/Desktop/dextramer_data_for_edie_january_part_2/WJK-2864_SRSF2_10_TCR_VDJ/CellRangerVdj_results', 'dir_CITE': '/Users/ecrosse/Desktop/dextramer_data_for_edie_january_part_2/WJK-2864_SRSF2_10_hash_count/umi_count'}\n"
     ]
    }
   ],
   "source": [
    "def set_directories(patient_id, base_dir):\n",
    "    \"\"\"\n",
    "    Generate a dictionary containing paths to relevant directories for a given patient.\n",
    "    \n",
    "    Parameters:\n",
    "    - patient_id (str): The unique identifier for the patient.\n",
    "    - base_dir (str): The base directory containing all patient data.\n",
    "    \n",
    "    Returns:\n",
    "    - dict: A dictionary with paths to gene expression, dextramer, TCR, and CITE-seq data.\n",
    "    \"\"\"\n",
    "    return {\n",
    "        \"dir_gex\": os.path.join(base_dir, f\"{patient_id}/CellRangerGex_results\"),\n",
    "        \"dir_dex\": os.path.join(base_dir, f\"{patient_id}_dextramer_count/umi_count\"),\n",
    "        \"dir_TCR\": os.path.join(base_dir, f\"{patient_id}_TCR_VDJ/CellRangerVdj_results\"),\n",
    "        \"dir_CITE\": os.path.join(base_dir, f\"{patient_id}_hash_count/umi_count\")\n",
    "    }\n",
    "\n",
    "# Define base directory and patient IDs\n",
    "base_dir = \"/Users/ecrosse/Desktop/\"\n",
    "\n",
    "# Set directories for each patient\n",
    "dirs_SRSF2_9 = set_directories(\"data_for_edie_third_batch_january/WJK-2859_SRSF2_9\", base_dir)\n",
    "dirs_SRSF2_10 = set_directories(\"dextramer_data_for_edie_january_part_2/WJK-2864_SRSF2_10\", base_dir)\n",
    "\n",
    "# Print to verify the directory structure\n",
    "print(dirs_SRSF2_9)\n",
    "print(dirs_SRSF2_10)\n"
   ]
  },
  {
   "cell_type": "code",
   "execution_count": 34,
   "metadata": {},
   "outputs": [
    {
     "name": "stdout",
     "output_type": "stream",
     "text": [
      "/Users/ecrosse/Desktop/data_for_edie_third_batch_january/WJK-2859_SRSF2_9/CellRangerGex_results\n",
      "/Users/ecrosse/Desktop/data_for_edie_third_batch_january/WJK-2859_SRSF2_9_dextramer_count/umi_count\n",
      "/Users/ecrosse/Desktop/data_for_edie_third_batch_january/WJK-2859_SRSF2_9_hash_count/umi_count\n"
     ]
    },
    {
     "name": "stderr",
     "output_type": "stream",
     "text": [
      "/Library/Frameworks/Python.framework/Versions/3.10/lib/python3.10/site-packages/anndata/_core/anndata.py:1900: UserWarning: Variable names are not unique. To make them unique, call `.var_names_make_unique`.\n",
      "  utils.warn_names_duplicates(\"var\")\n",
      "/Library/Frameworks/Python.framework/Versions/3.10/lib/python3.10/site-packages/anndata/_core/anndata.py:1900: UserWarning: Variable names are not unique. To make them unique, call `.var_names_make_unique`.\n",
      "  utils.warn_names_duplicates(\"var\")\n"
     ]
    },
    {
     "data": {
      "text/plain": [
       "AnnData object with n_obs × n_vars = 8008 × 36601\n",
       "    var: 'gene_ids', 'feature_types', 'genome'"
      ]
     },
     "execution_count": 34,
     "metadata": {},
     "output_type": "execute_result"
    }
   ],
   "source": [
    "# Define paths\n",
    "dir_gex = dirs_SRSF2_9[\"dir_gex\"]\n",
    "dir_dex = dirs_SRSF2_9[\"dir_dex\"]\n",
    "dir_CITE = dirs_SRSF2_9[\"dir_CITE\"]\n",
    "\n",
    "print(dir_gex)\n",
    "print(dir_dex)\n",
    "print(dir_CITE)\n",
    "\n",
    "adata = sc.read_10x_h5(os.path.join(dir_gex, \"filtered_feature_bc_matrix.h5\"))\n",
    "adata.var_names_make_unique()\n",
    "adata"
   ]
  },
  {
   "cell_type": "code",
   "execution_count": 37,
   "metadata": {},
   "outputs": [],
   "source": [
    "# Load dextramer data\n",
    "dex_matrix = scipy.io.mmread(f\"{dir_dex}/matrix.mtx.gz\").T.tocsr()  # Transpose to match AnnData format\n",
    "dex_barcodes = pd.read_csv(f\"{dir_dex}/barcodes.tsv.gz\", header=None, sep='\\t')[0].values\n",
    "dex_features = pd.read_csv(f\"{dir_dex}/features.tsv.gz\", header=None, sep='\\t')\n",
    "\n",
    "# Convert features to match the format expected by AnnData\n",
    "dex_gene_names = dex_features[1].values \n",
    "\n",
    "# Create AnnData object for dextramer data\n",
    "adata_dex = anndata.AnnData(X=dex_matrix, obs=pd.DataFrame(index=dex_barcodes), var=pd.DataFrame(index=dex_gene_names))\n",
    "\n"
   ]
  },
  {
   "cell_type": "code",
   "execution_count": 39,
   "metadata": {},
   "outputs": [
    {
     "name": "stdout",
     "output_type": "stream",
     "text": [
      "Number of matching barcodes: 7993\n"
     ]
    }
   ],
   "source": [
    "adata_dex.obs_names = adata_dex.obs_names + \"-1\"\n",
    "common_barcodes = adata.obs_names.intersection(adata_dex.obs_names)\n",
    "print(\"Number of matching barcodes:\", len(common_barcodes))\n"
   ]
  },
  {
   "cell_type": "code",
   "execution_count": 42,
   "metadata": {},
   "outputs": [],
   "source": [
    "adata = adata[common_barcodes, :]\n",
    "adata_dex = adata_dex[common_barcodes, :]"
   ]
  },
  {
   "cell_type": "code",
   "execution_count": 48,
   "metadata": {},
   "outputs": [
    {
     "name": "stderr",
     "output_type": "stream",
     "text": [
      "/var/folders/tr/vn7tq20j5757j67mf5gf2xg80000gp/T/ipykernel_96192/2188757416.py:1: ImplicitModificationWarning: Setting element `.obsm['dextramer']` of view, initializing view as actual.\n",
      "  adata.obsm[\"dextramer\"] = adata_dex.X.copy()\n"
     ]
    }
   ],
   "source": [
    "adata.obsm[\"dextramer\"] = adata_dex.X.copy()"
   ]
  },
  {
   "cell_type": "markdown",
   "metadata": {},
   "source": [
    "Load the data"
   ]
  },
  {
   "cell_type": "code",
   "execution_count": 55,
   "metadata": {},
   "outputs": [
    {
     "ename": "NameError",
     "evalue": "name 'load_cite_data' is not defined",
     "output_type": "error",
     "traceback": [
      "\u001b[0;31m---------------------------------------------------------------------------\u001b[0m",
      "\u001b[0;31mNameError\u001b[0m                                 Traceback (most recent call last)",
      "Cell \u001b[0;32mIn[55], line 2\u001b[0m\n\u001b[1;32m      1\u001b[0m \u001b[38;5;66;03m# Load and integrate CITE-seq data\u001b[39;00m\n\u001b[0;32m----> 2\u001b[0m adata \u001b[38;5;241m=\u001b[39m \u001b[43mload_cite_data\u001b[49m(dirs_SRSF2_9[\u001b[38;5;124m\"\u001b[39m\u001b[38;5;124mdir_CITE\u001b[39m\u001b[38;5;124m\"\u001b[39m], adata)\n",
      "\u001b[0;31mNameError\u001b[0m: name 'load_cite_data' is not defined"
     ]
    }
   ],
   "source": [
    "# Load and integrate CITE-seq data\n",
    "adata = load_cite_data(dirs_SRSF2_9[\"dir_CITE\"], adata)"
   ]
  },
  {
   "cell_type": "markdown",
   "metadata": {},
   "source": [
    "Data QC and filtering"
   ]
  },
  {
   "cell_type": "code",
   "execution_count": null,
   "metadata": {},
   "outputs": [],
   "source": [
    "# Step 1: Calculate mitochondrial gene ratio\n",
    "adata.var[\"mt_gene\"] = adata.var_names.str.startswith(\"MT-\")\n",
    "adata.obs[\"mitoRatio\"] = (adata[:, adata.var[\"mt_gene\"]].X.sum(axis=1)) / adata.X.sum(axis=1)\n",
    "\n",
    "# Step 2: Subset data based on quality control thresholds\n",
    "threshold_nCount_RNA = 500  # Define your threshold\n",
    "threshold_nFeature_RNA = 200  # Define your threshold\n",
    "threshold_mito = 0.2  # Define your threshold\n",
    "\n",
    "adata = adata[\n",
    "    (adata.obs[\"n_counts\"] >= threshold_nCount_RNA) &\n",
    "    (adata.obs[\"n_genes\"] >= threshold_nFeature_RNA) &\n",
    "    (adata.obs[\"mitoRatio\"] < threshold_mito),\n",
    "    :\n",
    "]\n",
    "\n",
    "# Step 3: Normalize data (log1p normalization)\n",
    "sc.pp.normalize_total(adata, target_sum=1e4)\n",
    "sc.pp.log1p(adata)\n",
    "\n",
    "# Step 4: Identify highly variable genes\n",
    "sc.pp.highly_variable_genes(adata, n_top_genes=4000, flavor=\"seurat_v3\")\n",
    "\n",
    "# Step 5: Filter out genes starting with \"TR\"\n",
    "variable_genes = adata.var[\"highly_variable\"]\n",
    "filtered_variable_genes = adata.var_names[variable_genes & ~adata.var_names.str.startswith(\"TR\")]\n",
    "\n",
    "# Step 6: Update the list of highly variable genes\n",
    "adata.var[\"highly_variable\"] = adata.var_names.isin(filtered_variable_genes)\n",
    "\n",
    "# Step 7: Scale the data\n",
    "sc.pp.scale(adata, max_value=10)  # Scale all genes\n",
    "\n",
    "# Step 8: Run PCA\n",
    "sc.tl.pca(adata)\n"
   ]
  },
  {
   "cell_type": "markdown",
   "metadata": {},
   "source": [
    "CITE-Seq analysis - to define the Dex + population"
   ]
  },
  {
   "cell_type": "code",
   "execution_count": null,
   "metadata": {},
   "outputs": [],
   "source": [
    "# Normalize CITE-seq data using CLR normalization\n",
    "adata.layers[\"CITE\"] = np.log1p(adata.layers[\"CITE\"] / np.median(adata.layers[\"CITE\"], axis=0))\n",
    "\n",
    "# Generate a density plot for CITE-seq data\n",
    "def generate_cite_density_plot(adata, assay_layer=\"CITE\", title=\"CITE-seq Density Plot\"):\n",
    "    \"\"\"\n",
    "    Generate a density plot for CITE-seq data.\n",
    "    \n",
    "    Parameters:\n",
    "    - adata: AnnData object containing the CITE-seq layer.\n",
    "    - assay_layer: Layer containing CITE-seq data.\n",
    "    - title: Title for the plot.\n",
    "    \n",
    "    Returns:\n",
    "    - Matplotlib figure\n",
    "    \"\"\"\n",
    "    cite_data = adata.layers[assay_layer]\n",
    "    cite_values = cite_data.flatten()\n",
    "\n",
    "    fig, ax = plt.subplots(figsize=(8, 5))\n",
    "    ax.hist(cite_values, bins=50, density=True, alpha=0.6, color=\"blue\")\n",
    "    ax.set_xlabel(\"CITE-seq Expression (CLR-normalized)\")\n",
    "    ax.set_ylabel(\"Density\")\n",
    "    ax.set_title(title)\n",
    "    \n",
    "    return fig\n",
    "\n",
    "# View the density plot\n",
    "fig = generate_cite_density_plot(adata)\n",
    "plt.show()\n",
    "\n",
    "def apply_cite_threshold(adata, assay_layer=\"CITE\", hash_threshold=1.5):\n",
    "    \"\"\"\n",
    "    Apply a threshold to CITE-seq data to classify Dex+ populations.\n",
    "\n",
    "    Parameters:\n",
    "    - adata: AnnData object containing the CITE-seq layer.\n",
    "    - assay_layer: Layer containing CITE-seq data.\n",
    "    - hash_threshold: Threshold value to define Dex+ populations.\n",
    "\n",
    "    Returns:\n",
    "    - Updated AnnData object with a new 'dex_positive' column in obs.\n",
    "    \"\"\"\n",
    "    cite_data = adata.layers[assay_layer]\n",
    "\n",
    "    # Identify Dex+ cells (any protein exceeding threshold)\n",
    "    dex_positive = (cite_data > hash_threshold).any(axis=1)\n",
    "\n",
    "    # Store the result in metadata\n",
    "    adata.obs[\"dex_positive\"] = dex_positive.astype(int)  # 1 for Dex+, 0 for Dex−\n",
    "\n",
    "    return adata\n",
    "\n",
    "# Apply threshold to define Dex+ cells\n",
    "adata = apply_cite_threshold(adata, assay_layer=\"CITE\", hash_threshold=1.5)\n",
    "\n",
    "# Check summary of Dex+ classifications\n",
    "adata.obs[\"dex_positive\"].value_counts()\n",
    "\n",
    "# Apply threshold to classify Dex+ and Dex− cells\n",
    "adata = apply_cite_threshold(adata, assay_layer=\"CITE\", hash_threshold=1.5)\n",
    "\n",
    "# Create subsets for Dex+ and Dex− populations\n",
    "adata_dex_pos = adata[adata.obs[\"dex_positive\"] == 1].copy()\n",
    "adata_dex_neg = adata[adata.obs[\"dex_positive\"] == 0].copy()\n",
    "\n",
    "# Check the number of cells in each subset\n",
    "print(f\"Dex+ cells: {adata_dex_pos.n_obs}\")\n",
    "print(f\"Dex− cells: {adata_dex_neg.n_obs}\")\n",
    "\n"
   ]
  },
  {
   "cell_type": "code",
   "execution_count": null,
   "metadata": {},
   "outputs": [],
   "source": []
  }
 ],
 "metadata": {
  "kernelspec": {
   "display_name": "Python 3",
   "language": "python",
   "name": "python3"
  },
  "language_info": {
   "codemirror_mode": {
    "name": "ipython",
    "version": 3
   },
   "file_extension": ".py",
   "mimetype": "text/x-python",
   "name": "python",
   "nbconvert_exporter": "python",
   "pygments_lexer": "ipython3",
   "version": "3.10.11"
  }
 },
 "nbformat": 4,
 "nbformat_minor": 2
}
