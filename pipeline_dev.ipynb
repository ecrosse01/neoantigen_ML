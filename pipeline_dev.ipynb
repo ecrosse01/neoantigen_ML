{
 "cells": [
  {
   "cell_type": "code",
   "execution_count": 529,
   "metadata": {},
   "outputs": [],
   "source": [
    "import os\n",
    "import scanpy as sc\n",
    "import scipy.io\n",
    "import scipy.sparse as sp\n",
    "import pandas as pd \n",
    "import numpy as np\n",
    "import anndata\n",
    "import matplotlib.pyplot as plt\n",
    "import seaborn as sns\n"
   ]
  },
  {
   "cell_type": "markdown",
   "metadata": {},
   "source": [
    "Set directory variables for the samples"
   ]
  },
  {
   "cell_type": "code",
   "execution_count": 400,
   "metadata": {},
   "outputs": [
    {
     "name": "stdout",
     "output_type": "stream",
     "text": [
      "{'dir_gex': '/Users/ecrosse/Desktop/data_for_edie_third_batch_january/WJK-2859_SRSF2_9/CellRangerGex_results', 'dir_dex': '/Users/ecrosse/Desktop/data_for_edie_third_batch_january/WJK-2859_SRSF2_9_dextramer_count/umi_count', 'dir_TCR': '/Users/ecrosse/Desktop/data_for_edie_third_batch_january/WJK-2859_SRSF2_9_TCR_VDJ/CellRangerVdj_results', 'dir_CITE': '/Users/ecrosse/Desktop/data_for_edie_third_batch_january/WJK-2859_SRSF2_9_hash_count/umi_count'}\n",
      "{'dir_gex': '/Users/ecrosse/Desktop/dextramer_data_for_edie_january_part_2/WJK-2864_SRSF2_10/CellRangerGex_results', 'dir_dex': '/Users/ecrosse/Desktop/dextramer_data_for_edie_january_part_2/WJK-2864_SRSF2_10_dextramer_count/umi_count', 'dir_TCR': '/Users/ecrosse/Desktop/dextramer_data_for_edie_january_part_2/WJK-2864_SRSF2_10_TCR_VDJ/CellRangerVdj_results', 'dir_CITE': '/Users/ecrosse/Desktop/dextramer_data_for_edie_january_part_2/WJK-2864_SRSF2_10_hash_count/umi_count'}\n"
     ]
    }
   ],
   "source": [
    "def set_directories(patient_id, base_dir):\n",
    "    \"\"\"\n",
    "    Generate a dictionary containing paths to relevant directories for a given patient.\n",
    "    \n",
    "    Parameters:\n",
    "    - patient_id (str): The unique identifier for the patient.\n",
    "    - base_dir (str): The base directory containing all patient data.\n",
    "    \n",
    "    Returns:\n",
    "    - dict: A dictionary with paths to gene expression, dextramer, TCR, and CITE-seq data.\n",
    "    \"\"\"\n",
    "    return {\n",
    "        \"dir_gex\": os.path.join(base_dir, f\"{patient_id}/CellRangerGex_results\"),\n",
    "        \"dir_dex\": os.path.join(base_dir, f\"{patient_id}_dextramer_count/umi_count\"),\n",
    "        \"dir_TCR\": os.path.join(base_dir, f\"{patient_id}_TCR_VDJ/CellRangerVdj_results\"),\n",
    "        \"dir_CITE\": os.path.join(base_dir, f\"{patient_id}_hash_count/umi_count\")\n",
    "    }\n",
    "\n",
    "# Define base directory and patient IDs\n",
    "base_dir = \"/Users/ecrosse/Desktop/\"\n",
    "\n",
    "# Set directories for each patient\n",
    "dirs_SRSF2_9 = set_directories(\"data_for_edie_third_batch_january/WJK-2859_SRSF2_9\", base_dir)\n",
    "dirs_SRSF2_10 = set_directories(\"dextramer_data_for_edie_january_part_2/WJK-2864_SRSF2_10\", base_dir)\n",
    "\n",
    "# Print to verify the directory structure\n",
    "print(dirs_SRSF2_9)\n",
    "print(dirs_SRSF2_10)\n"
   ]
  },
  {
   "cell_type": "markdown",
   "metadata": {},
   "source": [
    "Load gene expression into adata"
   ]
  },
  {
   "cell_type": "code",
   "execution_count": 401,
   "metadata": {},
   "outputs": [
    {
     "name": "stdout",
     "output_type": "stream",
     "text": [
      "/Users/ecrosse/Desktop/data_for_edie_third_batch_january/WJK-2859_SRSF2_9/CellRangerGex_results\n",
      "/Users/ecrosse/Desktop/data_for_edie_third_batch_january/WJK-2859_SRSF2_9_dextramer_count/umi_count\n",
      "/Users/ecrosse/Desktop/data_for_edie_third_batch_january/WJK-2859_SRSF2_9_hash_count/umi_count\n"
     ]
    },
    {
     "name": "stderr",
     "output_type": "stream",
     "text": [
      "/Library/Frameworks/Python.framework/Versions/3.10/lib/python3.10/site-packages/anndata/_core/anndata.py:1900: UserWarning: Variable names are not unique. To make them unique, call `.var_names_make_unique`.\n",
      "  utils.warn_names_duplicates(\"var\")\n",
      "/Library/Frameworks/Python.framework/Versions/3.10/lib/python3.10/site-packages/anndata/_core/anndata.py:1900: UserWarning: Variable names are not unique. To make them unique, call `.var_names_make_unique`.\n",
      "  utils.warn_names_duplicates(\"var\")\n"
     ]
    },
    {
     "data": {
      "text/plain": [
       "AnnData object with n_obs × n_vars = 8008 × 36601\n",
       "    var: 'gene_ids', 'feature_types', 'genome'"
      ]
     },
     "execution_count": 401,
     "metadata": {},
     "output_type": "execute_result"
    }
   ],
   "source": [
    "# Define paths\n",
    "dir_gex = dirs_SRSF2_9[\"dir_gex\"]\n",
    "dir_dex = dirs_SRSF2_9[\"dir_dex\"]\n",
    "dir_CITE = dirs_SRSF2_9[\"dir_CITE\"]\n",
    "\n",
    "print(dir_gex)\n",
    "print(dir_dex)\n",
    "print(dir_CITE)\n",
    "\n",
    "adata = sc.read_10x_h5(os.path.join(dir_gex, \"filtered_feature_bc_matrix.h5\"))\n",
    "adata.var_names_make_unique()\n",
    "adata"
   ]
  },
  {
   "cell_type": "markdown",
   "metadata": {},
   "source": [
    "Load CITE and Dextramer data"
   ]
  },
  {
   "cell_type": "code",
   "execution_count": 402,
   "metadata": {},
   "outputs": [
    {
     "name": "stdout",
     "output_type": "stream",
     "text": [
      "CITE-seq and Dextramer data successfully added to anndata.\n"
     ]
    }
   ],
   "source": [
    "# Load CITE-seq data\n",
    "cite_matrix = scipy.io.mmread(f\"{dir_CITE}/matrix.mtx.gz\").T.tocsr()\n",
    "cite_barcodes = pd.read_csv(f\"{dir_CITE}/barcodes.tsv.gz\", header=None, sep='\\t')[0].values + \"-1\"\n",
    "cite_features = pd.read_csv(f\"{dir_CITE}/features.tsv.gz\", header=None, sep='\\t')[1].values\n",
    "\n",
    "# Load Dextramer data\n",
    "dex_matrix = scipy.io.mmread(f\"{dir_dex}/matrix.mtx.gz\").T.tocsr()\n",
    "dex_barcodes = pd.read_csv(f\"{dir_dex}/barcodes.tsv.gz\", header=None, sep='\\t')[0].values + \"-1\"\n",
    "dex_features = pd.read_csv(f\"{dir_dex}/features.tsv.gz\", header=None, sep='\\t')[1].values\n",
    "\n",
    "# Find common barcodes across all datasets\n",
    "common_barcodes = list(set(adata.obs_names) & set(cite_barcodes) & set(dex_barcodes))\n",
    "\n",
    "# Subset adata to common barcodes\n",
    "adata = adata[adata.obs_names.isin(common_barcodes)].copy()\n",
    "\n",
    "# Ensure barcodes are in the same order\n",
    "cite_indices = np.array([np.where(cite_barcodes == bc)[0][0] for bc in adata.obs_names])\n",
    "dex_indices = np.array([np.where(dex_barcodes == bc)[0][0] for bc in adata.obs_names])\n",
    "\n",
    "cite_matrix = cite_matrix[cite_indices, :]\n",
    "dex_matrix = dex_matrix[dex_indices, :]\n",
    "\n",
    "# Store multimodal data in .obsm\n",
    "adata.obsm[\"CITE\"] = cite_matrix\n",
    "adata.obsm[\"Dextramer\"] = dex_matrix\n",
    "\n",
    "# Store feature names in .uns\n",
    "adata.uns[\"CITE_features\"] = cite_features\n",
    "adata.uns[\"Dextramer_features\"] = dex_features\n",
    "\n",
    "print(\"CITE-seq and Dextramer data successfully added to anndata.\")\n",
    "\n"
   ]
  },
  {
   "cell_type": "markdown",
   "metadata": {},
   "source": [
    "Write raw adata"
   ]
  },
  {
   "cell_type": "code",
   "execution_count": 403,
   "metadata": {},
   "outputs": [],
   "source": [
    "adata.write(\"adata_raw.h5ad\")"
   ]
  },
  {
   "cell_type": "markdown",
   "metadata": {},
   "source": [
    "QC steps"
   ]
  },
  {
   "cell_type": "code",
   "execution_count": 404,
   "metadata": {},
   "outputs": [],
   "source": [
    "# mitochondrial genes, \"MT-\" for human, \"Mt-\" for mouse\n",
    "adata.var[\"mt\"] = adata.var_names.str.startswith(\"MT-\")\n",
    "\n",
    "sc.pp.calculate_qc_metrics(\n",
    "    adata, qc_vars=[\"mt\"], percent_top=None, log1p=False, inplace=True\n",
    ")"
   ]
  },
  {
   "cell_type": "code",
   "execution_count": 405,
   "metadata": {},
   "outputs": [
    {
     "name": "stdout",
     "output_type": "stream",
     "text": [
      "       n_genes_by_counts  total_counts  total_counts_mt  pct_counts_mt\n",
      "count        7992.000000   7992.000000      7992.000000    7992.000000\n",
      "mean         1840.969094   4664.024902        42.327953       1.058015\n",
      "std           688.167250   2522.644531        40.968998       1.335171\n",
      "min            40.000000    500.000000         0.000000       0.000000\n",
      "25%          1481.000000   3430.000000        11.000000       0.309042\n",
      "50%          1794.000000   4375.000000        36.000000       0.857646\n",
      "75%          2104.250000   5321.250000        61.000000       1.360179\n",
      "max          6367.000000  30498.000000       752.000000      27.407408\n"
     ]
    }
   ],
   "source": [
    "print(adata.obs.describe())"
   ]
  },
  {
   "cell_type": "code",
   "execution_count": 406,
   "metadata": {},
   "outputs": [],
   "source": [
    "sc.pp.filter_cells(adata, min_genes=250)\n",
    "sc.pp.filter_genes(adata, min_cells=3)\n",
    "sc.pp.filter_cells(adata, min_counts=500)\n",
    "# Saving count data\n",
    "adata.layers[\"counts\"] = adata.X.copy()\n",
    "\n",
    "# Normalize data (log1p normalization)\n",
    "sc.pp.normalize_total(adata, target_sum=1e4)\n",
    "sc.pp.log1p(adata)"
   ]
  },
  {
   "cell_type": "code",
   "execution_count": 407,
   "metadata": {},
   "outputs": [
    {
     "name": "stderr",
     "output_type": "stream",
     "text": [
      "/Library/Frameworks/Python.framework/Versions/3.10/lib/python3.10/site-packages/scanpy/preprocessing/_highly_variable_genes.py:215: FutureWarning: The default of observed=False is deprecated and will be changed to True in a future version of pandas. Pass observed=False to retain current behavior or observed=True to adopt the future default and silence this warning.\n",
      "  disp_grouped = df.groupby('mean_bin')['dispersions']\n"
     ]
    }
   ],
   "source": [
    "sc.pp.highly_variable_genes(adata, n_top_genes=4000)\n",
    "\n",
    "# Filter out genes starting with \"TR\"\n",
    "variable_genes = adata.var[\"highly_variable\"]\n",
    "filtered_variable_genes = adata.var_names[variable_genes & ~adata.var_names.str.startswith(\"TR\")]\n",
    "# Update the list of highly variable genes\n",
    "adata.var[\"highly_variable\"] = adata.var_names.isin(filtered_variable_genes)\n"
   ]
  },
  {
   "cell_type": "code",
   "execution_count": 408,
   "metadata": {},
   "outputs": [],
   "source": [
    "# Scale the data\n",
    "sc.pp.scale(adata, max_value=10)  # Scale all genes"
   ]
  },
  {
   "cell_type": "markdown",
   "metadata": {},
   "source": [
    "VDJ integration"
   ]
  },
  {
   "cell_type": "code",
   "execution_count": 409,
   "metadata": {},
   "outputs": [
    {
     "name": "stdout",
     "output_type": "stream",
     "text": [
      "              barcode chain raw_clonotype_id    v_gene d_gene   j_gene c_gene  \\\n",
      "0  AAACCTGAGCCAGTAG-1   TRA     clonotype332   TRAV1-2    NaN   TRAJ12   TRAC   \n",
      "1  AAACCTGAGCCAGTAG-1   TRB     clonotype332   TRBV6-1  TRBD2  TRBJ2-1  TRBC2   \n",
      "2  AAACCTGAGGAGTTGC-1   TRA    clonotype1183  TRAV26-2    NaN   TRAJ49   TRAC   \n",
      "3  AAACCTGAGGAGTTGC-1   TRB    clonotype1183    TRBV19  TRBD1  TRBJ2-7  TRBC2   \n",
      "4  AAACCTGAGTACGACG-1   TRB       clonotype5    TRBV28    NaN  TRBJ1-1  TRBC1   \n",
      "\n",
      "                 cdr1_nt             cdr2_nt  \\\n",
      "0     ACATCTGGGTTCAACGGG  AATGTTCTGGATGGTTTG   \n",
      "1        ATGAACCATAACTCC  TCAGCTTCTGAGGGTACC   \n",
      "2  ACAATCAGTGGAACTGATTAC     GGTCTTACAAGCAAT   \n",
      "3        TTGAACCACGATGCC  TCACAGATAGTAAATGAC   \n",
      "4        ATGGACCATGAAAAT  TCATATGATGTTAAAATG   \n",
      "\n",
      "                                         cdr3_nt  \n",
      "0           TGTGCTGGGATGGATAGCAGCTATAAATTGATCTTC  \n",
      "1  TGTGCCAGCAGTGAACTAGCGGGAGGGTACAATGAGCAGTTCTTC  \n",
      "2           TGCATCCTGAGAGACTCGGATAACCAGTTCTATTTT  \n",
      "3  TGTGCCAGTAGCGACACCGGGACAGGACTCTACGAGCAGTACTTC  \n",
      "4           TGTGCCAGCAGATCCGGGACTACTGAAGCTTTCTTT  \n"
     ]
    }
   ],
   "source": [
    "# set TCR dir\n",
    "dir_TCR = dirs_SRSF2_9[\"dir_TCR\"]\n",
    "\n",
    "\n",
    "# Load V(D)J data\n",
    "vdj = pd.read_csv(f\"{dir_TCR}/filtered_contig_annotations.csv\")\n",
    "\n",
    "# Filtering steps\n",
    "tcr = vdj[\n",
    "    (vdj[\"high_confidence\"] == True) & \n",
    "    (vdj[\"chain\"].isin([\"TRA\", \"TRB\"])) & \n",
    "    (vdj[\"productive\"] == True) & \n",
    "    (vdj[\"umis\"] >= 3)\n",
    "][[\"barcode\", \"chain\", \"raw_clonotype_id\", \n",
    "   \"v_gene\", \"d_gene\", \"j_gene\", \"c_gene\", \n",
    "   \"cdr1_nt\", \"cdr2_nt\", \"cdr3_nt\"]]\n",
    "\n",
    "# Group by raw_clonotype_id and filter for entries that contain both TRA and TRB chains\n",
    "tcr = tcr.groupby(\"raw_clonotype_id\").filter(lambda g: any(g[\"chain\"] == \"TRA\") and any(g[\"chain\"] == \"TRB\"))\n",
    "\n",
    "# Reset index if needed\n",
    "tcr = tcr.reset_index(drop=True)\n",
    "\n",
    "# Print summary\n",
    "print(tcr.head())"
   ]
  },
  {
   "cell_type": "code",
   "execution_count": 410,
   "metadata": {},
   "outputs": [
    {
     "name": "stdout",
     "output_type": "stream",
     "text": [
      "                   raw_clonotype_id\n",
      "barcode                            \n",
      "AAACCTGAGCCAGTAG-1     clonotype332\n",
      "AAACCTGAGGAGTTGC-1    clonotype1183\n",
      "AAACCTGAGTACGACG-1       clonotype5\n",
      "AAACCTGCACGGTAAG-1     clonotype282\n",
      "AAACCTGCAGTCGATT-1      clonotype64\n"
     ]
    }
   ],
   "source": [
    "# Load clonotype data\n",
    "clono = pd.read_csv(f\"{dir_TCR}/clonotypes.csv\")\n",
    "\n",
    "# Select and rename columns\n",
    "clono = clono[[\"clonotype_id\", \"cdr3s_aa\", \"cdr3s_nt\"]].rename(columns={\"clonotype_id\": \"raw_clonotype_id\"})\n",
    "\n",
    "# Perform a left join with tcr on \"raw_clonotype_id\"\n",
    "tcr = tcr.merge(clono, on=\"raw_clonotype_id\", how=\"left\")\n",
    "\n",
    "# Select barcode and raw_clonotype_id\n",
    "clonotype_info = tcr[[\"barcode\", \"raw_clonotype_id\"]].drop_duplicates(subset=[\"barcode\"])\n",
    "\n",
    "# Set barcode as row index and drop barcode column\n",
    "clonotype_info = clonotype_info.set_index(\"barcode\")\n",
    "\n",
    "# Print the resulting dataframe\n",
    "print(clonotype_info.head())"
   ]
  },
  {
   "cell_type": "code",
   "execution_count": 411,
   "metadata": {},
   "outputs": [
    {
     "name": "stdout",
     "output_type": "stream",
     "text": [
      "                    n_genes_by_counts  total_counts  total_counts_mt  \\\n",
      "AAACCTGAGAGACTAT-1                605         854.0             16.0   \n",
      "AAACCTGAGCCAGTAG-1               1998        5492.0              0.0   \n",
      "AAACCTGAGGAGTTGC-1               1604        4560.0            100.0   \n",
      "AAACCTGAGTACGACG-1               1424        4033.0              7.0   \n",
      "AAACCTGCACAGTCGC-1               1722        4514.0             28.0   \n",
      "\n",
      "                    pct_counts_mt  n_genes  n_counts raw_clonotype_id  \n",
      "AAACCTGAGAGACTAT-1       1.873536      605     853.0              NaN  \n",
      "AAACCTGAGCCAGTAG-1       0.000000     1998    5492.0     clonotype332  \n",
      "AAACCTGAGGAGTTGC-1       2.192982     1604    4560.0    clonotype1183  \n",
      "AAACCTGAGTACGACG-1       0.173568     1424    4033.0       clonotype5  \n",
      "AAACCTGCACAGTCGC-1       0.620292     1722    4514.0              NaN  \n"
     ]
    }
   ],
   "source": [
    "# Add tcr to metadata\n",
    "adata.obs = adata.obs.join(clonotype_info, how=\"left\")\n",
    "\n",
    "# Check if the metadata was added\n",
    "print(adata.obs.head())\n"
   ]
  },
  {
   "cell_type": "markdown",
   "metadata": {},
   "source": [
    "CITE-Seq Dex+ cell determination"
   ]
  },
  {
   "cell_type": "code",
   "execution_count": 412,
   "metadata": {},
   "outputs": [],
   "source": [
    "def clr_transform(matrix, eps=1e-9):\n",
    "    \"\"\"Applies CLR transformation to an input matrix (cell-wise), optimized for sparse matrices.\"\"\"\n",
    "    if sp.issparse(matrix):\n",
    "        matrix = matrix.toarray()  # Convert sparse matrix to dense (if memory allows)\n",
    "    \n",
    "    gm = np.exp(np.mean(np.log(matrix + eps), axis=1, keepdims=True))  # Geometric mean per cell\n",
    "    return np.log((matrix + eps) / (gm + eps))  # Standard CLR transformation\n",
    "\n",
    "# Apply CLR to CITE-seq data\n",
    "adata.obsm[\"CITE_clr\"] = clr_transform(adata.obsm[\"CITE\"])\n",
    "\n"
   ]
  },
  {
   "cell_type": "code",
   "execution_count": 413,
   "metadata": {},
   "outputs": [
    {
     "data": {
      "image/png": "[encoded data removed]",
      "text/plain": [
       "<Figure size 700x500 with 1 Axes>"
      ]
     },
     "metadata": {},
     "output_type": "display_data"
    }
   ],
   "source": [
    "# Identify the index of the \"Hash\" column\n",
    "hash_col_index = np.where(adata.uns[\"CITE_features\"] == \"Hash\")[0][0]\n",
    "\n",
    "# Extract the Hash column\n",
    "hash_values = adata.obsm[\"CITE_clr\"][:, hash_col_index]\n",
    "\n",
    "# Plot density histogram\n",
    "plt.figure(figsize=(7, 5))\n",
    "sns.histplot(hash_values, kde=True, bins=50)\n",
    "\n",
    "plt.xlabel(\"CLR-transformed Hash expression\")\n",
    "plt.ylabel(\"Density\")\n",
    "plt.title(\"Histogram Density Plot of CITE_clr Hash Column\")\n",
    "plt.show()"
   ]
  },
  {
   "cell_type": "code",
   "execution_count": 414,
   "metadata": {},
   "outputs": [],
   "source": [
    "# Extract the Hash column from CITE_clr\n",
    "hash_counts = adata.obsm[\"CITE_clr\"][:, hash_col_index]\n",
    "\n",
    "# Store the extracted counts in adata.obs\n",
    "adata.obs[\"HashCounts\"] = hash_counts"
   ]
  },
  {
   "cell_type": "code",
   "execution_count": 415,
   "metadata": {},
   "outputs": [
    {
     "data": {
      "text/plain": [
       "manual_hash_dmux\n",
       "CITE_hash    4680\n",
       "Negative     3311\n",
       "Name: count, dtype: int64"
      ]
     },
     "execution_count": 415,
     "metadata": {},
     "output_type": "execute_result"
    }
   ],
   "source": [
    "# Create 'manual_hash_dmux' based on HashCounts threshold\n",
    "adata.obs[\"manual_hash_dmux\"] = np.where(adata.obs[\"HashCounts\"] > 0.8, \"CITE_hash\", \"Negative\")\n",
    "adata.obs[\"manual_hash_dmux\"].value_counts()\n"
   ]
  },
  {
   "cell_type": "code",
   "execution_count": 416,
   "metadata": {},
   "outputs": [],
   "source": [
    "import scipy.sparse as sp\n",
    "\n",
    "# Identify index of \"Unmapped\"\n",
    "unmapped_idx = np.where(adata.uns[\"Dextramer_features\"] == \"unmapped\")[0][0]\n",
    "\n",
    "# Remove \"Unmapped\" from feature list\n",
    "adata.uns[\"Dextramer_features\"] = np.delete(adata.uns[\"Dextramer_features\"], unmapped_idx)\n",
    "\n",
    "# Remove \"Unmapped\" from the Dextramer matrix\n",
    "adata.obsm[\"Dextramer\"] = sp.csr_matrix(np.delete(adata.obsm[\"Dextramer\"].toarray(), unmapped_idx, axis=1))\n"
   ]
  },
  {
   "cell_type": "code",
   "execution_count": 417,
   "metadata": {},
   "outputs": [
    {
     "name": "stdout",
     "output_type": "stream",
     "text": [
      "AAACCTGAGAGACTAT-1    10\n",
      "AAACCTGAGCCAGTAG-1    22\n",
      "AAACCTGAGGAGTTGC-1    18\n",
      "AAACCTGAGTACGACG-1    34\n",
      "AAACCTGCACAGTCGC-1    13\n",
      "Name: Dextramer_total_counts, dtype: int64\n"
     ]
    }
   ],
   "source": [
    "# Sum total dextramer counts per cell and store in .obs\n",
    "adata.obs[\"Dextramer_total_counts\"] = adata.obsm[\"Dextramer\"].sum(axis=1)\n",
    "\n",
    "# Verify the new column\n",
    "print(adata.obs[\"Dextramer_total_counts\"].head())\n"
   ]
  },
  {
   "cell_type": "code",
   "execution_count": 418,
   "metadata": {},
   "outputs": [
    {
     "data": {
      "image/png": "[encoded data removed]",
      "text/plain": [
       "<Figure size 1000x600 with 1 Axes>"
      ]
     },
     "metadata": {},
     "output_type": "display_data"
    }
   ],
   "source": [
    "# Create a boxplot of Dextramer total counts grouped by manual_hash_dmux categories\n",
    "plt.figure(figsize=(10, 6))\n",
    "sns.boxplot(data=adata.obs, x=\"manual_hash_dmux\", y=\"Dextramer_total_counts\")\n",
    "\n",
    "# Customize plot labels and title\n",
    "plt.xlabel(\"Dex Label (manual_hash_dmux)\")\n",
    "plt.ylabel(\"Total Dextramer Counts per Cell\")\n",
    "plt.title(\"Dextramer Total Counts Across Dex+ and Dex- Populations\")\n",
    "\n",
    "# Rotate x-axis labels if necessary for readability\n",
    "plt.xticks(rotation=45)\n",
    "\n",
    "plt.show()\n"
   ]
  },
  {
   "cell_type": "code",
   "execution_count": 419,
   "metadata": {},
   "outputs": [
    {
     "data": {
      "image/png": "[encoded data removed]",
      "text/plain": [
       "<Figure size 1200x600 with 1 Axes>"
      ]
     },
     "metadata": {},
     "output_type": "display_data"
    }
   ],
   "source": [
    "# Sum counts per dextramer across all cells\n",
    "dextramer_counts = np.array(adata.obsm[\"Dextramer\"].sum(axis=0)).flatten()\n",
    "\n",
    "# Plot\n",
    "plt.figure(figsize=(12, 6))\n",
    "plt.bar(adata.uns[\"Dextramer_features\"], dextramer_counts)\n",
    "plt.xticks(rotation=90)\n",
    "plt.xlabel(\"Dextramer\")\n",
    "plt.ylabel(\"Total Counts\")\n",
    "plt.title(\"Total Dextramer Counts Across All Cells\")\n",
    "plt.show()"
   ]
  },
  {
   "cell_type": "markdown",
   "metadata": {},
   "source": [
    "Start building the feature set"
   ]
  },
  {
   "cell_type": "code",
   "execution_count": 420,
   "metadata": {},
   "outputs": [
    {
     "name": "stdout",
     "output_type": "stream",
     "text": [
      "Mean of Z-scored dextramers (should be ~0): [-1.54932450e-16 -1.37823574e-16 -7.64832656e-17  6.80916411e-17\n",
      "  2.53388156e-16]\n",
      "Std of Z-scored dextramers (should be ~1): [1. 1. 1. 1. 1.]\n"
     ]
    }
   ],
   "source": [
    "# Extract dextramer matrix and convert to dense format\n",
    "#dex_matrix = adata.obsm[\"Dextramer\"].toarray()  # Convert sparse matrix to dense\n",
    "\n",
    "# Compute mean and standard deviation for each dextramer feature\n",
    "#dex_mean = np.mean(dex_matrix, axis=0)  # Mean per dextramer\n",
    "#dex_std = np.std(dex_matrix, axis=0)    # Std per dextramer\n",
    "\n",
    "# Apply Z-score normalization per dextramer\n",
    "#dex_zscore = (dex_matrix - dex_mean) / dex_std\n",
    "\n",
    "# Store the normalized dextramer signals back in adata\n",
    "#adata.obsm[\"Dextramer_zscore\"] = dex_zscore\n",
    "\n",
    "# Verify normalization by checking mean and std\n",
    "#zscore_means = np.mean(dex_zscore, axis=0)  # Should be close to 0\n",
    "#zscore_stds = np.std(dex_zscore, axis=0)    # Should be close to 1\n",
    "\n",
    "# Print sanity check results\n",
    "print(\"Mean of Z-scored dextramers (should be ~0):\", zscore_means[:5])\n",
    "print(\"Std of Z-scored dextramers (should be ~1):\", zscore_stds[:5])"
   ]
  },
  {
   "cell_type": "code",
   "execution_count": 364,
   "metadata": {},
   "outputs": [
    {
     "data": {
      "image/png": "[encoded data removed]",
      "text/plain": [
       "<Figure size 1200x600 with 1 Axes>"
      ]
     },
     "metadata": {},
     "output_type": "display_data"
    },
    {
     "name": "stdout",
     "output_type": "stream",
     "text": [
      "Top 10 dextramers with highest standard deviation:\n",
      "   Dextramer  Standard_Deviation\n",
      "19  SRSF2_21                 1.0\n",
      "31  SRSF2_33                 1.0\n",
      "44  SRSF2_46                 1.0\n",
      "28  SRSF2_30                 1.0\n",
      "10  SRSF2_12                 1.0\n",
      "36  SRSF2_38                 1.0\n",
      "21  SRSF2_23                 1.0\n",
      "13  SRSF2_15                 1.0\n",
      "40  SRSF2_42                 1.0\n",
      "29  SRSF2_31                 1.0\n"
     ]
    }
   ],
   "source": [
    "\n",
    "# Compute standard deviation for each dextramer after Z-score normalization\n",
    "#dex_std_values = np.std(adata.obsm[\"Dextramer_zscore\"], axis=0)\n",
    "\n",
    "# Convert to DataFrame for easier plotting\n",
    "#dex_std_df = pd.DataFrame({\"Dextramer\": adata.uns[\"Dextramer_features\"], \"Standard_Deviation\": dex_std_values})\n",
    "\n",
    "# Plot standard deviation distribution\n",
    "#plt.figure(figsize=(12, 6))\n",
    "#sns.histplot(dex_std_df[\"Standard_Deviation\"], bins=30, kde=True, color=\"blue\", alpha=0.7)\n",
    "\n",
    "#plt.xlabel(\"Standard Deviation of Z-scored Dextramers\")\n",
    "#plt.ylabel(\"Frequency\")\n",
    "#plt.title(\"Distribution of Standard Deviations Across Dextramers\")\n",
    "#plt.show()\n",
    "\n",
    "# Print top dextramers with highest standard deviation\n",
    "#dex_std_df_sorted = dex_std_df.sort_values(by=\"Standard_Deviation\", ascending=False)\n",
    "#print(\"Top 10 dextramers with highest standard deviation:\")\n",
    "#print(dex_std_df_sorted.head(10))"
   ]
  },
  {
   "cell_type": "markdown",
   "metadata": {},
   "source": [
    "Find the fold change for each cell of the dextramer signal compared to the mean in the Dex-"
   ]
  },
  {
   "cell_type": "code",
   "execution_count": 424,
   "metadata": {},
   "outputs": [
    {
     "name": "stdout",
     "output_type": "stream",
     "text": [
      "Shape of normalized dextramer matrix: (7991, 50)\n",
      "First few values of a random dextramer after normalization:\n",
      " [0. 0. 0. 0. 0.]\n"
     ]
    }
   ],
   "source": [
    "# Extract dextramer matrix as dense array\n",
    "dex_matrix = adata.obsm[\"Dextramer\"].toarray()\n",
    "\n",
    "# Extract Dex+ and Dex- labels\n",
    "dex_labels = adata.obs[\"manual_hash_dmux\"]\n",
    "\n",
    "# Identify Dex- cells (assumed to be background)\n",
    "dex_neg_cells = dex_labels == \"CITE_hash\"  \n",
    "\n",
    "# Compute the mean background signal for each dextramer using only Dex- cells\n",
    "dex_background = dex_matrix[dex_neg_cells].mean(axis=0)  # Mean per dextramer in Dex- cells\n",
    "\n",
    "# Normalize dextramer signals by their background (Fold-Change Enrichment)\n",
    "dex_fold_change = dex_matrix / dex_background\n",
    "\n",
    "# Apply log transformation to reduce extreme values (optional but recommended)\n",
    "dex_log_fc = np.log1p(dex_fold_change)  # log(1 + x) transformation\n",
    "\n",
    "# Store the background-normalized dextramer signals back in adata\n",
    "adata.obsm[\"Dextramer_norm\"] = dex_log_fc\n",
    "\n",
    "# Print sanity check\n",
    "print(\"Shape of normalized dextramer matrix:\", adata.obsm[\"Dextramer_norm\"].shape)\n",
    "print(\"First few values of a random dextramer after normalization:\\n\", dex_log_fc[:, 0][:5])"
   ]
  },
  {
   "cell_type": "code",
   "execution_count": 425,
   "metadata": {},
   "outputs": [
    {
     "data": {
      "image/png": "[encoded data removed]",
      "text/plain": [
       "<Figure size 1200x600 with 1 Axes>"
      ]
     },
     "metadata": {},
     "output_type": "display_data"
    }
   ],
   "source": [
    "# Select a few dextramers to visualize (randomly choosing 5 for now)\n",
    "num_features = adata.obsm[\"Dextramer_norm\"].shape[1]\n",
    "selected_dextramers = np.random.choice(num_features, size=5, replace=False)\n",
    "\n",
    "# Convert the selected dextramers into a DataFrame for easier plotting\n",
    "dex_norm_df = pd.DataFrame(adata.obsm[\"Dextramer_norm\"][:, selected_dextramers],\n",
    "                           columns=[adata.uns[\"Dextramer_features\"][i] for i in selected_dextramers])\n",
    "\n",
    "# Plot the density distribution of the selected dextramer signals\n",
    "plt.figure(figsize=(12, 6))\n",
    "for col in dex_norm_df.columns:\n",
    "    sns.kdeplot(dex_norm_df[col], label=col, fill=True, alpha=0.5)\n",
    "\n",
    "plt.xlabel(\"Background-Normalized (Log Fold-Change) Dextramer Signal\")\n",
    "plt.ylabel(\"Density\")\n",
    "plt.title(\"Distribution of Background-Normalized Dextramer Signals\")\n",
    "plt.legend(title=\"Dextramer Feature\")\n",
    "plt.show()"
   ]
  },
  {
   "cell_type": "markdown",
   "metadata": {},
   "source": [
    "Relative enrichment score per cell"
   ]
  },
  {
   "cell_type": "code",
   "execution_count": 429,
   "metadata": {},
   "outputs": [
    {
     "name": "stdout",
     "output_type": "stream",
     "text": [
      "Shape of Dex+ enrichment matrix: (7991, 50)\n",
      "First few values of a random dextramer after enrichment calculation:\n",
      " [-1.34340079 -1.34340079 -1.34340079 -1.34340079 -1.34340079]\n"
     ]
    }
   ],
   "source": [
    "# Identify Dex+ cells\n",
    "dex_pos_cells = dex_labels != \"CITE_hash\" \n",
    "\n",
    "# Compute mean dextramer signal across Dex+ cells (per dextramer)\n",
    "dex_mean_pos = dex_matrix[dex_pos_cells].mean(axis=0)  # Mean per dextramer in Dex+ cells\n",
    "\n",
    "# Compute relative enrichment: deviation from Dex+ mean (per dextramer, per cell)\n",
    "dex_enrichment = dex_matrix - dex_mean_pos  # Element-wise subtraction\n",
    "\n",
    "# Store in adata\n",
    "adata.obsm[\"Dextramer_enrichment\"] = dex_enrichment\n",
    "\n",
    "# Print sanity check\n",
    "print(\"Shape of Dex+ enrichment matrix:\", adata.obsm[\"Dextramer_enrichment\"].shape)\n",
    "print(\"First few values of a random dextramer after enrichment calculation:\\n\", dex_enrichment[:, 0][:5])"
   ]
  },
  {
   "cell_type": "code",
   "execution_count": 434,
   "metadata": {},
   "outputs": [
    {
     "data": {
      "image/png": "[encoded data removed]",
      "text/plain": [
       "<Figure size 800x500 with 1 Axes>"
      ]
     },
     "metadata": {},
     "output_type": "display_data"
    }
   ],
   "source": [
    "# Select a random dextramer (or a specific one)\n",
    "dex_idx = 43  # Change this to visualize a different dextramer\n",
    "dex_values = adata.obsm[\"Dextramer_enrichment\"][:, dex_idx]\n",
    "\n",
    "# Plot histogram\n",
    "plt.figure(figsize=(8, 5))\n",
    "plt.hist(dex_values, bins=50, alpha=0.7, color='b', edgecolor='k')\n",
    "plt.xlabel(\"Enrichment Score\")\n",
    "plt.ylabel(\"Cell Count\")\n",
    "plt.title(f\"Histogram of Enrichment for Dextramer {dex_idx}\")\n",
    "plt.show()"
   ]
  },
  {
   "cell_type": "markdown",
   "metadata": {},
   "source": [
    "Identify enriched clonotypes within Dex+ cells"
   ]
  },
  {
   "cell_type": "code",
   "execution_count": 435,
   "metadata": {},
   "outputs": [],
   "source": [
    "# Extract TCR clonotype IDs and Dex+/- labels\n",
    "clonotypes = adata.obs[\"raw_clonotype_id\"]\n",
    "dex_labels = adata.obs[\"manual_hash_dmux\"]\n",
    "\n",
    "# Identify Dex+ and Dex- cells based on corrected labels\n",
    "dex_pos_mask = dex_labels == \"Negative\"  # Dex+ group\n",
    "dex_neg_mask = dex_labels == \"CITE_hash\"  # Dex- group\n",
    "\n",
    "# Compute total number of cells in each group\n",
    "total_dex_pos = np.sum(dex_pos_mask)\n",
    "total_dex_neg = np.sum(dex_neg_mask)\n",
    "\n",
    "# Count occurrences of each clonotype in Dex+ and Dex- cells\n",
    "clonotype_counts = pd.DataFrame({\n",
    "    \"Dex+ Count\": clonotypes[dex_pos_mask].value_counts(),\n",
    "    \"Dex- Count\": clonotypes[dex_neg_mask].value_counts()\n",
    "}).fillna(0)\n",
    "\n",
    "\n",
    "# Compute frequency (proportion) in each group\n",
    "clonotype_counts[\"Dex+ Frequency\"] = clonotype_counts[\"Dex+ Count\"] / total_dex_pos\n",
    "clonotype_counts[\"Dex- Frequency\"] = clonotype_counts[\"Dex- Count\"] / total_dex_neg\n",
    "\n",
    "# Compute fold-change enrichment (log-scaled for better interpretability)\n",
    "clonotype_counts[\"Enrichment Ratio\"] = clonotype_counts[\"Dex+ Frequency\"] / (clonotype_counts[\"Dex- Frequency\"] + 1e-6)\n",
    "clonotype_counts[\"Log Enrichment\"] = np.log2(clonotype_counts[\"Enrichment Ratio\"] + 1e-6)\n",
    "\n",
    "\n",
    "# Store results in adata for later use\n",
    "adata.uns[\"clonotype_enrichment\"] = clonotype_counts"
   ]
  },
  {
   "cell_type": "code",
   "execution_count": 439,
   "metadata": {},
   "outputs": [
    {
     "name": "stdout",
     "output_type": "stream",
     "text": [
      "Top 10 TCR clonotypes enriched in Dex+ cells:\n",
      "                  Dex+ Count  Dex- Count  Dex+ Frequency  Dex- Frequency  \\\n",
      "raw_clonotype_id                                                           \n",
      "clonotype1             137.0       369.0        0.041377        0.078846   \n",
      "clonotype5             100.0       106.0        0.030202        0.022650   \n",
      "clonotype2             100.0       198.0        0.030202        0.042308   \n",
      "clonotype6              98.0        88.0        0.029598        0.018803   \n",
      "clonotype3              77.0       182.0        0.023256        0.038889   \n",
      "clonotype7              63.0        95.0        0.019027        0.020299   \n",
      "clonotype16             56.0         1.0        0.016913        0.000214   \n",
      "clonotype17             39.0        12.0        0.011779        0.002564   \n",
      "clonotype8              32.0        79.0        0.009665        0.016880   \n",
      "clonotype12             31.0        36.0        0.009363        0.007692   \n",
      "\n",
      "                  Enrichment Ratio  Log Enrichment  \n",
      "raw_clonotype_id                                    \n",
      "clonotype1                0.524778       -0.930219  \n",
      "clonotype5                1.333404        0.415115  \n",
      "clonotype2                0.713857       -0.486291  \n",
      "clonotype6                1.574008        0.654444  \n",
      "clonotype3                0.597991       -0.741801  \n",
      "clonotype7                0.937308       -0.093404  \n",
      "clonotype16              78.785617        6.299860  \n",
      "clonotype17               4.591987        2.199119  \n",
      "clonotype8                0.572511       -0.804622  \n",
      "clonotype12               1.216997        0.283326  \n"
     ]
    }
   ],
   "source": [
    "# Print top TCR clonotypes with highest enrichment\n",
    "print(\"Top 10 TCR clonotypes enriched in Dex+ cells:\")\n",
    "print(clonotype_counts.sort_values(by=\"Dex+ Frequency\", ascending=False).head(10))\n"
   ]
  },
  {
   "cell_type": "markdown",
   "metadata": {},
   "source": [
    "Dextramer rankings and Dextramer competition score (ie. the margin between top dextramers per cell)"
   ]
  },
  {
   "cell_type": "code",
   "execution_count": null,
   "metadata": {},
   "outputs": [],
   "source": [
    "# Use normalized dextramer data\n",
    "dex_matrix_norm = adata.obsm[\"Dextramer_norm\"]\n",
    "\n",
    "# Compute ranks within each cell\n",
    "dextramer_ranks = np.argsort(-dex_matrix_norm, axis=1)  # Descending order\n",
    "dextramer_rank_values = np.argsort(dextramer_ranks, axis=1) + 1  # Convert to rank (1 = highest)\n",
    "\n",
    "# Compute competition score\n",
    "sorted_dex_values = np.sort(dex_matrix_norm, axis=1)[:, ::-1]  # Sort values descending\n",
    "top_dextramer_signal = sorted_dex_values[:, 0]  # Strongest dextramer per cell\n",
    "second_strongest_signal = sorted_dex_values[:, 1]  # Second strongest dextramer per cell\n",
    "\n",
    "top_dextramer_margin = (top_dextramer_signal - second_strongest_signal) / (top_dextramer_signal + 1e-6)\n",
    "\n",
    "# Store in adata for ML use later\n",
    "adata.obsm[\"Dextramer_rank\"] = dextramer_rank_values  # Rank matrix per cell/dextramer\n",
    "adata.obs[\"Top_dextramer_margin\"] = top_dextramer_margin  # One value per cell\n"
   ]
  },
  {
   "cell_type": "code",
   "execution_count": 445,
   "metadata": {},
   "outputs": [],
   "source": [
    "# # Extract relevant data\n",
    "# clonotypes = adata.obs[\"raw_clonotype_id\"]\n",
    "# # dex_norm_matrix = adata.obsm[\"Dextramer_norm\"]\n",
    "# dex_labels = adata.obs[\"manual_hash_dmux\"]\n",
    "# dextramer_features = adata.uns[\"Dextramer_features\"]\n",
    "\n",
    "# # Convert dextramer signals to DataFrame\n",
    "# dex_df = pd.DataFrame(dex_norm_matrix, columns=dextramer_features, index=adata.obs.index)\n",
    "\n",
    "# # Group by clonotype and compute key statistics\n",
    "# clonotype_dex_features = dex_df.groupby(clonotypes).agg([\"mean\", \"max\", \"var\"])\n",
    "\n",
    "# # Flatten multi-index column names\n",
    "# clonotype_dex_features.columns = [\"_\".join(col).strip() for col in clonotype_dex_features.columns]\n",
    "\n",
    "# # Compute mean dextramer signals per clonotype\n",
    "# clonotype_mean_signal = dex_df.groupby(clonotypes).mean()\n",
    "\n",
    "# # Replace `inf` values in the normalized matrix to prevent them from affecting selection\n",
    "# clonotype_mean_signal.replace([np.inf, -np.inf], np.nan, inplace=True)\n",
    "\n",
    "# # Identify dominant dextramer per clonotype using a two-step approach:\n",
    "# # 1. Pick the dextramer with the highest raw mean signal\n",
    "# # 2. If there’s a tie or missing values, use the highest fold-change enrichment\n",
    "\n",
    "# clonotype_dominant_dex = clonotype_mean_signal.idxmax(axis=1)\n",
    "\n",
    "# # Compute fold-change enrichment for each dextramer in Dex+ vs. Dex-\n",
    "# dex_mean_pos = dex_df[dex_labels == \"Negative\"].groupby(clonotypes).mean()\n",
    "# dex_mean_neg = dex_df[dex_labels == \"CITE_hash\"].groupby(clonotypes).mean()\n",
    "\n",
    "# clonotype_fold_change = np.log2((dex_mean_pos + 1e-6) / (dex_mean_neg + 1e-6))  # Log fold-change\n",
    "\n",
    "# # Merge fold-change data with feature matrix\n",
    "# clonotype_dex_features = clonotype_dex_features.merge(clonotype_fold_change, left_index=True, right_index=True, suffixes=(\"\", \"_logFC\"))\n",
    "\n",
    "# # Store the updated dominant dextramer selection\n",
    "# clonotype_dex_features[\"Dominant_Dextramer\"] = clonotype_dominant_dex\n",
    "\n",
    "# # Store in adata for future use\n",
    "# adata.uns[\"clonotype_dex_features\"] = clonotype_dex_features\n",
    "\n",
    "# # Print summary\n",
    "# print(\"Top Clonotypes with Dominant Dextramer:\")\n",
    "# print(clonotype_dex_features[[\"Dominant_Dextramer\"]].head(10))\n",
    "\n",
    "# # Check updated dominant dextramer for clonotype16\n",
    "# print(\"Dominant Dextramer for clonotype16:\", clonotype_dex_features.loc[\"clonotype16\", \"Dominant_Dextramer\"])\n"
   ]
  },
  {
   "cell_type": "code",
   "execution_count": 446,
   "metadata": {},
   "outputs": [],
   "source": [
    "# # Separate Dex+ and Dex- populations\n",
    "# dex_pos_mask = adata.obs[\"manual_hash_dmux\"] == \"Negative\"  # Dex+ cells\n",
    "# dex_neg_mask = adata.obs[\"manual_hash_dmux\"] == \"CITE_hash\"  # Dex- cells\n",
    "\n",
    "# # Compute mean dextramer expression for Dex+ and Dex-\n",
    "# dex_mean_pos = X_dextramers.loc[dex_pos_mask, dex_numeric_cols].mean()\n",
    "# dex_mean_neg = X_dextramers.loc[dex_neg_mask, dex_numeric_cols].mean()\n",
    "\n",
    "# # Compute Log Fold-Change (LFC) Score\n",
    "# dex_specificity_score = np.log2((dex_mean_pos + 1e-6) / (dex_mean_neg + 1e-6))\n",
    "\n",
    "# # Add specificity score to feature matrix\n",
    "# for dex in dex_numeric_cols:\n",
    "#     X_dextramers[dex + \"_LFC\"] = dex_specificity_score[dex]\n",
    "\n",
    "# # Print example specificity scores\n",
    "# print(\"🔍 Example Dextramer Specificity Scores (LFC):\")\n",
    "# print(dex_specificity_score.sort_values(ascending=False))"
   ]
  },
  {
   "cell_type": "code",
   "execution_count": 447,
   "metadata": {},
   "outputs": [],
   "source": [
    "# from sklearn.preprocessing import LabelEncoder\n",
    "# import numpy as np\n",
    "# import pandas as pd\n",
    "\n",
    "# ### **1️⃣ Load Normalized Dextramer Data**\n",
    "# # Convert sparse normalized dextramer matrix to dense DataFrame\n",
    "# X_dextramers = pd.DataFrame(\n",
    "#     adata.obsm[\"Dextramer_norm\"],  # Use normalized dextramer signals\n",
    "#     columns=adata.uns[\"Dextramer_features\"],\n",
    "#     index=adata.obs.index\n",
    "# )\n",
    "\n",
    "# # Keep all other metadata features (Dex+ status, Clonotype info)\n",
    "# X_dextramers[\"Dex_Status\"] = (adata.obs[\"manual_hash_dmux\"] == \"Negative\").astype(int)\n",
    "# X_dextramers[\"Clonotype\"] = adata.obs[\"raw_clonotype_id\"]\n",
    "\n",
    "# ### **2️⃣ Compute Clonotype Expansion**\n",
    "# clonotype_counts = adata.obs[\"raw_clonotype_id\"].value_counts()\n",
    "# X_dextramers[\"Clonotype_Expansion\"] = X_dextramers[\"Clonotype\"].map(clonotype_counts)\n",
    "# X_dextramers[\"Expanded_Clonotype\"] = (X_dextramers[\"Clonotype_Expansion\"] > 50).astype(int)\n",
    "\n",
    "# ### **3️⃣ Compute Dextramer Specificity Score (Log Fold-Change)**\n",
    "# # Separate Dex+ and Dex- populations\n",
    "# dex_pos_mask = adata.obs[\"manual_hash_dmux\"] == \"Negative\"  # Dex+ cells\n",
    "# dex_neg_mask = adata.obs[\"manual_hash_dmux\"] == \"CITE_hash\"  # Dex- cells\n",
    "\n",
    "# # Compute mean dextramer expression for Dex+ and Dex-\n",
    "# dex_mean_pos = X_dextramers.loc[dex_pos_mask, X_dextramers.columns[:-3]].mean()\n",
    "# dex_mean_neg = X_dextramers.loc[dex_neg_mask, X_dextramers.columns[:-3]].mean()\n",
    "\n",
    "# # Compute Log Fold-Change (LFC) Score\n",
    "# dex_specificity_score = np.log2((dex_mean_pos + 1e-6) / (dex_mean_neg + 1e-6))\n",
    "\n",
    "# # Add LFC scores as new features\n",
    "# for dex in dex_specificity_score.index:\n",
    "#     X_dextramers[dex + \"_LFC\"] = dex_specificity_score[dex]\n",
    "\n",
    "# # Print example specificity scores\n",
    "# print(\"🔍 Example Dextramer Specificity Scores (LFC):\")\n",
    "# print(dex_specificity_score.sort_values(ascending=False).head(10))\n",
    "\n",
    "# ### **4️⃣ Remove the \"Unmapped\" Dextramer**\n",
    "# if \"unmapped\" in X_dextramers.columns:\n",
    "#     X_dextramers.drop(columns=[\"unmapped\"], inplace=True)\n",
    "\n",
    "# ### **5️⃣ Define Target (`y` = Most Strongly Expressed Dextramer)**\n",
    "# dex_numeric_cols = [\n",
    "#     col for col in X_dextramers.columns\n",
    "#     if col in adata.uns[\"Dextramer_features\"] and \"AboveMean\" not in col and \"_LFC\" not in col\n",
    "# ]\n",
    "\n",
    "# # Find the dextramer with the strongest signal per cell\n",
    "# y = X_dextramers[dex_numeric_cols].idxmax(axis=1)\n",
    "\n",
    "# print(\"📊 Target Distribution After Removing 'Unmapped' Dextramer:\")\n",
    "# print(y.value_counts())\n",
    "\n",
    "# # **6️⃣ Handle Rare Dextramers Before Splitting**\n",
    "# dex_counts = y.value_counts()\n",
    "# rare_dextramers = dex_counts[dex_counts < 2].index.tolist()\n",
    "# valid_samples = y.isin(rare_dextramers) == False\n",
    "# X_dextramers = X_dextramers.loc[valid_samples]\n",
    "# y = y.loc[valid_samples]\n",
    "\n",
    "# # Ensure indices match before encoding\n",
    "# common_indices = X_dextramers.index.intersection(y.index)\n",
    "# X_dextramers = X_dextramers.loc[common_indices]\n",
    "# y = y.loc[common_indices]\n",
    "\n",
    "# # Encode target labels\n",
    "# label_encoder = LabelEncoder()\n",
    "# y_encoded = label_encoder.fit_transform(y)\n",
    "\n",
    "# print(f\"✅ X_dextramers shape: {X_dextramers.shape}\")\n",
    "# print(f\"✅ y_encoded shape: {y_encoded.shape}\")\n"
   ]
  },
  {
   "cell_type": "code",
   "execution_count": 448,
   "metadata": {},
   "outputs": [
    {
     "data": {
      "text/plain": [
       "AnnData object with n_obs × n_vars = 7991 × 20412\n",
       "    obs: 'n_genes_by_counts', 'total_counts', 'total_counts_mt', 'pct_counts_mt', 'n_genes', 'n_counts', 'raw_clonotype_id', 'HashCounts', 'manual_hash_dmux', 'Dextramer_total_counts', 'Top_dextramer_margin'\n",
       "    var: 'gene_ids', 'feature_types', 'genome', 'mt', 'n_cells_by_counts', 'mean_counts', 'pct_dropout_by_counts', 'total_counts', 'n_cells', 'highly_variable', 'means', 'dispersions', 'dispersions_norm', 'mean', 'std'\n",
       "    uns: 'CITE_features', 'Dextramer_features', 'log1p', 'hvg', 'clonotype_enrichment'\n",
       "    obsm: 'CITE', 'Dextramer', 'CITE_clr', 'Dextramer_norm', 'Dextramer_enrichment', 'Dextramer_rank'\n",
       "    layers: 'counts'"
      ]
     },
     "execution_count": 448,
     "metadata": {},
     "output_type": "execute_result"
    }
   ],
   "source": [
    "adata"
   ]
  },
  {
   "cell_type": "code",
   "execution_count": 372,
   "metadata": {},
   "outputs": [
    {
     "name": "stdout",
     "output_type": "stream",
     "text": [
      "✅ Clonotype Encoding Completed\n"
     ]
    }
   ],
   "source": [
    "# from sklearn.model_selection import train_test_split\n",
    "# from sklearn.preprocessing import LabelEncoder\n",
    "# import numpy as np\n",
    "\n",
    "# ### **6️⃣ Encode Clonotype Before Splitting**\n",
    "# # Combine all Clonotype values before encoding (to prevent unseen labels)\n",
    "# all_clonotypes = pd.concat([X_dextramers[\"Clonotype\"]])\n",
    "\n",
    "# # Fit encoder on full Clonotype list\n",
    "# clonotype_encoder = LabelEncoder()\n",
    "# clonotype_encoder.fit(all_clonotypes)\n",
    "\n",
    "# # Encode Clonotype in train & test sets\n",
    "# X_dextramers[\"Clonotype_Encoded\"] = clonotype_encoder.transform(X_dextramers[\"Clonotype\"])\n",
    "\n",
    "# # Drop original Clonotype column\n",
    "# X_dextramers = X_dextramers.drop(columns=[\"Clonotype\"])\n",
    "\n",
    "# print(\"✅ Clonotype Encoding Completed\")"
   ]
  },
  {
   "cell_type": "code",
   "execution_count": 373,
   "metadata": {},
   "outputs": [
    {
     "name": "stdout",
     "output_type": "stream",
     "text": [
      "🔍 Example Soft Labels (Dex+ vs. Dex- Specificity Scores):\n",
      "AAACCTGAGAGACTAT-1    0.178996\n",
      "AAACCTGAGCCAGTAG-1    0.291622\n",
      "AAACCTGAGGAGTTGC-1    0.300828\n",
      "AAACCTGAGTACGACG-1    0.212602\n",
      "AAACCTGCACAGTCGC-1    0.281525\n",
      "AAACCTGCACGGTAAG-1    0.281525\n",
      "AAACCTGCAGTCGATT-1    0.169288\n",
      "AAACCTGGTATAGTAG-1    0.199301\n",
      "AAACCTGGTCTTCAAG-1    0.271035\n",
      "AAACCTGGTGAGCGAT-1    0.354658\n",
      "dtype: float64\n"
     ]
    }
   ],
   "source": [
    "# # Ensure soft labels match each cell’s strongest dextramer signal\n",
    "# y_prob = X_dextramers[dex_numeric_cols].idxmax(axis=1).map(dex_specificity_score)\n",
    "\n",
    "# # Normalize between 0 and 1\n",
    "# y_prob = (y_prob - y_prob.min()) / (y_prob.max() - y_prob.min())\n",
    "\n",
    "# # Clip to ensure no values go beyond [0,1]\n",
    "# y_prob = np.clip(y_prob, 0, 1)\n",
    "\n",
    "# # Fill NaNs (if any) with 0\n",
    "# y = y_prob.fillna(0)\n",
    "\n",
    "# print(\"🔍 Example Soft Labels (Dex+ vs. Dex- Specificity Scores):\")\n",
    "# print(y.head(10))\n"
   ]
  },
  {
   "cell_type": "code",
   "execution_count": 374,
   "metadata": {},
   "outputs": [
    {
     "name": "stdout",
     "output_type": "stream",
     "text": [
      "📊 Training Samples: 6392, Test Samples: 1599\n",
      "🔍 Checking for NaNs in X_train: 2249\n",
      "🔍 Checking for NaNs in X_test: 559\n",
      "🔍 Checking for remaining inf values in X_train: 0\n",
      "🔍 Checking for remaining inf values in X_test: 0\n",
      "✅ Train-Test Split and Data Cleaning Completed\n"
     ]
    }
   ],
   "source": [
    "# ### **8️⃣ Split the Data Into Training and Test Sets**\n",
    "# X_train, X_test, y_train, y_test = train_test_split(\n",
    "#     X_dextramers, y, test_size=0.2, random_state=42, stratify=None  # No stratification for soft labels\n",
    "# )\n",
    "\n",
    "# print(f\"📊 Training Samples: {X_train.shape[0]}, Test Samples: {X_test.shape[0]}\")\n",
    "\n",
    "# # Check for missing values before training\n",
    "# print(\"🔍 Checking for NaNs in X_train:\", X_train.isna().sum().sum())\n",
    "# print(\"🔍 Checking for NaNs in X_test:\", X_test.isna().sum().sum())\n",
    "\n",
    "# # Fix: Fill missing values with 0 (or use another imputation method if needed)\n",
    "# X_train.fillna(0, inplace=True)\n",
    "# X_test.fillna(0, inplace=True)\n",
    "\n",
    "# # Replace inf and -inf values with 0\n",
    "# X_train.replace([np.inf, -np.inf], 0, inplace=True)\n",
    "# X_test.replace([np.inf, -np.inf], 0, inplace=True)\n",
    "\n",
    "# # Confirm fix\n",
    "# print(\"🔍 Checking for remaining inf values in X_train:\", np.isinf(X_train).sum().sum())\n",
    "# print(\"🔍 Checking for remaining inf values in X_test:\", np.isinf(X_test).sum().sum())\n",
    "\n",
    "# print(\"✅ Train-Test Split and Data Cleaning Completed\")\n",
    "\n"
   ]
  },
  {
   "cell_type": "code",
   "execution_count": 375,
   "metadata": {},
   "outputs": [
    {
     "name": "stdout",
     "output_type": "stream",
     "text": [
      "📊 Model Performance: Mean Squared Error = 0.0041\n",
      "✅ Model Training and Evaluation Completed\n"
     ]
    }
   ],
   "source": [
    "# from sklearn.ensemble import RandomForestRegressor\n",
    "# from sklearn.metrics import mean_squared_error\n",
    "\n",
    "# ### **9️⃣ Train Random Forest Model (Regression)**\n",
    "# rf_model = RandomForestRegressor(\n",
    "#     n_estimators=200,  # Number of trees\n",
    "#     random_state=42,\n",
    "#     n_jobs=-1  # Use all CPU cores\n",
    "# )\n",
    "\n",
    "# rf_model.fit(X_train, y_train)\n",
    "\n",
    "# # Predict on the test set\n",
    "# y_pred = rf_model.predict(X_test)\n",
    "\n",
    "# # Evaluate model performance\n",
    "# mse = mean_squared_error(y_test, y_pred)\n",
    "# print(f\"📊 Model Performance: Mean Squared Error = {mse:.4f}\")\n",
    "\n",
    "# print(\"✅ Model Training and Evaluation Completed\")\n"
   ]
  },
  {
   "cell_type": "code",
   "execution_count": 376,
   "metadata": {},
   "outputs": [
    {
     "name": "stdout",
     "output_type": "stream",
     "text": [
      "🔍 Top Predicted Dextramer-TCR Bindings:\n",
      "                      TCR_Clonotype  Predicted_Binding_Probability  \\\n",
      "Most_Likely_Dextramer                                                \n",
      "SRSF2_43                 clonotype2                       1.000000   \n",
      "SRSF2_47                        NaN                       0.547612   \n",
      "SRSF2_31                        NaN                       0.534786   \n",
      "SRSF2_3                         NaN                       0.518349   \n",
      "SRSF2_21                        NaN                       0.464452   \n",
      "SRSF2_35                 clonotype1                       0.459353   \n",
      "SRSF2_8                 clonotype33                       0.455032   \n",
      "SRSF2_30                clonotype47                       0.450884   \n",
      "SRSF2_11                        NaN                       0.447202   \n",
      "SRSF2_42               clonotype760                       0.437065   \n",
      "SRSF2_16               clonotype695                       0.430037   \n",
      "SRSF2_32               clonotype985                       0.416694   \n",
      "SRSF2_13                        NaN                       0.410978   \n",
      "SRSF2_12                        NaN                       0.409141   \n",
      "SRSF2_1                         NaN                       0.408875   \n",
      "SRSF2_2                         NaN                       0.398910   \n",
      "SRSF2_4                         NaN                       0.393444   \n",
      "SRSF2_44               clonotype775                       0.383231   \n",
      "SRSF2_10               clonotype104                       0.382183   \n",
      "SRSF2_6                clonotype118                       0.380373   \n",
      "\n",
      "                      Most_Likely_Dextramer  \n",
      "Most_Likely_Dextramer                        \n",
      "SRSF2_43                           SRSF2_43  \n",
      "SRSF2_47                           SRSF2_47  \n",
      "SRSF2_31                           SRSF2_31  \n",
      "SRSF2_3                             SRSF2_3  \n",
      "SRSF2_21                           SRSF2_21  \n",
      "SRSF2_35                           SRSF2_35  \n",
      "SRSF2_8                             SRSF2_8  \n",
      "SRSF2_30                           SRSF2_30  \n",
      "SRSF2_11                           SRSF2_11  \n",
      "SRSF2_42                           SRSF2_42  \n",
      "SRSF2_16                           SRSF2_16  \n",
      "SRSF2_32                           SRSF2_32  \n",
      "SRSF2_13                           SRSF2_13  \n",
      "SRSF2_12                           SRSF2_12  \n",
      "SRSF2_1                             SRSF2_1  \n",
      "SRSF2_2                             SRSF2_2  \n",
      "SRSF2_4                             SRSF2_4  \n",
      "SRSF2_44                           SRSF2_44  \n",
      "SRSF2_10                           SRSF2_10  \n",
      "SRSF2_6                             SRSF2_6  \n"
     ]
    }
   ],
   "source": [
    "# # Create a DataFrame to store actual vs. predicted binding probabilities\n",
    "# results_df = pd.DataFrame({\n",
    "#     \"TCR_Clonotype\": X_test.index.map(adata.obs[\"raw_clonotype_id\"]),\n",
    "#     \"Predicted_Binding_Probability\": y_pred,\n",
    "#     \"Most_Likely_Dextramer\": X_test[dex_numeric_cols].idxmax(axis=1)  # Find the strongest predicted dextramer per cell\n",
    "# })\n",
    "\n",
    "# # Group by dextramer to find the clonotype with the highest mean predicted binding score\n",
    "# top_dextramer_bindings = results_df.groupby(\"Most_Likely_Dextramer\").apply(\n",
    "#     lambda x: x.loc[x[\"Predicted_Binding_Probability\"].idxmax()]\n",
    "# )\n",
    "\n",
    "# # Sort by highest predicted probability\n",
    "# top_dextramer_bindings_sorted = top_dextramer_bindings.sort_values(by=\"Predicted_Binding_Probability\", ascending=False)\n",
    "\n",
    "# # Display top 20 dextramers and their most likely binding clonotype\n",
    "# print(\"🔍 Top Predicted Dextramer-TCR Bindings:\")\n",
    "# print(top_dextramer_bindings_sorted.head(20))\n",
    "\n"
   ]
  },
  {
   "cell_type": "code",
   "execution_count": 377,
   "metadata": {},
   "outputs": [
    {
     "data": {
      "text/plain": [
       "<Figure size 1200x600 with 0 Axes>"
      ]
     },
     "metadata": {},
     "output_type": "display_data"
    },
    {
     "data": {
      "image/png": "[encoded data removed]",
      "text/plain": [
       "<Figure size 640x480 with 1 Axes>"
      ]
     },
     "metadata": {},
     "output_type": "display_data"
    }
   ],
   "source": [
    "# # Plot top 10 dextramers and their strongest binding clonotype\n",
    "# plt.figure(figsize=(12, 6))\n",
    "# top_dextramer_bindings_sorted.head(10).plot(\n",
    "#     kind=\"barh\", x=\"Most_Likely_Dextramer\", y=\"Predicted_Binding_Probability\", color=\"blue\", alpha=0.7\n",
    "# )\n",
    "# plt.xlabel(\"Predicted Binding Probability\")\n",
    "# plt.ylabel(\"Dextramer\")\n",
    "# plt.title(\"Top Predicted Dextramer-TCR Bindings\")\n",
    "# plt.show()"
   ]
  },
  {
   "cell_type": "code",
   "execution_count": 378,
   "metadata": {},
   "outputs": [
    {
     "name": "stdout",
     "output_type": "stream",
     "text": [
      "🔍 Top Predicted Dextramer-TCR Bindings (Filtered for Dex+ Enrichment):\n",
      "                       TCR_Clonotype  Predicted_Binding_Probability  \\\n",
      "Most_Likely_Dextramer                                                 \n",
      "SRSF2_43                 clonotype16                       0.996909   \n",
      "SRSF2_47               clonotype1310                       0.547612   \n",
      "SRSF2_31                 clonotype16                       0.440145   \n",
      "SRSF2_16                clonotype555                       0.417186   \n",
      "SRSF2_35               clonotype1460                       0.384840   \n",
      "SRSF2_42               clonotype1445                       0.381751   \n",
      "SRSF2_10                clonotype717                       0.352307   \n",
      "SRSF2_4                 clonotype573                       0.348740   \n",
      "SRSF2_11                clonotype584                       0.327048   \n",
      "SRSF2_12               clonotype1213                       0.318232   \n",
      "SRSF2_39               clonotype1334                       0.309664   \n",
      "SRSF2_34               clonotype1343                       0.302067   \n",
      "SRSF2_5                clonotype1489                       0.281692   \n",
      "SRSF2_30                clonotype955                       0.272940   \n",
      "SRSF2_33                clonotype266                       0.248202   \n",
      "SRSF2_32               clonotype1220                       0.248038   \n",
      "SRSF2_36               clonotype1195                       0.245714   \n",
      "SRSF2_20               clonotype1488                       0.244541   \n",
      "SRSF2_8                clonotype1478                       0.242526   \n",
      "SRSF2_19                clonotype420                       0.240144   \n",
      "\n",
      "                      Most_Likely_Dextramer  \n",
      "Most_Likely_Dextramer                        \n",
      "SRSF2_43                           SRSF2_43  \n",
      "SRSF2_47                           SRSF2_47  \n",
      "SRSF2_31                           SRSF2_31  \n",
      "SRSF2_16                           SRSF2_16  \n",
      "SRSF2_35                           SRSF2_35  \n",
      "SRSF2_42                           SRSF2_42  \n",
      "SRSF2_10                           SRSF2_10  \n",
      "SRSF2_4                             SRSF2_4  \n",
      "SRSF2_11                           SRSF2_11  \n",
      "SRSF2_12                           SRSF2_12  \n",
      "SRSF2_39                           SRSF2_39  \n",
      "SRSF2_34                           SRSF2_34  \n",
      "SRSF2_5                             SRSF2_5  \n",
      "SRSF2_30                           SRSF2_30  \n",
      "SRSF2_33                           SRSF2_33  \n",
      "SRSF2_32                           SRSF2_32  \n",
      "SRSF2_36                           SRSF2_36  \n",
      "SRSF2_20                           SRSF2_20  \n",
      "SRSF2_8                             SRSF2_8  \n",
      "SRSF2_19                           SRSF2_19  \n"
     ]
    }
   ],
   "source": [
    "# # Get counts of clonotypes in Dex+ (Negative) and Dex- (CITE_hash)\n",
    "# clonotype_counts = adata.obs.groupby([\"raw_clonotype_id\", \"manual_hash_dmux\"]).size().unstack(fill_value=0)\n",
    "\n",
    "# # Ensure Dex+ (Negative) and Dex- (CITE_hash) exist in the dataframe\n",
    "# clonotype_counts = clonotype_counts.rename(columns={\"Negative\": \"Dex+\", \"CITE_hash\": \"Dex-\"})\n",
    "\n",
    "# # Compute the proportion of each clonotype in Dex+ (Negative)\n",
    "# clonotype_counts[\"Dex+_Proportion\"] = clonotype_counts[\"Dex+\"] / clonotype_counts.sum(axis=1)\n",
    "\n",
    "# # Set a threshold for Dex+ dominance (e.g., at least 60% Dex+ to be considered a binder)\n",
    "# dex_positive_threshold = 0.8\n",
    "# valid_clonotypes = clonotype_counts[clonotype_counts[\"Dex+_Proportion\"] > dex_positive_threshold].index\n",
    "\n",
    "# # Filter X_test and results_df to only include clonotypes passing the Dex+ threshold\n",
    "# X_test_filtered = X_test[X_test.index.map(adata.obs[\"raw_clonotype_id\"]).isin(valid_clonotypes)]\n",
    "# results_df_filtered = results_df[results_df[\"TCR_Clonotype\"].isin(valid_clonotypes)]\n",
    "\n",
    "# # Recalculate top predicted dextramer bindings\n",
    "# top_dextramer_bindings_filtered = results_df_filtered.groupby(\"Most_Likely_Dextramer\").apply(\n",
    "#     lambda x: x.loc[x[\"Predicted_Binding_Probability\"].idxmax()]\n",
    "# )\n",
    "\n",
    "# # Sort by probability\n",
    "# top_dextramer_bindings_filtered = top_dextramer_bindings_filtered.sort_values(by=\"Predicted_Binding_Probability\", ascending=False)\n",
    "\n",
    "# # Display updated results\n",
    "# print(\"🔍 Top Predicted Dextramer-TCR Bindings (Filtered for Dex+ Enrichment):\")\n",
    "# print(top_dextramer_bindings_filtered.head(20))\n",
    "\n"
   ]
  },
  {
   "cell_type": "code",
   "execution_count": 379,
   "metadata": {},
   "outputs": [
    {
     "data": {
      "image/png": "[encoded data removed]",
      "text/plain": [
       "<Figure size 1200x600 with 1 Axes>"
      ]
     },
     "metadata": {},
     "output_type": "display_data"
    }
   ],
   "source": [
    "# import matplotlib.pyplot as plt\n",
    "# import seaborn as sns\n",
    "# import pandas as pd\n",
    "\n",
    "# # Get counts of clonotypes in Dex+ (Negative) and Dex- (CITE_hash)\n",
    "# clonotype_counts = adata.obs.groupby([\"raw_clonotype_id\", \"manual_hash_dmux\"]).size().unstack(fill_value=0)\n",
    "\n",
    "# # Ensure Dex+ (Negative) and Dex- (CITE_hash) exist in the dataframe\n",
    "# clonotype_counts = clonotype_counts.rename(columns={\"Negative\": \"Dex+\", \"CITE_hash\": \"Dex-\"})\n",
    "\n",
    "# # Compute the proportion of each clonotype in Dex+ and Dex-\n",
    "# clonotype_counts[\"Dex+_Proportion\"] = clonotype_counts[\"Dex+\"] / clonotype_counts.sum(axis=1)\n",
    "# clonotype_counts[\"Dex-_Proportion\"] = clonotype_counts[\"Dex-\"] / clonotype_counts.sum(axis=1)\n",
    "\n",
    "# # Sort clonotypes by total count and select top 50\n",
    "# top_50_clonotypes = clonotype_counts.sum(axis=1).nlargest(50).index\n",
    "# clonotype_counts_top50 = clonotype_counts.loc[top_50_clonotypes]\n",
    "\n",
    "# # Melt dataframe for plotting\n",
    "# clonotype_counts_top50_melted = clonotype_counts_top50.reset_index().melt(\n",
    "#     id_vars=\"raw_clonotype_id\", value_vars=[\"Dex+_Proportion\", \"Dex-_Proportion\"],\n",
    "#     var_name=\"group\", value_name=\"Proportion\"\n",
    "# )\n",
    "\n",
    "# # Plot frequencies of top 50 clonotypes in Dex+ vs Dex-\n",
    "# plt.figure(figsize=(12, 6))\n",
    "# sns.barplot(\n",
    "#     data=clonotype_counts_top50_melted,\n",
    "#     x=\"raw_clonotype_id\", y=\"Proportion\", hue=\"group\",\n",
    "#     palette={\"Dex+_Proportion\": \"blue\", \"Dex-_Proportion\": \"red\"}\n",
    "# )\n",
    "# plt.xticks(rotation=90)\n",
    "# plt.xlabel(\"Clonotype ID number\")\n",
    "# plt.ylabel(\"Proportion of total cells\")\n",
    "# plt.title(\"Proportion of Clonotypes 1 to 50 in Dex+ (Negative) vs. Dex- (CITE_hash)\")\n",
    "# plt.legend(title=\"Group\", labels=[\"Dex+\", \"Dex-\"])\n",
    "# plt.show()\n"
   ]
  },
  {
   "cell_type": "markdown",
   "metadata": {},
   "source": [
    "New model (random forest)"
   ]
  },
  {
   "cell_type": "code",
   "execution_count": 541,
   "metadata": {},
   "outputs": [],
   "source": [
    "# 1️⃣ Extract Cell-Level Features from `obs`\n",
    "cell_features = adata.obs[[\"raw_clonotype_id\", \"Top_dextramer_margin\"]].copy()\n",
    "\n",
    "# Compute clonotype count\n",
    "clonotype_counts = adata.obs[\"raw_clonotype_id\"].value_counts().to_dict()\n",
    "cell_features[\"clonotype_count\"] = cell_features[\"raw_clonotype_id\"].map(clonotype_counts)  # ✅ Added clonotype count\n",
    "\n",
    "# 2️⃣ Extract Dextramer-Level Features from `obsm`\n",
    "dex_norm_df = pd.DataFrame(adata.obsm[\"Dextramer_norm\"], index=adata.obs_names)\n",
    "dex_rank_df = pd.DataFrame(adata.obsm[\"Dextramer_rank\"], index=adata.obs_names)\n",
    "dex_enrich_df = pd.DataFrame(adata.obsm[\"Dextramer_enrichment\"], index=adata.obs_names)  # ✅ Added enrichment\n",
    "\n",
    "# 3️⃣ Melt the data to create a (cell, dextramer) pair structure\n",
    "dex_norm_melted = dex_norm_df.reset_index().melt(id_vars=\"index\", var_name=\"dextramer\", value_name=\"dex_norm\")\n",
    "dex_rank_melted = dex_rank_df.reset_index().melt(id_vars=\"index\", var_name=\"dextramer\", value_name=\"dex_rank\")\n",
    "dex_enrich_melted = dex_enrich_df.reset_index().melt(id_vars=\"index\", var_name=\"dextramer\", value_name=\"dex_enrich\")  # ✅ Included enrichment\n",
    "\n",
    "# 4️⃣ Merge all dextramer-related features\n",
    "dex_features = dex_norm_melted.merge(dex_rank_melted, on=[\"index\", \"dextramer\"]).merge(dex_enrich_melted, on=[\"index\", \"dextramer\"])  # ✅ Included enrichment\n",
    "\n",
    "# 5️⃣ Merge with Cell-Level Features (now includes clonotype count)\n",
    "X = pd.merge(dex_features, cell_features, left_on=\"index\", right_index=True)\n",
    "\n",
    "# Rename index for clarity\n",
    "X.rename(columns={\"index\": \"cell_id\"}, inplace=True)\n"
   ]
  },
  {
   "cell_type": "code",
   "execution_count": 542,
   "metadata": {},
   "outputs": [
    {
     "name": "stdout",
     "output_type": "stream",
     "text": [
      "Example dextramer mapping: [(0, 'SRSF2_1'), (1, 'SRSF2_2'), (2, 'SRSF2_3'), (3, 'SRSF2_4'), (4, 'SRSF2_5'), (5, 'SRSF2_6'), (6, 'SRSF2_8'), (7, 'SRSF2_9'), (8, 'SRSF2_10'), (9, 'SRSF2_11')]\n"
     ]
    }
   ],
   "source": [
    "# Fill missing clonotype IDs with \"Unknown\"\n",
    "X[\"raw_clonotype_id\"] = X[\"raw_clonotype_id\"].fillna(\"_no_clonotype_\")\n",
    "\n",
    "# Fill missing clonotype counts with 0\n",
    "X[\"clonotype_count\"] = X[\"clonotype_count\"].fillna(0)\n",
    "\n",
    "# Assuming dextramer feature names are stored in adata.var_names\n",
    "dextramer_names = list(adata.uns[\"Dextramer_features\"])  # This should contain actual dextramer names\n",
    "\n",
    "# Create mapping from index to name\n",
    "dex_index_to_name = {i: name for i, name in enumerate(dextramer_names)}\n",
    "\n",
    "# Print a few mappings to verify\n",
    "print(\"Example dextramer mapping:\", list(dex_index_to_name.items())[:10])"
   ]
  },
  {
   "cell_type": "code",
   "execution_count": 543,
   "metadata": {},
   "outputs": [],
   "source": [
    "# Apply mapping\n",
    "X[\"dextramer\"] = X[\"dextramer\"].map(dex_index_to_name)"
   ]
  },
  {
   "cell_type": "code",
   "execution_count": null,
   "metadata": {},
   "outputs": [
    {
     "data": {
      "text/html": [
       "<div>\n",
       "<style scoped>\n",
       "    .dataframe tbody tr th:only-of-type {\n",
       "        vertical-align: middle;\n",
       "    }\n",
       "\n",
       "    .dataframe tbody tr th {\n",
       "        vertical-align: top;\n",
       "    }\n",
       "\n",
       "    .dataframe thead th {\n",
       "        text-align: right;\n",
       "    }\n",
       "</style>\n",
       "<table border=\"1\" class=\"dataframe\">\n",
       "  <thead>\n",
       "    <tr style=\"text-align: right;\">\n",
       "      <th></th>\n",
       "      <th>cell_id</th>\n",
       "      <th>dextramer</th>\n",
       "      <th>dex_norm</th>\n",
       "      <th>dex_rank</th>\n",
       "      <th>dex_enrich</th>\n",
       "      <th>raw_clonotype_id</th>\n",
       "      <th>Top_dextramer_margin</th>\n",
       "      <th>clonotype_count</th>\n",
       "      <th>Log Enrichment</th>\n",
       "    </tr>\n",
       "  </thead>\n",
       "  <tbody>\n",
       "    <tr>\n",
       "      <th>0</th>\n",
       "      <td>AAACCTGAGAGACTAT-1</td>\n",
       "      <td>SRSF2_1</td>\n",
       "      <td>0.000000</td>\n",
       "      <td>15</td>\n",
       "      <td>-1.343401</td>\n",
       "      <td>_no_clonotype_</td>\n",
       "      <td>0.029817</td>\n",
       "      <td>0.0</td>\n",
       "      <td>NaN</td>\n",
       "    </tr>\n",
       "    <tr>\n",
       "      <th>7991</th>\n",
       "      <td>AAACCTGAGAGACTAT-1</td>\n",
       "      <td>SRSF2_2</td>\n",
       "      <td>0.000000</td>\n",
       "      <td>29</td>\n",
       "      <td>-1.691634</td>\n",
       "      <td>_no_clonotype_</td>\n",
       "      <td>0.029817</td>\n",
       "      <td>0.0</td>\n",
       "      <td>NaN</td>\n",
       "    </tr>\n",
       "    <tr>\n",
       "      <th>15982</th>\n",
       "      <td>AAACCTGAGAGACTAT-1</td>\n",
       "      <td>SRSF2_3</td>\n",
       "      <td>0.000000</td>\n",
       "      <td>30</td>\n",
       "      <td>-0.380248</td>\n",
       "      <td>_no_clonotype_</td>\n",
       "      <td>0.029817</td>\n",
       "      <td>0.0</td>\n",
       "      <td>NaN</td>\n",
       "    </tr>\n",
       "    <tr>\n",
       "      <th>23973</th>\n",
       "      <td>AAACCTGAGAGACTAT-1</td>\n",
       "      <td>SRSF2_4</td>\n",
       "      <td>0.000000</td>\n",
       "      <td>31</td>\n",
       "      <td>-0.294171</td>\n",
       "      <td>_no_clonotype_</td>\n",
       "      <td>0.029817</td>\n",
       "      <td>0.0</td>\n",
       "      <td>NaN</td>\n",
       "    </tr>\n",
       "    <tr>\n",
       "      <th>31964</th>\n",
       "      <td>AAACCTGAGAGACTAT-1</td>\n",
       "      <td>SRSF2_5</td>\n",
       "      <td>0.000000</td>\n",
       "      <td>32</td>\n",
       "      <td>-0.288432</td>\n",
       "      <td>_no_clonotype_</td>\n",
       "      <td>0.029817</td>\n",
       "      <td>0.0</td>\n",
       "      <td>NaN</td>\n",
       "    </tr>\n",
       "    <tr>\n",
       "      <th>...</th>\n",
       "      <td>...</td>\n",
       "      <td>...</td>\n",
       "      <td>...</td>\n",
       "      <td>...</td>\n",
       "      <td>...</td>\n",
       "      <td>...</td>\n",
       "      <td>...</td>\n",
       "      <td>...</td>\n",
       "      <td>...</td>\n",
       "    </tr>\n",
       "    <tr>\n",
       "      <th>367585</th>\n",
       "      <td>TTTGTCATCATAAAGG-1</td>\n",
       "      <td>SRSF2_47</td>\n",
       "      <td>0.000000</td>\n",
       "      <td>20</td>\n",
       "      <td>-0.257928</td>\n",
       "      <td>clonotype3</td>\n",
       "      <td>0.231058</td>\n",
       "      <td>259.0</td>\n",
       "      <td>-0.741801</td>\n",
       "    </tr>\n",
       "    <tr>\n",
       "      <th>375576</th>\n",
       "      <td>TTTGTCATCATAAAGG-1</td>\n",
       "      <td>Positive_CMV</td>\n",
       "      <td>0.000000</td>\n",
       "      <td>15</td>\n",
       "      <td>-0.514648</td>\n",
       "      <td>clonotype3</td>\n",
       "      <td>0.231058</td>\n",
       "      <td>259.0</td>\n",
       "      <td>-0.741801</td>\n",
       "    </tr>\n",
       "    <tr>\n",
       "      <th>383567</th>\n",
       "      <td>TTTGTCATCATAAAGG-1</td>\n",
       "      <td>Negative_1</td>\n",
       "      <td>0.000000</td>\n",
       "      <td>11</td>\n",
       "      <td>-2.037451</td>\n",
       "      <td>clonotype3</td>\n",
       "      <td>0.231058</td>\n",
       "      <td>259.0</td>\n",
       "      <td>-0.741801</td>\n",
       "    </tr>\n",
       "    <tr>\n",
       "      <th>391558</th>\n",
       "      <td>TTTGTCATCATAAAGG-1</td>\n",
       "      <td>Negative_2</td>\n",
       "      <td>0.000000</td>\n",
       "      <td>27</td>\n",
       "      <td>-0.548475</td>\n",
       "      <td>clonotype3</td>\n",
       "      <td>0.231058</td>\n",
       "      <td>259.0</td>\n",
       "      <td>-0.741801</td>\n",
       "    </tr>\n",
       "    <tr>\n",
       "      <th>399549</th>\n",
       "      <td>TTTGTCATCATAAAGG-1</td>\n",
       "      <td>Negative_3</td>\n",
       "      <td>0.840518</td>\n",
       "      <td>8</td>\n",
       "      <td>0.087889</td>\n",
       "      <td>clonotype3</td>\n",
       "      <td>0.231058</td>\n",
       "      <td>259.0</td>\n",
       "      <td>-0.741801</td>\n",
       "    </tr>\n",
       "  </tbody>\n",
       "</table>\n",
       "<p>399550 rows × 9 columns</p>\n",
       "</div>"
      ],
      "text/plain": [
       "                   cell_id     dextramer  dex_norm  dex_rank  dex_enrich  \\\n",
       "0       AAACCTGAGAGACTAT-1       SRSF2_1  0.000000        15   -1.343401   \n",
       "7991    AAACCTGAGAGACTAT-1       SRSF2_2  0.000000        29   -1.691634   \n",
       "15982   AAACCTGAGAGACTAT-1       SRSF2_3  0.000000        30   -0.380248   \n",
       "23973   AAACCTGAGAGACTAT-1       SRSF2_4  0.000000        31   -0.294171   \n",
       "31964   AAACCTGAGAGACTAT-1       SRSF2_5  0.000000        32   -0.288432   \n",
       "...                    ...           ...       ...       ...         ...   \n",
       "367585  TTTGTCATCATAAAGG-1      SRSF2_47  0.000000        20   -0.257928   \n",
       "375576  TTTGTCATCATAAAGG-1  Positive_CMV  0.000000        15   -0.514648   \n",
       "383567  TTTGTCATCATAAAGG-1    Negative_1  0.000000        11   -2.037451   \n",
       "391558  TTTGTCATCATAAAGG-1    Negative_2  0.000000        27   -0.548475   \n",
       "399549  TTTGTCATCATAAAGG-1    Negative_3  0.840518         8    0.087889   \n",
       "\n",
       "       raw_clonotype_id  Top_dextramer_margin  clonotype_count  Log Enrichment  \n",
       "0        _no_clonotype_              0.029817              0.0             NaN  \n",
       "7991     _no_clonotype_              0.029817              0.0             NaN  \n",
       "15982    _no_clonotype_              0.029817              0.0             NaN  \n",
       "23973    _no_clonotype_              0.029817              0.0             NaN  \n",
       "31964    _no_clonotype_              0.029817              0.0             NaN  \n",
       "...                 ...                   ...              ...             ...  \n",
       "367585       clonotype3              0.231058            259.0       -0.741801  \n",
       "375576       clonotype3              0.231058            259.0       -0.741801  \n",
       "383567       clonotype3              0.231058            259.0       -0.741801  \n",
       "391558       clonotype3              0.231058            259.0       -0.741801  \n",
       "399549       clonotype3              0.231058            259.0       -0.741801  \n",
       "\n",
       "[399550 rows x 9 columns]"
      ]
     },
     "execution_count": 544,
     "metadata": {},
     "output_type": "execute_result"
    }
   ],
   "source": [
    "# Convert stored enrichment DataFrame from adata.uns\n",
    "clono_enrich_df = adata.uns[\"clonotype_enrichment\"]\n",
    "\n",
    "# Just keep the 'Log Enrichment' column (or whatever you want)\n",
    "clono_enrich_df = clono_enrich_df[[\"Log Enrichment\"]]\n",
    "\n",
    "# Merge into your X DataFrame by raw_clonotype_id\n",
    "X = X.merge(clono_enrich_df, left_on=\"raw_clonotype_id\", right_index=True, how=\"left\")\n"
   ]
  },
  {
   "cell_type": "code",
   "execution_count": 545,
   "metadata": {},
   "outputs": [
    {
     "name": "stdout",
     "output_type": "stream",
     "text": [
      "      raw_clonotype_id  clonotype_enrichment\n",
      "0       _no_clonotype_                   0.0\n",
      "7991    _no_clonotype_                   0.0\n",
      "15982   _no_clonotype_                   0.0\n",
      "23973   _no_clonotype_                   0.0\n",
      "31964   _no_clonotype_                   0.0\n"
     ]
    }
   ],
   "source": [
    "\n",
    "# Rename for consistency\n",
    "X.rename(columns={\"Log Enrichment\": \"clonotype_enrichment\"}, inplace=True)\n",
    "\n",
    "# Fill missing enrichment values with 0\n",
    "X[\"clonotype_enrichment\"] = X[\"clonotype_enrichment\"].fillna(0)\n",
    "\n",
    "# Sanity check\n",
    "print(X[[\"raw_clonotype_id\", \"clonotype_enrichment\"]].head())"
   ]
  },
  {
   "cell_type": "code",
   "execution_count": 546,
   "metadata": {},
   "outputs": [
    {
     "data": {
      "text/html": [
       "<div>\n",
       "<style scoped>\n",
       "    .dataframe tbody tr th:only-of-type {\n",
       "        vertical-align: middle;\n",
       "    }\n",
       "\n",
       "    .dataframe tbody tr th {\n",
       "        vertical-align: top;\n",
       "    }\n",
       "\n",
       "    .dataframe thead th {\n",
       "        text-align: right;\n",
       "    }\n",
       "</style>\n",
       "<table border=\"1\" class=\"dataframe\">\n",
       "  <thead>\n",
       "    <tr style=\"text-align: right;\">\n",
       "      <th></th>\n",
       "      <th>cell_id</th>\n",
       "      <th>dextramer</th>\n",
       "      <th>dex_norm</th>\n",
       "      <th>dex_rank</th>\n",
       "      <th>dex_enrich</th>\n",
       "      <th>raw_clonotype_id</th>\n",
       "      <th>Top_dextramer_margin</th>\n",
       "      <th>clonotype_count</th>\n",
       "      <th>clonotype_enrichment</th>\n",
       "    </tr>\n",
       "  </thead>\n",
       "  <tbody>\n",
       "    <tr>\n",
       "      <th>0</th>\n",
       "      <td>AAACCTGAGAGACTAT-1</td>\n",
       "      <td>SRSF2_1</td>\n",
       "      <td>0.000000</td>\n",
       "      <td>15</td>\n",
       "      <td>-1.343401</td>\n",
       "      <td>_no_clonotype_</td>\n",
       "      <td>0.029817</td>\n",
       "      <td>0.0</td>\n",
       "      <td>0.000000</td>\n",
       "    </tr>\n",
       "    <tr>\n",
       "      <th>7991</th>\n",
       "      <td>AAACCTGAGAGACTAT-1</td>\n",
       "      <td>SRSF2_2</td>\n",
       "      <td>0.000000</td>\n",
       "      <td>29</td>\n",
       "      <td>-1.691634</td>\n",
       "      <td>_no_clonotype_</td>\n",
       "      <td>0.029817</td>\n",
       "      <td>0.0</td>\n",
       "      <td>0.000000</td>\n",
       "    </tr>\n",
       "    <tr>\n",
       "      <th>15982</th>\n",
       "      <td>AAACCTGAGAGACTAT-1</td>\n",
       "      <td>SRSF2_3</td>\n",
       "      <td>0.000000</td>\n",
       "      <td>30</td>\n",
       "      <td>-0.380248</td>\n",
       "      <td>_no_clonotype_</td>\n",
       "      <td>0.029817</td>\n",
       "      <td>0.0</td>\n",
       "      <td>0.000000</td>\n",
       "    </tr>\n",
       "    <tr>\n",
       "      <th>23973</th>\n",
       "      <td>AAACCTGAGAGACTAT-1</td>\n",
       "      <td>SRSF2_4</td>\n",
       "      <td>0.000000</td>\n",
       "      <td>31</td>\n",
       "      <td>-0.294171</td>\n",
       "      <td>_no_clonotype_</td>\n",
       "      <td>0.029817</td>\n",
       "      <td>0.0</td>\n",
       "      <td>0.000000</td>\n",
       "    </tr>\n",
       "    <tr>\n",
       "      <th>31964</th>\n",
       "      <td>AAACCTGAGAGACTAT-1</td>\n",
       "      <td>SRSF2_5</td>\n",
       "      <td>0.000000</td>\n",
       "      <td>32</td>\n",
       "      <td>-0.288432</td>\n",
       "      <td>_no_clonotype_</td>\n",
       "      <td>0.029817</td>\n",
       "      <td>0.0</td>\n",
       "      <td>0.000000</td>\n",
       "    </tr>\n",
       "    <tr>\n",
       "      <th>...</th>\n",
       "      <td>...</td>\n",
       "      <td>...</td>\n",
       "      <td>...</td>\n",
       "      <td>...</td>\n",
       "      <td>...</td>\n",
       "      <td>...</td>\n",
       "      <td>...</td>\n",
       "      <td>...</td>\n",
       "      <td>...</td>\n",
       "    </tr>\n",
       "    <tr>\n",
       "      <th>367585</th>\n",
       "      <td>TTTGTCATCATAAAGG-1</td>\n",
       "      <td>SRSF2_47</td>\n",
       "      <td>0.000000</td>\n",
       "      <td>20</td>\n",
       "      <td>-0.257928</td>\n",
       "      <td>clonotype3</td>\n",
       "      <td>0.231058</td>\n",
       "      <td>259.0</td>\n",
       "      <td>-0.741801</td>\n",
       "    </tr>\n",
       "    <tr>\n",
       "      <th>375576</th>\n",
       "      <td>TTTGTCATCATAAAGG-1</td>\n",
       "      <td>Positive_CMV</td>\n",
       "      <td>0.000000</td>\n",
       "      <td>15</td>\n",
       "      <td>-0.514648</td>\n",
       "      <td>clonotype3</td>\n",
       "      <td>0.231058</td>\n",
       "      <td>259.0</td>\n",
       "      <td>-0.741801</td>\n",
       "    </tr>\n",
       "    <tr>\n",
       "      <th>383567</th>\n",
       "      <td>TTTGTCATCATAAAGG-1</td>\n",
       "      <td>Negative_1</td>\n",
       "      <td>0.000000</td>\n",
       "      <td>11</td>\n",
       "      <td>-2.037451</td>\n",
       "      <td>clonotype3</td>\n",
       "      <td>0.231058</td>\n",
       "      <td>259.0</td>\n",
       "      <td>-0.741801</td>\n",
       "    </tr>\n",
       "    <tr>\n",
       "      <th>391558</th>\n",
       "      <td>TTTGTCATCATAAAGG-1</td>\n",
       "      <td>Negative_2</td>\n",
       "      <td>0.000000</td>\n",
       "      <td>27</td>\n",
       "      <td>-0.548475</td>\n",
       "      <td>clonotype3</td>\n",
       "      <td>0.231058</td>\n",
       "      <td>259.0</td>\n",
       "      <td>-0.741801</td>\n",
       "    </tr>\n",
       "    <tr>\n",
       "      <th>399549</th>\n",
       "      <td>TTTGTCATCATAAAGG-1</td>\n",
       "      <td>Negative_3</td>\n",
       "      <td>0.840518</td>\n",
       "      <td>8</td>\n",
       "      <td>0.087889</td>\n",
       "      <td>clonotype3</td>\n",
       "      <td>0.231058</td>\n",
       "      <td>259.0</td>\n",
       "      <td>-0.741801</td>\n",
       "    </tr>\n",
       "  </tbody>\n",
       "</table>\n",
       "<p>399550 rows × 9 columns</p>\n",
       "</div>"
      ],
      "text/plain": [
       "                   cell_id     dextramer  dex_norm  dex_rank  dex_enrich  \\\n",
       "0       AAACCTGAGAGACTAT-1       SRSF2_1  0.000000        15   -1.343401   \n",
       "7991    AAACCTGAGAGACTAT-1       SRSF2_2  0.000000        29   -1.691634   \n",
       "15982   AAACCTGAGAGACTAT-1       SRSF2_3  0.000000        30   -0.380248   \n",
       "23973   AAACCTGAGAGACTAT-1       SRSF2_4  0.000000        31   -0.294171   \n",
       "31964   AAACCTGAGAGACTAT-1       SRSF2_5  0.000000        32   -0.288432   \n",
       "...                    ...           ...       ...       ...         ...   \n",
       "367585  TTTGTCATCATAAAGG-1      SRSF2_47  0.000000        20   -0.257928   \n",
       "375576  TTTGTCATCATAAAGG-1  Positive_CMV  0.000000        15   -0.514648   \n",
       "383567  TTTGTCATCATAAAGG-1    Negative_1  0.000000        11   -2.037451   \n",
       "391558  TTTGTCATCATAAAGG-1    Negative_2  0.000000        27   -0.548475   \n",
       "399549  TTTGTCATCATAAAGG-1    Negative_3  0.840518         8    0.087889   \n",
       "\n",
       "       raw_clonotype_id  Top_dextramer_margin  clonotype_count  \\\n",
       "0        _no_clonotype_              0.029817              0.0   \n",
       "7991     _no_clonotype_              0.029817              0.0   \n",
       "15982    _no_clonotype_              0.029817              0.0   \n",
       "23973    _no_clonotype_              0.029817              0.0   \n",
       "31964    _no_clonotype_              0.029817              0.0   \n",
       "...                 ...                   ...              ...   \n",
       "367585       clonotype3              0.231058            259.0   \n",
       "375576       clonotype3              0.231058            259.0   \n",
       "383567       clonotype3              0.231058            259.0   \n",
       "391558       clonotype3              0.231058            259.0   \n",
       "399549       clonotype3              0.231058            259.0   \n",
       "\n",
       "        clonotype_enrichment  \n",
       "0                   0.000000  \n",
       "7991                0.000000  \n",
       "15982               0.000000  \n",
       "23973               0.000000  \n",
       "31964               0.000000  \n",
       "...                      ...  \n",
       "367585             -0.741801  \n",
       "375576             -0.741801  \n",
       "383567             -0.741801  \n",
       "391558             -0.741801  \n",
       "399549             -0.741801  \n",
       "\n",
       "[399550 rows x 9 columns]"
      ]
     },
     "execution_count": 546,
     "metadata": {},
     "output_type": "execute_result"
    }
   ],
   "source": [
    "X"
   ]
  },
  {
   "cell_type": "markdown",
   "metadata": {},
   "source": [
    "Code to incorporate partial ground truth"
   ]
  },
  {
   "cell_type": "code",
   "execution_count": 547,
   "metadata": {},
   "outputs": [
    {
     "name": "stdout",
     "output_type": "stream",
     "text": [
      "Label distribution:\n",
      " 0    399493\n",
      "1        57\n",
      "Name: count, dtype: int64\n"
     ]
    }
   ],
   "source": [
    "# Manually define the known true binder\n",
    "known_true_pairs = [(\"clonotype16\", \"SRSF2_31\")]\n",
    "\n",
    "# Initialize y as all zeros (assume non-binder by default)\n",
    "y = pd.Series(0, index=X.index)\n",
    "\n",
    "# Set y = 1 for known true binders\n",
    "y.loc[X[[\"raw_clonotype_id\", \"dextramer\"]].apply(tuple, axis=1).isin(known_true_pairs)] = 1\n",
    "\n",
    "print(\"Label distribution:\\n\", y.value_counts())\n"
   ]
  },
  {
   "cell_type": "code",
   "execution_count": 548,
   "metadata": {},
   "outputs": [
    {
     "name": "stdout",
     "output_type": "stream",
     "text": [
      "Model Accuracy: 1.0000\n",
      "Classification Report:\n",
      "               precision    recall  f1-score   support\n",
      "\n",
      "           0       1.00      1.00      1.00     79899\n",
      "           1       1.00      0.91      0.95        11\n",
      "\n",
      "    accuracy                           1.00     79910\n",
      "   macro avg       1.00      0.95      0.98     79910\n",
      "weighted avg       1.00      1.00      1.00     79910\n",
      "\n"
     ]
    }
   ],
   "source": [
    "from sklearn.model_selection import train_test_split\n",
    "from sklearn.ensemble import RandomForestClassifier\n",
    "from sklearn.metrics import accuracy_score, classification_report\n",
    "\n",
    "# Define features (excluding non-numeric columns)\n",
    "feature_cols = [\n",
    "    \"dex_norm\",\n",
    "    \"dex_rank\",\n",
    "    \"dex_enrich\",\n",
    "    \"Top_dextramer_margin\",\n",
    "    \"clonotype_count\",\n",
    "    \"clonotype_enrichment\"  # <- new feature!\n",
    "]\n",
    "\n",
    "X_model = X[feature_cols]  # Feature matrix\n",
    "y_model = y  # Target variable\n",
    "\n",
    "# Split into training (80%) and test (20%)\n",
    "X_train, X_test, y_train, y_test = train_test_split(X_model, y_model, test_size=0.2, random_state=42, stratify=y)\n",
    "\n",
    "# Train Random Forest\n",
    "rf_model = RandomForestClassifier(n_estimators=100, random_state=42, class_weight=\"balanced\")\n",
    "rf_model.fit(X_train, y_train)\n",
    "\n",
    "# Predict on test set\n",
    "y_pred = rf_model.predict(X_test)\n",
    "\n",
    "# Evaluate performance\n",
    "accuracy = accuracy_score(y_test, y_pred)\n",
    "report = classification_report(y_test, y_pred)\n",
    "\n",
    "print(f\"Model Accuracy: {accuracy:.4f}\")\n",
    "print(\"Classification Report:\\n\", report)\n"
   ]
  },
  {
   "cell_type": "code",
   "execution_count": 549,
   "metadata": {},
   "outputs": [
    {
     "name": "stdout",
     "output_type": "stream",
     "text": [
      "Index(['cell_id', 'dextramer', 'dex_norm', 'dex_rank', 'dex_enrich',\n",
      "       'raw_clonotype_id', 'Top_dextramer_margin', 'clonotype_count',\n",
      "       'clonotype_enrichment'],\n",
      "      dtype='object')\n",
      "count    399550.000000\n",
      "mean         -1.079862\n",
      "std           5.505596\n",
      "min         -19.931569\n",
      "25%          -0.741801\n",
      "50%           0.000000\n",
      "75%           0.000000\n",
      "max          10.560445\n",
      "Name: clonotype_enrichment, dtype: float64\n"
     ]
    }
   ],
   "source": [
    "print(X.columns)  # Look for 'clonotype_enrichment'\n",
    "print(X[\"clonotype_enrichment\"].describe())  # Sanity check values\n"
   ]
  },
  {
   "cell_type": "markdown",
   "metadata": {},
   "source": [
    "Isolation forest model"
   ]
  },
  {
   "cell_type": "code",
   "execution_count": 550,
   "metadata": {},
   "outputs": [
    {
     "name": "stdout",
     "output_type": "stream",
     "text": [
      "Isolation Forest model trained ✅\n"
     ]
    }
   ],
   "source": [
    "from sklearn.ensemble import IsolationForest\n",
    "\n",
    "# Define Isolation Forest model\n",
    "iso_forest = IsolationForest(n_estimators=100, contamination=0.001, random_state=42)  # 0.1% expected outliers\n",
    "\n",
    "# Fit the model on scaled data\n",
    "iso_forest.fit(X_scaled)\n",
    "\n",
    "# Predict anomaly scores (-1 = outlier, 1 = inlier)\n",
    "X[\"binding_anomaly_score\"] = iso_forest.decision_function(X_scaled)  # Higher = more normal, lower = more anomalous\n",
    "X[\"is_likely_binder\"] = iso_forest.predict(X_scaled)  # -1 means likely binder, 1 means normal background\n",
    "\n",
    "print(\"Isolation Forest model trained ✅\")"
   ]
  },
  {
   "cell_type": "code",
   "execution_count": 551,
   "metadata": {},
   "outputs": [
    {
     "name": "stdout",
     "output_type": "stream",
     "text": [
      "Top predicted unique neoantigen-TCR binding pairs:\n",
      "           dextramer raw_clonotype_id  mean_score  min_score  count  \\\n",
      "16257       SRSF2_2     clonotype558   -0.052128  -0.052128      1   \n",
      "29228      SRSF2_31      clonotype16    0.011904  -0.051390     57   \n",
      "5303       SRSF2_10    clonotype1249   -0.027695  -0.027695      1   \n",
      "29148      SRSF2_31    clonotype1467   -0.023375  -0.023375      1   \n",
      "22918      SRSF2_26    clonotype1353   -0.023274  -0.023274      1   \n",
      "39179      SRSF2_40       clonotype1    0.079725  -0.054834    506   \n",
      "24707      SRSF2_27     clonotype950   -0.014346  -0.014346      1   \n",
      "11342      SRSF2_16       clonotype1    0.123325  -0.068761    506   \n",
      "21614      SRSF2_24     clonotype950   -0.009393  -0.009393      1   \n",
      "13404      SRSF2_18       clonotype1    0.061151  -0.038849    506   \n",
      "22683      SRSF2_26       clonotype1    0.102906  -0.055124    506   \n",
      "17490      SRSF2_20     clonotype950   -0.006593  -0.006593      1   \n",
      "13724      SRSF2_18    clonotype1519   -0.004790  -0.004790      1   \n",
      "12017      SRSF2_16     clonotype370    0.094618  -0.045756      2   \n",
      "31924      SRSF2_33     clonotype950   -0.002775  -0.002775      1   \n",
      "29862      SRSF2_31     clonotype950   -0.002775  -0.002775      1   \n",
      "51513       SRSF2_9     clonotype950   -0.002329  -0.002329      1   \n",
      "7180       SRSF2_11     clonotype950   -0.002224  -0.002224      1   \n",
      "36048      SRSF2_37     clonotype950   -0.001908  -0.001908      1   \n",
      "9242       SRSF2_13     clonotype950   -0.001864  -0.001864      1   \n",
      "1        Negative_1       clonotype1    0.098222  -0.043528    506   \n",
      "39299      SRSF2_40    clonotype1203   -0.000496  -0.000496      1   \n",
      "4087   Positive_CMV     clonotype950   -0.000453  -0.000453      1   \n",
      "37079      SRSF2_38     clonotype950   -0.000286  -0.000286      1   \n",
      "30893      SRSF2_32     clonotype950    0.000965   0.000965      1   \n",
      "47319      SRSF2_47     clonotype781    0.001283   0.001283      1   \n",
      "19552      SRSF2_22     clonotype950    0.001717   0.001717      1   \n",
      "4882        SRSF2_1       clonotype5    0.166220  -0.067325    206   \n",
      "36086      SRSF2_38       clonotype1    0.114105  -0.044253    506   \n",
      "11304      SRSF2_15     clonotype950    0.003402   0.003402      1   \n",
      "35017      SRSF2_36     clonotype950    0.003675   0.003675      1   \n",
      "2025     Negative_2     clonotype950    0.003804   0.003804      1   \n",
      "35055      SRSF2_37       clonotype1    0.119810  -0.044745    506   \n",
      "14010      SRSF2_18       clonotype3    0.111140  -0.040351    259   \n",
      "39549      SRSF2_40    clonotype1616    0.006281   0.006281      1   \n",
      "50482       SRSF2_8     clonotype950    0.006596   0.006596      1   \n",
      "44296      SRSF2_44     clonotype950    0.006855   0.006855      1   \n",
      "19590      SRSF2_23       clonotype1    0.108408  -0.036287    506   \n",
      "39219      SRSF2_40    clonotype1040    0.007387   0.007387      1   \n",
      "28831      SRSF2_30     clonotype950    0.007534   0.007534      1   \n",
      "2063     Negative_3       clonotype1    0.094407  -0.028837    506   \n",
      "49451       SRSF2_6     clonotype950    0.008186   0.008186      1   \n",
      "27800       SRSF2_3     clonotype950    0.008471   0.008471      1   \n",
      "12020      SRSF2_16     clonotype373    0.118499  -0.038003      2   \n",
      "16459       SRSF2_2     clonotype950    0.009568   0.009568      1   \n",
      "4125        SRSF2_1       clonotype1    0.103828  -0.030612    506   \n",
      "8211       SRSF2_12     clonotype950    0.009875   0.009875      1   \n",
      "39141       SRSF2_4     clonotype950    0.009906   0.009906      1   \n",
      "23714      SRSF2_27       clonotype1    0.108593  -0.031814    506   \n",
      "10311      SRSF2_15       clonotype1    0.135458  -0.042835    506   \n",
      "\n",
      "       final_score  \n",
      "16257    -0.052128  \n",
      "29228    -0.032402  \n",
      "5303     -0.027695  \n",
      "29148    -0.023375  \n",
      "22918    -0.023274  \n",
      "39179    -0.014467  \n",
      "24707    -0.014346  \n",
      "11342    -0.011135  \n",
      "21614    -0.009393  \n",
      "13404    -0.008849  \n",
      "22683    -0.007715  \n",
      "17490    -0.006593  \n",
      "13724    -0.004790  \n",
      "12017    -0.003644  \n",
      "31924    -0.002775  \n",
      "29862    -0.002775  \n",
      "51513    -0.002329  \n",
      "7180     -0.002224  \n",
      "36048    -0.001908  \n",
      "9242     -0.001864  \n",
      "1        -0.001003  \n",
      "39299    -0.000496  \n",
      "4087     -0.000453  \n",
      "37079    -0.000286  \n",
      "30893     0.000965  \n",
      "47319     0.001283  \n",
      "19552     0.001717  \n",
      "4882      0.002738  \n",
      "36086     0.003254  \n",
      "11304     0.003402  \n",
      "35017     0.003675  \n",
      "2025      0.003804  \n",
      "35055     0.004621  \n",
      "14010     0.005096  \n",
      "39549     0.006281  \n",
      "50482     0.006596  \n",
      "44296     0.006855  \n",
      "19590     0.007122  \n",
      "39219     0.007387  \n",
      "28831     0.007534  \n",
      "2063      0.008136  \n",
      "49451     0.008186  \n",
      "27800     0.008471  \n",
      "12020     0.008948  \n",
      "16459     0.009568  \n",
      "4125      0.009720  \n",
      "8211      0.009875  \n",
      "39141     0.009906  \n",
      "23714     0.010308  \n",
      "10311     0.010653  \n"
     ]
    }
   ],
   "source": [
    "# Group by (dextramer, clonotype)\n",
    "X_grouped = X.groupby([\"dextramer\", \"raw_clonotype_id\"]).agg(\n",
    "    mean_score=(\"binding_anomaly_score\", \"mean\"),  # Average anomaly score\n",
    "    min_score=(\"binding_anomaly_score\", \"min\"),    # Best anomaly score\n",
    "    count=(\"binding_anomaly_score\", \"count\")       # How often this pair appears\n",
    ").reset_index()\n",
    "\n",
    "# Compute a final ranking score (higher weight for best anomaly score, adjusted by count)\n",
    "X_grouped[\"final_score\"] = X_grouped[\"min_score\"] * 0.7 + X_grouped[\"mean_score\"] * 0.3\n",
    "\n",
    "# Rank by final score (lower = better binder)\n",
    "X_ranked = X_grouped.sort_values(by=\"final_score\")\n",
    "\n",
    "# Display top predicted unique binding pairs\n",
    "print(\"Top predicted unique neoantigen-TCR binding pairs:\\n\", X_ranked.head(50))\n"
   ]
  },
  {
   "cell_type": "markdown",
   "metadata": {},
   "source": [
    "XGBoost"
   ]
  },
  {
   "cell_type": "code",
   "execution_count": 553,
   "metadata": {},
   "outputs": [],
   "source": [
    "from xgboost import XGBRegressor\n",
    "\n",
    "# Feature set\n",
    "feature_cols = [\"dex_rank\", \"dex_enrich\", \"Top_dextramer_margin\", \"clonotype_count\", \"clonotype_enrichment\"]\n",
    "X_model = X[feature_cols]\n",
    "\n",
    "# Target = normalized dextramer signal (assumed indicative of binding strength)\n",
    "y_model = X[\"dex_norm\"]\n"
   ]
  },
  {
   "cell_type": "code",
   "execution_count": 554,
   "metadata": {},
   "outputs": [
    {
     "name": "stdout",
     "output_type": "stream",
     "text": [
      "✅ XGBoost model trained on dex_norm as target\n"
     ]
    }
   ],
   "source": [
    "# Initialize and train model\n",
    "xgb_model = XGBRegressor(\n",
    "    n_estimators=100,\n",
    "    learning_rate=0.1,\n",
    "    max_depth=4,\n",
    "    random_state=42\n",
    ")\n",
    "\n",
    "xgb_model.fit(X_model, y_model)\n",
    "\n",
    "print(\"✅ XGBoost model trained on dex_norm as target\")\n",
    "\n"
   ]
  },
  {
   "cell_type": "code",
   "execution_count": 555,
   "metadata": {},
   "outputs": [],
   "source": [
    "# Predict binding likelihood for all (clonotype, dextramer) pairs\n",
    "X[\"binding_score_xgb\"] = xgb_model.predict(X_model)\n",
    "\n"
   ]
  },
  {
   "cell_type": "code",
   "execution_count": 556,
   "metadata": {},
   "outputs": [
    {
     "name": "stdout",
     "output_type": "stream",
     "text": [
      "🔝 Top predicted neoantigen–TCR binding pairs (by XGBoost on dex_norm):\n",
      "\n",
      "        dextramer raw_clonotype_id  binding_score_xgb\n",
      "16257     SRSF2_2     clonotype558           5.231493\n",
      "5303     SRSF2_10    clonotype1249           5.024483\n",
      "43028    SRSF2_43     clonotype499           4.371405\n",
      "6082     SRSF2_10     clonotype785           3.953408\n",
      "44533    SRSF2_45    clonotype1311           3.787184\n",
      "29148    SRSF2_31    clonotype1467           3.526020\n",
      "22918    SRSF2_26    clonotype1353           3.434792\n",
      "4327      SRSF2_1    clonotype1315           3.411839\n",
      "11677    SRSF2_16    clonotype1543           3.376239\n",
      "39391    SRSF2_40    clonotype1327           3.376239\n",
      "14738    SRSF2_19    clonotype1499           3.354036\n",
      "29228    SRSF2_31      clonotype16           3.309332\n",
      "27692     SRSF2_3     clonotype730           3.295249\n",
      "47319    SRSF2_47     clonotype781           3.295249\n",
      "13366    SRSF2_17     clonotype950           3.253108\n",
      "11304    SRSF2_15     clonotype950           3.253108\n",
      "24707    SRSF2_27     clonotype950           3.253108\n",
      "25738    SRSF2_28     clonotype950           3.253108\n",
      "14397    SRSF2_18     clonotype950           3.253108\n",
      "5118      SRSF2_1     clonotype950           3.253108\n",
      "3056   Negative_3     clonotype950           3.253108\n",
      "20583    SRSF2_23     clonotype950           3.253108\n",
      "26769    SRSF2_29     clonotype950           3.253108\n",
      "10273    SRSF2_14     clonotype950           3.253108\n",
      "9242     SRSF2_13     clonotype950           3.253108\n",
      "51513     SRSF2_9     clonotype950           3.253108\n",
      "2025   Negative_2     clonotype950           3.253108\n",
      "40172    SRSF2_40     clonotype950           3.253108\n",
      "41203    SRSF2_41     clonotype950           3.253108\n",
      "12335    SRSF2_16     clonotype950           3.253108\n",
      "18521    SRSF2_21     clonotype950           3.253108\n",
      "23676    SRSF2_26     clonotype950           3.253108\n",
      "994    Negative_1     clonotype950           3.253108\n",
      "5339     SRSF2_10    clonotype1292           3.234200\n",
      "11465    SRSF2_16    clonotype1208           3.219886\n",
      "39299    SRSF2_40    clonotype1203           3.219886\n",
      "29862    SRSF2_31     clonotype950           3.203787\n",
      "44762    SRSF2_45    clonotype1700           3.189032\n",
      "29335    SRSF2_31    clonotype1756           3.176677\n",
      "13724    SRSF2_18    clonotype1519           3.150804\n",
      "12131    SRSF2_16     clonotype555           3.150804\n",
      "33020    SRSF2_35    clonotype1028           3.122391\n",
      "17490    SRSF2_20     clonotype950           3.111626\n",
      "31924    SRSF2_33     clonotype950           3.111626\n",
      "7180     SRSF2_11     clonotype950           3.075179\n",
      "47264    SRSF2_47     clonotype710           3.062574\n",
      "8285     SRSF2_13    clonotype1037           3.056903\n",
      "30893    SRSF2_32     clonotype950           3.044508\n",
      "21614    SRSF2_24     clonotype950           3.044508\n",
      "11552    SRSF2_16    clonotype1324           3.041390\n"
     ]
    }
   ],
   "source": [
    "# Aggregate: mean predicted score per (dextramer, clonotype)\n",
    "X_grouped = X.groupby([\"dextramer\", \"raw_clonotype_id\"])[\"binding_score_xgb\"].mean().reset_index()\n",
    "\n",
    "# Rank: sort by predicted binding score (descending = more likely)\n",
    "X_ranked = X_grouped.sort_values(by=\"binding_score_xgb\", ascending=False)\n",
    "\n",
    "# Show top predicted binders\n",
    "print(\"🔝 Top predicted neoantigen–TCR binding pairs (by XGBoost on dex_norm):\\n\")\n",
    "print(X_ranked.head(50))\n"
   ]
  },
  {
   "cell_type": "code",
   "execution_count": 557,
   "metadata": {},
   "outputs": [
    {
     "name": "stdout",
     "output_type": "stream",
     "text": [
      "Top predicted TCR–neoantigen pairs (by average model rank across cells):\n",
      "        dextramer raw_clonotype_id  mean_rank  num_cells  mean_score\n",
      "29228    SRSF2_31      clonotype16   1.263158         57    3.309332\n",
      "1337   Negative_2     clonotype150   4.200000          5    1.682190\n",
      "35185    SRSF2_37     clonotype122   6.333333          6    0.983630\n",
      "13584    SRSF2_18     clonotype129   7.300000          5    1.274179\n",
      "39336    SRSF2_40     clonotype126   7.333333          6    1.452545\n",
      "13675    SRSF2_18     clonotype146   7.400000          5    0.695596\n",
      "1022   Negative_1      clonotype99   7.750000          8    0.967034\n",
      "38574     SRSF2_4      clonotype17   7.833333         51    2.016126\n",
      "40456    SRSF2_41     clonotype137   8.200000          5    1.186471\n",
      "24055    SRSF2_27     clonotype155   8.200000          5    1.135232\n",
      "40200    SRSF2_40      clonotype99   8.250000          8    0.911369\n",
      "13731    SRSF2_18     clonotype153   8.400000          5    0.994922\n",
      "32184    SRSF2_34     clonotype134   8.666667          6    1.150897\n",
      "21607    SRSF2_24      clonotype94   8.714286          7    1.589174\n",
      "13463    SRSF2_18     clonotype106   8.714286          7    1.050600\n",
      "31901    SRSF2_33      clonotype88   8.777778          9    1.231189\n",
      "35344    SRSF2_37     clonotype148   8.800000          5    0.971111\n",
      "36202    SRSF2_38     clonotype120   8.833333          6    0.872993\n",
      "12538    SRSF2_17     clonotype127   8.833333          6    1.332888\n",
      "13760    SRSF2_18     clonotype157   9.000000          5    1.239400\n"
     ]
    }
   ],
   "source": [
    "# Step 1: Rank dextramer-clonotype pairs within each cell\n",
    "X[\"in_cell_rank\"] = X.groupby(\"cell_id\")[\"binding_score_xgb\"].rank(method=\"average\", ascending=False)\n",
    "\n",
    "# Step 2: Aggregate by (dextramer, clonotype)\n",
    "pairwise_ranks = X.groupby([\"dextramer\", \"raw_clonotype_id\"]).agg(\n",
    "    mean_rank=(\"in_cell_rank\", \"mean\"),\n",
    "    num_cells=(\"in_cell_rank\", \"count\"),\n",
    "    mean_score=(\"binding_score_xgb\", \"mean\")  # optional: useful for sorting\n",
    ").reset_index()\n",
    "\n",
    "# Step 3: Sort by rank\n",
    "pairwise_ranks = pairwise_ranks.sort_values(by=\"mean_rank\", ascending=True)\n",
    "\n",
    "# Optional filter: remove pairs seen in very few cells\n",
    "pairwise_ranks = pairwise_ranks[pairwise_ranks[\"num_cells\"] >= 5]\n",
    "\n",
    "# Show top predicted TCR–dextramer pairings\n",
    "print(\"Top predicted TCR–neoantigen pairs (by average model rank across cells):\")\n",
    "print(pairwise_ranks.head(20))\n"
   ]
  },
  {
   "cell_type": "code",
   "execution_count": 558,
   "metadata": {},
   "outputs": [
    {
     "name": "stdout",
     "output_type": "stream",
     "text": [
      "High-confidence predicted binders:\n",
      "       dextramer raw_clonotype_id  mean_rank  num_cells  mean_score\n",
      "29228  SRSF2_31      clonotype16   1.263158         57    3.309332\n"
     ]
    }
   ],
   "source": [
    "# Set conservative threshold: only keep predictions with strong scores and low rank\n",
    "high_confidence = pairwise_ranks[\n",
    "    (pairwise_ranks[\"mean_rank\"] <= 3) &  # Consistently ranked high in cells\n",
    "    (pairwise_ranks[\"mean_score\"] >= 1.5) &  # High model-predicted score\n",
    "    (~pairwise_ranks[\"dextramer\"].str.contains(\"Negative\"))  # Exclude known non-binders\n",
    "]\n",
    "\n",
    "print(\"High-confidence predicted binders:\\n\", high_confidence)\n"
   ]
  },
  {
   "cell_type": "code",
   "execution_count": 561,
   "metadata": {},
   "outputs": [
    {
     "data": {
      "text/plain": [
       "['xgb_binder_model.pkl']"
      ]
     },
     "execution_count": 561,
     "metadata": {},
     "output_type": "execute_result"
    }
   ],
   "source": [
    "import joblib\n",
    "joblib.dump(xgb_model, \"xgb_binder_model.pkl\")\n"
   ]
  },
  {
   "cell_type": "code",
   "execution_count": 560,
   "metadata": {},
   "outputs": [
    {
     "data": {
      "image/png": "[encoded data removed]",
      "text/plain": [
       "<Figure size 600x400 with 1 Axes>"
      ]
     },
     "metadata": {},
     "output_type": "display_data"
    }
   ],
   "source": [
    "# Get importance scores\n",
    "importance = xgb_model.feature_importances_\n",
    "features = xgb_model.get_booster().feature_names\n",
    "\n",
    "# Plot\n",
    "plt.figure(figsize=(6, 4))\n",
    "plt.barh(features, importance)\n",
    "plt.xlabel(\"Feature Importance\")\n",
    "plt.title(\"XGBoost Feature Importance\")\n",
    "plt.gca().invert_yaxis()\n",
    "plt.tight_layout()\n",
    "plt.show()"
   ]
  }
 ],
 "metadata": {
  "kernelspec": {
   "display_name": "Python 3",
   "language": "python",
   "name": "python3"
  },
  "language_info": {
   "codemirror_mode": {
    "name": "ipython",
    "version": 3
   },
   "file_extension": ".py",
   "mimetype": "text/x-python",
   "name": "python",
   "nbconvert_exporter": "python",
   "pygments_lexer": "ipython3",
   "version": "3.undefined.undefined"
  }
 },
 "nbformat": 4,
 "nbformat_minor": 2
}
