{
 "cells": [
  {
   "cell_type": "code",
   "execution_count": null,
   "metadata": {},
   "outputs": [],
   "source": [
    "import os\n",
    "import scanpy as sc\n",
    "import pandas as pd\n",
    "import anndata"
   ]
  },
  {
   "cell_type": "markdown",
   "metadata": {},
   "source": [
    "Set directory variables for the samples"
   ]
  },
  {
   "cell_type": "code",
   "execution_count": null,
   "metadata": {},
   "outputs": [
    {
     "name": "stdout",
     "output_type": "stream",
     "text": [
      "{'dir_gex': '/Users/ecrosse/Desktop/data_for_edie_third_batch_january/WJK-2859_SRSF2_9/CellRangerGex_results', 'dir_dex': '/Users/ecrosse/Desktop/data_for_edie_third_batch_january/WJK-2859_SRSF2_9_dextramer_count/umi_count', 'dir_TCR': '/Users/ecrosse/Desktop/data_for_edie_third_batch_january/WJK-2859_SRSF2_9_TCR_VDJ/CellRangerVdj_results', 'dir_CITE': '/Users/ecrosse/Desktop/data_for_edie_third_batch_january/WJK-2859_SRSF2_9_hash_count/umi_count'}\n",
      "{'dir_gex': '/Users/ecrosse/Desktop/dextramer_data_for_edie_january_part_2/WJK-2864_SRSF2_10/CellRangerGex_results', 'dir_dex': '/Users/ecrosse/Desktop/dextramer_data_for_edie_january_part_2/WJK-2864_SRSF2_10_dextramer_count/umi_count', 'dir_TCR': '/Users/ecrosse/Desktop/dextramer_data_for_edie_january_part_2/WJK-2864_SRSF2_10_TCR_VDJ/CellRangerVdj_results', 'dir_CITE': '/Users/ecrosse/Desktop/dextramer_data_for_edie_january_part_2/WJK-2864_SRSF2_10_hash_count/umi_count'}\n"
     ]
    }
   ],
   "source": [
    "def set_directories(patient_id, base_dir):\n",
    "    \"\"\"\n",
    "    Generate a dictionary containing paths to relevant directories for a given patient.\n",
    "    \n",
    "    Parameters:\n",
    "    - patient_id (str): The unique identifier for the patient.\n",
    "    - base_dir (str): The base directory containing all patient data.\n",
    "    \n",
    "    Returns:\n",
    "    - dict: A dictionary with paths to gene expression, dextramer, TCR, and CITE-seq data.\n",
    "    \"\"\"\n",
    "    return {\n",
    "        \"dir_gex\": os.path.join(base_dir, f\"{patient_id}/CellRangerGex_results\"),\n",
    "        \"dir_dex\": os.path.join(base_dir, f\"{patient_id}_dextramer_count/umi_count\"),\n",
    "        \"dir_TCR\": os.path.join(base_dir, f\"{patient_id}_TCR_VDJ/CellRangerVdj_results\"),\n",
    "        \"dir_CITE\": os.path.join(base_dir, f\"{patient_id}_hash_count/umi_count\")\n",
    "    }\n",
    "\n",
    "# Define base directory and patient IDs\n",
    "base_dir = \"/Users/ecrosse/Desktop/\"\n",
    "\n",
    "# Set directories for each patient\n",
    "dirs_SRSF2_9 = set_directories(\"data_for_edie_third_batch_january/WJK-2859_SRSF2_9\", base_dir)\n",
    "dirs_SRSF2_10 = set_directories(\"dextramer_data_for_edie_january_part_2/WJK-2864_SRSF2_10\", base_dir)\n",
    "\n",
    "# Print to verify the directory structure\n",
    "print(dirs_SRSF2_9)\n",
    "print(dirs_SRSF2_10)\n"
   ]
  },
  {
   "cell_type": "markdown",
   "metadata": {},
   "source": [
    "Define functions to load and integrate the expression and CITE-Seq data"
   ]
  },
  {
   "cell_type": "code",
   "execution_count": null,
   "metadata": {},
   "outputs": [],
   "source": [
    "# Load expression data\n",
    "def load_expression_data(data_dir, project_name=\"dextramer_pilot\"):\n",
    "    \"\"\"\n",
    "    Load RNA expression data from 10X Genomics output and create an AnnData object.\n",
    "    \n",
    "    Parameters:\n",
    "    - data_dir (str): Directory containing the filtered_feature_bc_matrix from Cell Ranger.\n",
    "    - project_name (str): Name for the AnnData object (not required but included for clarity).\n",
    "    \n",
    "    Returns:\n",
    "    - anndata.AnnData: An AnnData object containing gene expression data.\n",
    "    \"\"\"\n",
    "    matrix_dir = os.path.join(data_dir, \"filtered_feature_bc_matrix\")\n",
    "    adata = sc.read_10x_mtx(matrix_dir, var_names='gene_symbols', cache=True)\n",
    "    \n",
    "    # Store project name in AnnData metadata\n",
    "    adata.uns['project_name'] = project_name\n",
    "    \n",
    "    return adata\n",
    "\n",
    "# Load and integrate CITE data\n",
    "\n",
    "def load_cite_data(data_dir, adata):\n",
    "    \"\"\"\n",
    "    Load CITE-seq data from 10X and integrate it into an existing AnnData object.\n",
    "    \n",
    "    Parameters:\n",
    "    - data_dir (str): Directory containing the CITE-seq data.\n",
    "    - adata (anndata.AnnData): The RNA expression AnnData object.\n",
    "\n",
    "    Returns:\n",
    "    - anndata.AnnData: Updated AnnData object with CITE-seq assay added.\n",
    "    \"\"\"\n",
    "    # Load CITE-seq data\n",
    "    cite_adata = sc.read_10x_mtx(data_dir, var_names='gene_symbols', cache=True)\n",
    "    \n",
    "    # Append \"-1\" to barcodes (to match Cell Ranger format)\n",
    "    cite_adata.obs.index = [barcode + \"-1\" for barcode in cite_adata.obs.index]\n",
    "    \n",
    "    # Find common barcodes\n",
    "    common_barcodes = adata.obs.index.intersection(cite_adata.obs.index)\n",
    "    \n",
    "    # Subset both datasets to retain only common barcodes\n",
    "    adata_common = adata[common_barcodes].copy()\n",
    "    cite_adata_common = cite_adata[common_barcodes].copy()\n",
    "    \n",
    "    # Add CITE-seq assay as a separate layer\n",
    "    adata_common.layers[\"CITE\"] = cite_adata_common.X\n",
    "    \n",
    "    return adata_common\n"
   ]
  },
  {
   "cell_type": "markdown",
   "metadata": {},
   "source": [
    "Load the data"
   ]
  },
  {
   "cell_type": "code",
   "execution_count": null,
   "metadata": {},
   "outputs": [],
   "source": [
    "# Load gene expression data\n",
    "adata = load_expression_data(dirs_SRSF2_9[\"dir_gex\"])\n",
    "\n",
    "# Load and integrate CITE-seq data\n",
    "adata = load_cite_data(dirs_SRSF2_9[\"dir_CITE\"], adata)"
   ]
  },
  {
   "cell_type": "markdown",
   "metadata": {},
   "source": [
    "Data QC and filtering"
   ]
  },
  {
   "cell_type": "code",
   "execution_count": null,
   "metadata": {},
   "outputs": [],
   "source": []
  }
 ],
 "metadata": {
  "kernelspec": {
   "display_name": "Python 3",
   "language": "python",
   "name": "python3"
  },
  "language_info": {
   "codemirror_mode": {
    "name": "ipython",
    "version": 3
   },
   "file_extension": ".py",
   "mimetype": "text/x-python",
   "name": "python",
   "nbconvert_exporter": "python",
   "pygments_lexer": "ipython3",
   "version": "3.9.6"
  }
 },
 "nbformat": 4,
 "nbformat_minor": 2
}
