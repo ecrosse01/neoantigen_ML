{
 "cells": [
  {
   "cell_type": "code",
   "execution_count": 85,
   "metadata": {},
   "outputs": [],
   "source": [
    "import os\n",
    "import scanpy as sc\n",
    "import scipy.io\n",
    "import scipy.sparse\n",
    "import pandas as pd \n",
    "import numpy as np\n",
    "import anndata\n",
    "import matplotlib.pyplot as plt\n"
   ]
  },
  {
   "cell_type": "markdown",
   "metadata": {},
   "source": [
    "Set directory variables for the samples"
   ]
  },
  {
   "cell_type": "code",
   "execution_count": 23,
   "metadata": {},
   "outputs": [
    {
     "name": "stdout",
     "output_type": "stream",
     "text": [
      "{'dir_gex': '/Users/ecrosse/Desktop/data_for_edie_third_batch_january/WJK-2859_SRSF2_9/CellRangerGex_results', 'dir_dex': '/Users/ecrosse/Desktop/data_for_edie_third_batch_january/WJK-2859_SRSF2_9_dextramer_count/umi_count', 'dir_TCR': '/Users/ecrosse/Desktop/data_for_edie_third_batch_january/WJK-2859_SRSF2_9_TCR_VDJ/CellRangerVdj_results', 'dir_CITE': '/Users/ecrosse/Desktop/data_for_edie_third_batch_january/WJK-2859_SRSF2_9_hash_count/umi_count'}\n",
      "{'dir_gex': '/Users/ecrosse/Desktop/dextramer_data_for_edie_january_part_2/WJK-2864_SRSF2_10/CellRangerGex_results', 'dir_dex': '/Users/ecrosse/Desktop/dextramer_data_for_edie_january_part_2/WJK-2864_SRSF2_10_dextramer_count/umi_count', 'dir_TCR': '/Users/ecrosse/Desktop/dextramer_data_for_edie_january_part_2/WJK-2864_SRSF2_10_TCR_VDJ/CellRangerVdj_results', 'dir_CITE': '/Users/ecrosse/Desktop/dextramer_data_for_edie_january_part_2/WJK-2864_SRSF2_10_hash_count/umi_count'}\n"
     ]
    }
   ],
   "source": [
    "def set_directories(patient_id, base_dir):\n",
    "    \"\"\"\n",
    "    Generate a dictionary containing paths to relevant directories for a given patient.\n",
    "    \n",
    "    Parameters:\n",
    "    - patient_id (str): The unique identifier for the patient.\n",
    "    - base_dir (str): The base directory containing all patient data.\n",
    "    \n",
    "    Returns:\n",
    "    - dict: A dictionary with paths to gene expression, dextramer, TCR, and CITE-seq data.\n",
    "    \"\"\"\n",
    "    return {\n",
    "        \"dir_gex\": os.path.join(base_dir, f\"{patient_id}/CellRangerGex_results\"),\n",
    "        \"dir_dex\": os.path.join(base_dir, f\"{patient_id}_dextramer_count/umi_count\"),\n",
    "        \"dir_TCR\": os.path.join(base_dir, f\"{patient_id}_TCR_VDJ/CellRangerVdj_results\"),\n",
    "        \"dir_CITE\": os.path.join(base_dir, f\"{patient_id}_hash_count/umi_count\")\n",
    "    }\n",
    "\n",
    "# Define base directory and patient IDs\n",
    "base_dir = \"/Users/ecrosse/Desktop/\"\n",
    "\n",
    "# Set directories for each patient\n",
    "dirs_SRSF2_9 = set_directories(\"data_for_edie_third_batch_january/WJK-2859_SRSF2_9\", base_dir)\n",
    "dirs_SRSF2_10 = set_directories(\"dextramer_data_for_edie_january_part_2/WJK-2864_SRSF2_10\", base_dir)\n",
    "\n",
    "# Print to verify the directory structure\n",
    "print(dirs_SRSF2_9)\n",
    "print(dirs_SRSF2_10)\n"
   ]
  },
  {
   "cell_type": "code",
   "execution_count": 34,
   "metadata": {},
   "outputs": [
    {
     "name": "stdout",
     "output_type": "stream",
     "text": [
      "/Users/ecrosse/Desktop/data_for_edie_third_batch_january/WJK-2859_SRSF2_9/CellRangerGex_results\n",
      "/Users/ecrosse/Desktop/data_for_edie_third_batch_january/WJK-2859_SRSF2_9_dextramer_count/umi_count\n",
      "/Users/ecrosse/Desktop/data_for_edie_third_batch_january/WJK-2859_SRSF2_9_hash_count/umi_count\n"
     ]
    },
    {
     "name": "stderr",
     "output_type": "stream",
     "text": [
      "/Library/Frameworks/Python.framework/Versions/3.10/lib/python3.10/site-packages/anndata/_core/anndata.py:1900: UserWarning: Variable names are not unique. To make them unique, call `.var_names_make_unique`.\n",
      "  utils.warn_names_duplicates(\"var\")\n",
      "/Library/Frameworks/Python.framework/Versions/3.10/lib/python3.10/site-packages/anndata/_core/anndata.py:1900: UserWarning: Variable names are not unique. To make them unique, call `.var_names_make_unique`.\n",
      "  utils.warn_names_duplicates(\"var\")\n"
     ]
    },
    {
     "data": {
      "text/plain": [
       "AnnData object with n_obs × n_vars = 8008 × 36601\n",
       "    var: 'gene_ids', 'feature_types', 'genome'"
      ]
     },
     "execution_count": 34,
     "metadata": {},
     "output_type": "execute_result"
    }
   ],
   "source": [
    "# Define paths\n",
    "dir_gex = dirs_SRSF2_9[\"dir_gex\"]\n",
    "dir_dex = dirs_SRSF2_9[\"dir_dex\"]\n",
    "dir_CITE = dirs_SRSF2_9[\"dir_CITE\"]\n",
    "\n",
    "print(dir_gex)\n",
    "print(dir_dex)\n",
    "print(dir_CITE)\n",
    "\n",
    "adata = sc.read_10x_h5(os.path.join(dir_gex, \"filtered_feature_bc_matrix.h5\"))\n",
    "adata.var_names_make_unique()\n",
    "adata"
   ]
  },
  {
   "cell_type": "code",
   "execution_count": 37,
   "metadata": {},
   "outputs": [],
   "source": [
    "# Load dextramer data\n",
    "dex_matrix = scipy.io.mmread(f\"{dir_dex}/matrix.mtx.gz\").T.tocsr()  # Transpose to match AnnData format\n",
    "dex_barcodes = pd.read_csv(f\"{dir_dex}/barcodes.tsv.gz\", header=None, sep='\\t')[0].values\n",
    "dex_features = pd.read_csv(f\"{dir_dex}/features.tsv.gz\", header=None, sep='\\t')\n",
    "\n",
    "# Convert features to match the format expected by AnnData\n",
    "dex_gene_names = dex_features[1].values \n",
    "\n",
    "# Create AnnData object for dextramer data\n",
    "adata_dex = anndata.AnnData(X=dex_matrix, obs=pd.DataFrame(index=dex_barcodes), var=pd.DataFrame(index=dex_gene_names))\n",
    "\n"
   ]
  },
  {
   "cell_type": "code",
   "execution_count": 39,
   "metadata": {},
   "outputs": [
    {
     "name": "stdout",
     "output_type": "stream",
     "text": [
      "Number of matching barcodes: 7993\n"
     ]
    }
   ],
   "source": [
    "adata_dex.obs_names = adata_dex.obs_names + \"-1\"\n",
    "common_barcodes = adata.obs_names.intersection(adata_dex.obs_names)\n",
    "print(\"Number of matching barcodes:\", len(common_barcodes))\n"
   ]
  },
  {
   "cell_type": "code",
   "execution_count": 42,
   "metadata": {},
   "outputs": [],
   "source": [
    "adata = adata[common_barcodes, :]\n",
    "adata_dex = adata_dex[common_barcodes, :]"
   ]
  },
  {
   "cell_type": "code",
   "execution_count": 48,
   "metadata": {},
   "outputs": [
    {
     "name": "stderr",
     "output_type": "stream",
     "text": [
      "/var/folders/tr/vn7tq20j5757j67mf5gf2xg80000gp/T/ipykernel_96192/2188757416.py:1: ImplicitModificationWarning: Setting element `.obsm['dextramer']` of view, initializing view as actual.\n",
      "  adata.obsm[\"dextramer\"] = adata_dex.X.copy()\n"
     ]
    }
   ],
   "source": [
    "adata.obsm[\"dextramer\"] = adata_dex.X.copy()"
   ]
  },
  {
   "cell_type": "code",
   "execution_count": 60,
   "metadata": {},
   "outputs": [],
   "source": [
    "# Load CITE data\n",
    "cite_matrix = scipy.io.mmread(f\"{dir_CITE}/matrix.mtx.gz\").T.tocsr()  # Transpose to match AnnData format\n",
    "cite_barcodes = pd.read_csv(f\"{dir_CITE}/barcodes.tsv.gz\", header=None, sep='\\t')[0].values\n",
    "cite_features = pd.read_csv(f\"{dir_CITE}/features.tsv.gz\", header=None, sep='\\t')\n",
    "\n",
    "# Extract feature names (these are typically protein names, not genes)\n",
    "cite_protein_names = cite_features[1].values  \n",
    "\n",
    "# Create AnnData object for CITE-seq data\n",
    "adata_cite = anndata.AnnData(X=cite_matrix, obs=pd.DataFrame(index=cite_barcodes), var=pd.DataFrame(index=cite_protein_names))\n"
   ]
  },
  {
   "cell_type": "code",
   "execution_count": 61,
   "metadata": {},
   "outputs": [
    {
     "name": "stdout",
     "output_type": "stream",
     "text": [
      "Number of matching barcodes: 7992\n"
     ]
    }
   ],
   "source": [
    "adata_cite.obs_names = adata_cite.obs_names + \"-1\"\n",
    "common_barcodes = adata.obs_names.intersection(adata_cite.obs_names)\n",
    "print(\"Number of matching barcodes:\", len(common_barcodes))"
   ]
  },
  {
   "cell_type": "code",
   "execution_count": 62,
   "metadata": {},
   "outputs": [],
   "source": [
    "adata = adata[common_barcodes, :]\n",
    "adata_cite = adata_cite[common_barcodes, :]"
   ]
  },
  {
   "cell_type": "code",
   "execution_count": 63,
   "metadata": {},
   "outputs": [
    {
     "name": "stderr",
     "output_type": "stream",
     "text": [
      "/var/folders/tr/vn7tq20j5757j67mf5gf2xg80000gp/T/ipykernel_96192/417356970.py:1: ImplicitModificationWarning: Setting element `.obsm['cite']` of view, initializing view as actual.\n",
      "  adata.obsm[\"cite\"] = adata_cite.X.copy()\n"
     ]
    }
   ],
   "source": [
    "adata.obsm[\"cite\"] = adata_cite.X.copy()"
   ]
  },
  {
   "cell_type": "code",
   "execution_count": 66,
   "metadata": {},
   "outputs": [],
   "source": [
    "adata.write(\"adata_raw.h5ad\")"
   ]
  },
  {
   "cell_type": "code",
   "execution_count": 73,
   "metadata": {},
   "outputs": [],
   "source": [
    "# mitochondrial genes, \"MT-\" for human, \"Mt-\" for mouse\n",
    "adata.var[\"mt\"] = adata.var_names.str.startswith(\"MT-\")\n",
    "\n",
    "sc.pp.calculate_qc_metrics(\n",
    "    adata, qc_vars=[\"mt\"], percent_top=None, log1p=False, inplace=True\n",
    ")"
   ]
  },
  {
   "cell_type": "code",
   "execution_count": null,
   "metadata": {},
   "outputs": [
    {
     "name": "stdout",
     "output_type": "stream",
     "text": [
      "         mitoRatio  n_genes_by_counts  log1p_n_genes_by_counts  total_counts  \\\n",
      "count  7991.000000        7991.000000              7991.000000   7991.000000   \n",
      "mean      0.010581        1840.541860                 7.446307   4663.748535   \n",
      "std       0.013352         687.427445                 0.399342   2521.818115   \n",
      "min       0.000000         254.000000                 5.545177    500.000000   \n",
      "25%       0.003093        1481.000000                 7.301148   3430.000000   \n",
      "50%       0.008578        1794.000000                 7.492760   4375.000000   \n",
      "75%       0.013602        2104.000000                 7.652308   5321.000000   \n",
      "max       0.274074        6358.000000                 8.759041  30478.000000   \n",
      "\n",
      "       log1p_total_counts  pct_counts_in_top_50_genes  \\\n",
      "count         7991.000000                 7991.000000   \n",
      "mean             8.310372                   30.920396   \n",
      "std              0.560567                    4.776171   \n",
      "min              6.216606                   13.247333   \n",
      "25%              8.140753                   27.980077   \n",
      "50%              8.383890                   30.610236   \n",
      "75%              8.579698                   33.476821   \n",
      "max             10.325449                   61.203008   \n",
      "\n",
      "       pct_counts_in_top_100_genes  pct_counts_in_top_200_genes  \\\n",
      "count                  7991.000000                  7991.000000   \n",
      "mean                     42.553166                    53.432782   \n",
      "std                       6.064578                     6.044406   \n",
      "min                      18.729844                    27.412553   \n",
      "25%                      38.762325                    49.771207   \n",
      "50%                      42.234697                    53.268978   \n",
      "75%                      45.977685                    56.953504   \n",
      "max                      73.913043                    89.963504   \n",
      "\n",
      "       pct_counts_in_top_500_genes  total_counts_mt  log1p_total_counts_mt  \\\n",
      "count                  7991.000000      7991.000000            7991.000000   \n",
      "mean                     69.609277        42.333248               3.172707   \n",
      "std                       7.321024        40.968826               1.347892   \n",
      "min                      45.224510         0.000000               0.000000   \n",
      "25%                      65.414216        11.000000               2.484907   \n",
      "50%                      68.998756        36.000000               3.610918   \n",
      "75%                      72.472641        61.000000               4.127134   \n",
      "max                     100.000000       752.000000               6.624065   \n",
      "\n",
      "       pct_counts_mt      n_genes  \n",
      "count    7991.000000  7991.000000  \n",
      "mean        1.058412  1841.194469  \n",
      "std         1.336128   687.915286  \n",
      "min         0.000000   255.000000  \n",
      "25%         0.309418  1481.000000  \n",
      "50%         0.857909  1794.000000  \n",
      "75%         1.360488  2104.500000  \n",
      "max        27.448071  6367.000000  \n"
     ]
    }
   ],
   "source": [
    "print(adata.obs.describe())"
   ]
  },
  {
   "cell_type": "code",
   "execution_count": null,
   "metadata": {},
   "outputs": [],
   "source": [
    "sc.pp.filter_cells(adata, min_genes=250)\n",
    "sc.pp.filter_genes(adata, min_cells=3)\n",
    "sc.pp.filter_cells(adata, min_counts=500)"
   ]
  },
  {
   "cell_type": "code",
   "execution_count": 91,
   "metadata": {},
   "outputs": [],
   "source": [
    "# Normalize data (log1p normalization)\n",
    "sc.pp.normalize_total(adata, target_sum=1e4)\n",
    "sc.pp.log1p(adata)"
   ]
  },
  {
   "cell_type": "code",
   "execution_count": 94,
   "metadata": {},
   "outputs": [
    {
     "name": "stderr",
     "output_type": "stream",
     "text": [
      "/Library/Frameworks/Python.framework/Versions/3.10/lib/python3.10/site-packages/scanpy/preprocessing/_highly_variable_genes.py:215: FutureWarning: The default of observed=False is deprecated and will be changed to True in a future version of pandas. Pass observed=False to retain current behavior or observed=True to adopt the future default and silence this warning.\n",
      "  disp_grouped = df.groupby('mean_bin')['dispersions']\n"
     ]
    }
   ],
   "source": [
    "sc.pp.highly_variable_genes(adata, n_top_genes=4000)\n"
   ]
  },
  {
   "cell_type": "code",
   "execution_count": 95,
   "metadata": {},
   "outputs": [],
   "source": [
    "# Filter out genes starting with \"TR\"\n",
    "variable_genes = adata.var[\"highly_variable\"]\n",
    "filtered_variable_genes = adata.var_names[variable_genes & ~adata.var_names.str.startswith(\"TR\")]"
   ]
  },
  {
   "cell_type": "code",
   "execution_count": 96,
   "metadata": {},
   "outputs": [],
   "source": [
    "# Update the list of highly variable genes\n",
    "adata.var[\"highly_variable\"] = adata.var_names.isin(filtered_variable_genes)\n"
   ]
  },
  {
   "cell_type": "code",
   "execution_count": 97,
   "metadata": {},
   "outputs": [],
   "source": [
    "# Scale the data\n",
    "sc.pp.scale(adata, max_value=10)  # Scale all genes"
   ]
  },
  {
   "cell_type": "code",
   "execution_count": null,
   "metadata": {},
   "outputs": [],
   "source": []
  },
  {
   "cell_type": "markdown",
   "metadata": {},
   "source": [
    "CITE-Seq analysis - to define the Dex + population"
   ]
  },
  {
   "cell_type": "code",
   "execution_count": null,
   "metadata": {},
   "outputs": [],
   "source": [
    "# Normalize CITE-seq data using CLR normalization\n",
    "adata.layers[\"CITE\"] = np.log1p(adata.layers[\"CITE\"] / np.median(adata.layers[\"CITE\"], axis=0))\n",
    "\n",
    "# Generate a density plot for CITE-seq data\n",
    "def generate_cite_density_plot(adata, assay_layer=\"CITE\", title=\"CITE-seq Density Plot\"):\n",
    "    \"\"\"\n",
    "    Generate a density plot for CITE-seq data.\n",
    "    \n",
    "    Parameters:\n",
    "    - adata: AnnData object containing the CITE-seq layer.\n",
    "    - assay_layer: Layer containing CITE-seq data.\n",
    "    - title: Title for the plot.\n",
    "    \n",
    "    Returns:\n",
    "    - Matplotlib figure\n",
    "    \"\"\"\n",
    "    cite_data = adata.layers[assay_layer]\n",
    "    cite_values = cite_data.flatten()\n",
    "\n",
    "    fig, ax = plt.subplots(figsize=(8, 5))\n",
    "    ax.hist(cite_values, bins=50, density=True, alpha=0.6, color=\"blue\")\n",
    "    ax.set_xlabel(\"CITE-seq Expression (CLR-normalized)\")\n",
    "    ax.set_ylabel(\"Density\")\n",
    "    ax.set_title(title)\n",
    "    \n",
    "    return fig\n",
    "\n",
    "# View the density plot\n",
    "fig = generate_cite_density_plot(adata)\n",
    "plt.show()\n",
    "\n",
    "def apply_cite_threshold(adata, assay_layer=\"CITE\", hash_threshold=1.5):\n",
    "    \"\"\"\n",
    "    Apply a threshold to CITE-seq data to classify Dex+ populations.\n",
    "\n",
    "    Parameters:\n",
    "    - adata: AnnData object containing the CITE-seq layer.\n",
    "    - assay_layer: Layer containing CITE-seq data.\n",
    "    - hash_threshold: Threshold value to define Dex+ populations.\n",
    "\n",
    "    Returns:\n",
    "    - Updated AnnData object with a new 'dex_positive' column in obs.\n",
    "    \"\"\"\n",
    "    cite_data = adata.layers[assay_layer]\n",
    "\n",
    "    # Identify Dex+ cells (any protein exceeding threshold)\n",
    "    dex_positive = (cite_data > hash_threshold).any(axis=1)\n",
    "\n",
    "    # Store the result in metadata\n",
    "    adata.obs[\"dex_positive\"] = dex_positive.astype(int)  # 1 for Dex+, 0 for Dex−\n",
    "\n",
    "    return adata\n",
    "\n",
    "# Apply threshold to define Dex+ cells\n",
    "adata = apply_cite_threshold(adata, assay_layer=\"CITE\", hash_threshold=1.5)\n",
    "\n",
    "# Check summary of Dex+ classifications\n",
    "adata.obs[\"dex_positive\"].value_counts()\n",
    "\n",
    "# Apply threshold to classify Dex+ and Dex− cells\n",
    "adata = apply_cite_threshold(adata, assay_layer=\"CITE\", hash_threshold=1.5)\n",
    "\n",
    "# Create subsets for Dex+ and Dex− populations\n",
    "adata_dex_pos = adata[adata.obs[\"dex_positive\"] == 1].copy()\n",
    "adata_dex_neg = adata[adata.obs[\"dex_positive\"] == 0].copy()\n",
    "\n",
    "# Check the number of cells in each subset\n",
    "print(f\"Dex+ cells: {adata_dex_pos.n_obs}\")\n",
    "print(f\"Dex− cells: {adata_dex_neg.n_obs}\")\n",
    "\n"
   ]
  },
  {
   "cell_type": "code",
   "execution_count": null,
   "metadata": {},
   "outputs": [],
   "source": []
  }
 ],
 "metadata": {
  "kernelspec": {
   "display_name": "Python 3",
   "language": "python",
   "name": "python3"
  },
  "language_info": {
   "codemirror_mode": {
    "name": "ipython",
    "version": 3
   },
   "file_extension": ".py",
   "mimetype": "text/x-python",
   "name": "python",
   "nbconvert_exporter": "python",
   "pygments_lexer": "ipython3",
   "version": "3.10.11"
  }
 },
 "nbformat": 4,
 "nbformat_minor": 2
}
