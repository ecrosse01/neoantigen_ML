{
 "cells": [
  {
   "cell_type": "code",
   "execution_count": 1,
   "metadata": {},
   "outputs": [],
   "source": [
    "import os\n",
    "import scanpy as sc\n",
    "import scipy.io\n",
    "import scipy.sparse as sp\n",
    "import pandas as pd \n",
    "import numpy as np\n",
    "import anndata\n",
    "import matplotlib.pyplot as plt\n"
   ]
  },
  {
   "cell_type": "markdown",
   "metadata": {},
   "source": [
    "Set directory variables for the samples"
   ]
  },
  {
   "cell_type": "code",
   "execution_count": 24,
   "metadata": {},
   "outputs": [
    {
     "name": "stdout",
     "output_type": "stream",
     "text": [
      "{'dir_gex': '/Users/ecrosse/Desktop/data_for_edie_third_batch_january/WJK-2859_SRSF2_9/CellRangerGex_results', 'dir_dex': '/Users/ecrosse/Desktop/data_for_edie_third_batch_january/WJK-2859_SRSF2_9_dextramer_count/umi_count', 'dir_TCR': '/Users/ecrosse/Desktop/data_for_edie_third_batch_january/WJK-2859_SRSF2_9_TCR_VDJ/CellRangerVdj_results', 'dir_CITE': '/Users/ecrosse/Desktop/data_for_edie_third_batch_january/WJK-2859_SRSF2_9_hash_count/umi_count'}\n",
      "{'dir_gex': '/Users/ecrosse/Desktop/dextramer_data_for_edie_january_part_2/WJK-2864_SRSF2_10/CellRangerGex_results', 'dir_dex': '/Users/ecrosse/Desktop/dextramer_data_for_edie_january_part_2/WJK-2864_SRSF2_10_dextramer_count/umi_count', 'dir_TCR': '/Users/ecrosse/Desktop/dextramer_data_for_edie_january_part_2/WJK-2864_SRSF2_10_TCR_VDJ/CellRangerVdj_results', 'dir_CITE': '/Users/ecrosse/Desktop/dextramer_data_for_edie_january_part_2/WJK-2864_SRSF2_10_hash_count/umi_count'}\n"
     ]
    }
   ],
   "source": [
    "def set_directories(patient_id, base_dir):\n",
    "    \"\"\"\n",
    "    Generate a dictionary containing paths to relevant directories for a given patient.\n",
    "    \n",
    "    Parameters:\n",
    "    - patient_id (str): The unique identifier for the patient.\n",
    "    - base_dir (str): The base directory containing all patient data.\n",
    "    \n",
    "    Returns:\n",
    "    - dict: A dictionary with paths to gene expression, dextramer, TCR, and CITE-seq data.\n",
    "    \"\"\"\n",
    "    return {\n",
    "        \"dir_gex\": os.path.join(base_dir, f\"{patient_id}/CellRangerGex_results\"),\n",
    "        \"dir_dex\": os.path.join(base_dir, f\"{patient_id}_dextramer_count/umi_count\"),\n",
    "        \"dir_TCR\": os.path.join(base_dir, f\"{patient_id}_TCR_VDJ/CellRangerVdj_results\"),\n",
    "        \"dir_CITE\": os.path.join(base_dir, f\"{patient_id}_hash_count/umi_count\")\n",
    "    }\n",
    "\n",
    "# Define base directory and patient IDs\n",
    "base_dir = \"/Users/ecrosse/Desktop/\"\n",
    "\n",
    "# Set directories for each patient\n",
    "dirs_SRSF2_9 = set_directories(\"data_for_edie_third_batch_january/WJK-2859_SRSF2_9\", base_dir)\n",
    "dirs_SRSF2_10 = set_directories(\"dextramer_data_for_edie_january_part_2/WJK-2864_SRSF2_10\", base_dir)\n",
    "\n",
    "# Print to verify the directory structure\n",
    "print(dirs_SRSF2_9)\n",
    "print(dirs_SRSF2_10)\n"
   ]
  },
  {
   "cell_type": "code",
   "execution_count": 25,
   "metadata": {},
   "outputs": [
    {
     "name": "stdout",
     "output_type": "stream",
     "text": [
      "/Users/ecrosse/Desktop/data_for_edie_third_batch_january/WJK-2859_SRSF2_9/CellRangerGex_results\n",
      "/Users/ecrosse/Desktop/data_for_edie_third_batch_january/WJK-2859_SRSF2_9_dextramer_count/umi_count\n",
      "/Users/ecrosse/Desktop/data_for_edie_third_batch_january/WJK-2859_SRSF2_9_hash_count/umi_count\n"
     ]
    },
    {
     "name": "stderr",
     "output_type": "stream",
     "text": [
      "/Library/Frameworks/Python.framework/Versions/3.10/lib/python3.10/site-packages/anndata/_core/anndata.py:1900: UserWarning: Variable names are not unique. To make them unique, call `.var_names_make_unique`.\n",
      "  utils.warn_names_duplicates(\"var\")\n",
      "/Library/Frameworks/Python.framework/Versions/3.10/lib/python3.10/site-packages/anndata/_core/anndata.py:1900: UserWarning: Variable names are not unique. To make them unique, call `.var_names_make_unique`.\n",
      "  utils.warn_names_duplicates(\"var\")\n"
     ]
    },
    {
     "data": {
      "text/plain": [
       "AnnData object with n_obs × n_vars = 8008 × 36601\n",
       "    var: 'gene_ids', 'feature_types', 'genome'"
      ]
     },
     "execution_count": 25,
     "metadata": {},
     "output_type": "execute_result"
    }
   ],
   "source": [
    "# Define paths\n",
    "dir_gex = dirs_SRSF2_9[\"dir_gex\"]\n",
    "dir_dex = dirs_SRSF2_9[\"dir_dex\"]\n",
    "dir_CITE = dirs_SRSF2_9[\"dir_CITE\"]\n",
    "\n",
    "print(dir_gex)\n",
    "print(dir_dex)\n",
    "print(dir_CITE)\n",
    "\n",
    "adata = sc.read_10x_h5(os.path.join(dir_gex, \"filtered_feature_bc_matrix.h5\"))\n",
    "adata.var_names_make_unique()\n",
    "adata"
   ]
  },
  {
   "cell_type": "code",
   "execution_count": 26,
   "metadata": {},
   "outputs": [
    {
     "name": "stdout",
     "output_type": "stream",
     "text": [
      "CITE-seq and Dextramer data successfully added to anndata.\n"
     ]
    }
   ],
   "source": [
    "# Load CITE-seq data\n",
    "cite_matrix = scipy.io.mmread(f\"{dir_CITE}/matrix.mtx.gz\").T.tocsr()\n",
    "cite_barcodes = pd.read_csv(f\"{dir_CITE}/barcodes.tsv.gz\", header=None, sep='\\t')[0].values + \"-1\"\n",
    "cite_features = pd.read_csv(f\"{dir_CITE}/features.tsv.gz\", header=None, sep='\\t')[1].values\n",
    "\n",
    "# Load Dextramer data\n",
    "dex_matrix = scipy.io.mmread(f\"{dir_dex}/matrix.mtx.gz\").T.tocsr()\n",
    "dex_barcodes = pd.read_csv(f\"{dir_dex}/barcodes.tsv.gz\", header=None, sep='\\t')[0].values + \"-1\"\n",
    "dex_features = pd.read_csv(f\"{dir_dex}/features.tsv.gz\", header=None, sep='\\t')[1].values\n",
    "\n",
    "# Find common barcodes across all datasets\n",
    "common_barcodes = list(set(adata.obs_names) & set(cite_barcodes) & set(dex_barcodes))\n",
    "\n",
    "# Subset adata to common barcodes\n",
    "adata = adata[adata.obs_names.isin(common_barcodes)].copy()\n",
    "\n",
    "# Ensure barcodes are in the same order\n",
    "cite_indices = np.array([np.where(cite_barcodes == bc)[0][0] for bc in adata.obs_names])\n",
    "dex_indices = np.array([np.where(dex_barcodes == bc)[0][0] for bc in adata.obs_names])\n",
    "\n",
    "cite_matrix = cite_matrix[cite_indices, :]\n",
    "dex_matrix = dex_matrix[dex_indices, :]\n",
    "\n",
    "# Store multimodal data in .obsm\n",
    "adata.obsm[\"CITE\"] = cite_matrix\n",
    "adata.obsm[\"Dextramer\"] = dex_matrix\n",
    "\n",
    "# Store feature names in .uns\n",
    "adata.uns[\"CITE_features\"] = cite_features\n",
    "adata.uns[\"Dextramer_features\"] = dex_features\n",
    "\n",
    "print(\"CITE-seq and Dextramer data successfully added to anndata.\")\n",
    "\n"
   ]
  },
  {
   "cell_type": "code",
   "execution_count": 27,
   "metadata": {},
   "outputs": [
    {
     "data": {
      "text/plain": [
       "AnnData object with n_obs × n_vars = 7992 × 36601\n",
       "    var: 'gene_ids', 'feature_types', 'genome'\n",
       "    uns: 'CITE_features', 'Dextramer_features'\n",
       "    obsm: 'CITE', 'Dextramer'"
      ]
     },
     "execution_count": 27,
     "metadata": {},
     "output_type": "execute_result"
    }
   ],
   "source": [
    "adata"
   ]
  },
  {
   "cell_type": "markdown",
   "metadata": {},
   "source": [
    "I got up to here "
   ]
  },
  {
   "cell_type": "code",
   "execution_count": 28,
   "metadata": {},
   "outputs": [],
   "source": [
    "adata.write(\"adata_raw.h5ad\")"
   ]
  },
  {
   "cell_type": "code",
   "execution_count": 29,
   "metadata": {},
   "outputs": [],
   "source": [
    "# mitochondrial genes, \"MT-\" for human, \"Mt-\" for mouse\n",
    "adata.var[\"mt\"] = adata.var_names.str.startswith(\"MT-\")\n",
    "\n",
    "sc.pp.calculate_qc_metrics(\n",
    "    adata, qc_vars=[\"mt\"], percent_top=None, log1p=False, inplace=True\n",
    ")"
   ]
  },
  {
   "cell_type": "code",
   "execution_count": 30,
   "metadata": {},
   "outputs": [
    {
     "name": "stdout",
     "output_type": "stream",
     "text": [
      "       n_genes_by_counts  total_counts  total_counts_mt  pct_counts_mt\n",
      "count        7992.000000   7992.000000      7992.000000    7992.000000\n",
      "mean         1840.969094   4664.024902        42.327953       1.058015\n",
      "std           688.167250   2522.644531        40.968998       1.335171\n",
      "min            40.000000    500.000000         0.000000       0.000000\n",
      "25%          1481.000000   3430.000000        11.000000       0.309042\n",
      "50%          1794.000000   4375.000000        36.000000       0.857646\n",
      "75%          2104.250000   5321.250000        61.000000       1.360179\n",
      "max          6367.000000  30498.000000       752.000000      27.407408\n"
     ]
    }
   ],
   "source": [
    "print(adata.obs.describe())"
   ]
  },
  {
   "cell_type": "code",
   "execution_count": 31,
   "metadata": {},
   "outputs": [],
   "source": [
    "sc.pp.filter_cells(adata, min_genes=250)\n",
    "sc.pp.filter_genes(adata, min_cells=3)\n",
    "sc.pp.filter_cells(adata, min_counts=500)"
   ]
  },
  {
   "cell_type": "code",
   "execution_count": 32,
   "metadata": {},
   "outputs": [],
   "source": [
    "# Saving count data\n",
    "adata.layers[\"counts\"] = adata.X.copy()\n",
    "\n",
    "# Normalize data (log1p normalization)\n",
    "sc.pp.normalize_total(adata, target_sum=1e4)\n",
    "sc.pp.log1p(adata)"
   ]
  },
  {
   "cell_type": "code",
   "execution_count": 33,
   "metadata": {},
   "outputs": [
    {
     "name": "stderr",
     "output_type": "stream",
     "text": [
      "/Library/Frameworks/Python.framework/Versions/3.10/lib/python3.10/site-packages/scanpy/preprocessing/_highly_variable_genes.py:215: FutureWarning: The default of observed=False is deprecated and will be changed to True in a future version of pandas. Pass observed=False to retain current behavior or observed=True to adopt the future default and silence this warning.\n",
      "  disp_grouped = df.groupby('mean_bin')['dispersions']\n"
     ]
    }
   ],
   "source": [
    "sc.pp.highly_variable_genes(adata, n_top_genes=4000)\n"
   ]
  },
  {
   "cell_type": "code",
   "execution_count": 34,
   "metadata": {},
   "outputs": [],
   "source": [
    "# Filter out genes starting with \"TR\"\n",
    "variable_genes = adata.var[\"highly_variable\"]\n",
    "filtered_variable_genes = adata.var_names[variable_genes & ~adata.var_names.str.startswith(\"TR\")]"
   ]
  },
  {
   "cell_type": "code",
   "execution_count": 35,
   "metadata": {},
   "outputs": [],
   "source": [
    "# Update the list of highly variable genes\n",
    "adata.var[\"highly_variable\"] = adata.var_names.isin(filtered_variable_genes)\n"
   ]
  },
  {
   "cell_type": "code",
   "execution_count": 36,
   "metadata": {},
   "outputs": [],
   "source": [
    "# Scale the data\n",
    "sc.pp.scale(adata, max_value=10)  # Scale all genes"
   ]
  },
  {
   "cell_type": "markdown",
   "metadata": {},
   "source": [
    "VDJ integration"
   ]
  },
  {
   "cell_type": "code",
   "execution_count": 37,
   "metadata": {},
   "outputs": [
    {
     "name": "stdout",
     "output_type": "stream",
     "text": [
      "              barcode chain raw_clonotype_id    v_gene d_gene   j_gene c_gene  \\\n",
      "0  AAACCTGAGCCAGTAG-1   TRA     clonotype332   TRAV1-2    NaN   TRAJ12   TRAC   \n",
      "1  AAACCTGAGCCAGTAG-1   TRB     clonotype332   TRBV6-1  TRBD2  TRBJ2-1  TRBC2   \n",
      "2  AAACCTGAGGAGTTGC-1   TRA    clonotype1183  TRAV26-2    NaN   TRAJ49   TRAC   \n",
      "3  AAACCTGAGGAGTTGC-1   TRB    clonotype1183    TRBV19  TRBD1  TRBJ2-7  TRBC2   \n",
      "4  AAACCTGAGTACGACG-1   TRB       clonotype5    TRBV28    NaN  TRBJ1-1  TRBC1   \n",
      "\n",
      "                 cdr1_nt             cdr2_nt  \\\n",
      "0     ACATCTGGGTTCAACGGG  AATGTTCTGGATGGTTTG   \n",
      "1        ATGAACCATAACTCC  TCAGCTTCTGAGGGTACC   \n",
      "2  ACAATCAGTGGAACTGATTAC     GGTCTTACAAGCAAT   \n",
      "3        TTGAACCACGATGCC  TCACAGATAGTAAATGAC   \n",
      "4        ATGGACCATGAAAAT  TCATATGATGTTAAAATG   \n",
      "\n",
      "                                         cdr3_nt  \n",
      "0           TGTGCTGGGATGGATAGCAGCTATAAATTGATCTTC  \n",
      "1  TGTGCCAGCAGTGAACTAGCGGGAGGGTACAATGAGCAGTTCTTC  \n",
      "2           TGCATCCTGAGAGACTCGGATAACCAGTTCTATTTT  \n",
      "3  TGTGCCAGTAGCGACACCGGGACAGGACTCTACGAGCAGTACTTC  \n",
      "4           TGTGCCAGCAGATCCGGGACTACTGAAGCTTTCTTT  \n"
     ]
    }
   ],
   "source": [
    "# set TCR dir\n",
    "dir_TCR = dirs_SRSF2_9[\"dir_TCR\"]\n",
    "\n",
    "\n",
    "# Load V(D)J data\n",
    "vdj = pd.read_csv(f\"{dir_TCR}/filtered_contig_annotations.csv\")\n",
    "\n",
    "# Filtering steps\n",
    "tcr = vdj[\n",
    "    (vdj[\"high_confidence\"] == True) & \n",
    "    (vdj[\"chain\"].isin([\"TRA\", \"TRB\"])) & \n",
    "    (vdj[\"productive\"] == True) & \n",
    "    (vdj[\"umis\"] >= 3)\n",
    "][[\"barcode\", \"chain\", \"raw_clonotype_id\", \n",
    "   \"v_gene\", \"d_gene\", \"j_gene\", \"c_gene\", \n",
    "   \"cdr1_nt\", \"cdr2_nt\", \"cdr3_nt\"]]\n",
    "\n",
    "# Group by raw_clonotype_id and filter for entries that contain both TRA and TRB chains\n",
    "tcr = tcr.groupby(\"raw_clonotype_id\").filter(lambda g: any(g[\"chain\"] == \"TRA\") and any(g[\"chain\"] == \"TRB\"))\n",
    "\n",
    "# Reset index if needed\n",
    "tcr = tcr.reset_index(drop=True)\n",
    "\n",
    "# Print summary\n",
    "print(tcr.head())"
   ]
  },
  {
   "cell_type": "code",
   "execution_count": 38,
   "metadata": {},
   "outputs": [
    {
     "name": "stdout",
     "output_type": "stream",
     "text": [
      "                   raw_clonotype_id\n",
      "barcode                            \n",
      "AAACCTGAGCCAGTAG-1     clonotype332\n",
      "AAACCTGAGGAGTTGC-1    clonotype1183\n",
      "AAACCTGAGTACGACG-1       clonotype5\n",
      "AAACCTGCACGGTAAG-1     clonotype282\n",
      "AAACCTGCAGTCGATT-1      clonotype64\n"
     ]
    }
   ],
   "source": [
    "# Load clonotype data\n",
    "clono = pd.read_csv(f\"{dir_TCR}/clonotypes.csv\")\n",
    "\n",
    "# Select and rename columns\n",
    "clono = clono[[\"clonotype_id\", \"cdr3s_aa\", \"cdr3s_nt\"]].rename(columns={\"clonotype_id\": \"raw_clonotype_id\"})\n",
    "\n",
    "# Perform a left join with tcr on \"raw_clonotype_id\"\n",
    "tcr = tcr.merge(clono, on=\"raw_clonotype_id\", how=\"left\")\n",
    "\n",
    "# Select barcode and raw_clonotype_id\n",
    "clonotype_info = tcr[[\"barcode\", \"raw_clonotype_id\"]].drop_duplicates(subset=[\"barcode\"])\n",
    "\n",
    "# Set barcode as row index and drop barcode column\n",
    "clonotype_info = clonotype_info.set_index(\"barcode\")\n",
    "\n",
    "# Print the resulting dataframe\n",
    "print(clonotype_info.head())"
   ]
  },
  {
   "cell_type": "code",
   "execution_count": 39,
   "metadata": {},
   "outputs": [
    {
     "name": "stdout",
     "output_type": "stream",
     "text": [
      "                    n_genes_by_counts  total_counts  total_counts_mt  \\\n",
      "AAACCTGAGAGACTAT-1                605         854.0             16.0   \n",
      "AAACCTGAGCCAGTAG-1               1998        5492.0              0.0   \n",
      "AAACCTGAGGAGTTGC-1               1604        4560.0            100.0   \n",
      "AAACCTGAGTACGACG-1               1424        4033.0              7.0   \n",
      "AAACCTGCACAGTCGC-1               1722        4514.0             28.0   \n",
      "\n",
      "                    pct_counts_mt  n_genes  n_counts raw_clonotype_id  \n",
      "AAACCTGAGAGACTAT-1       1.873536      605     853.0              NaN  \n",
      "AAACCTGAGCCAGTAG-1       0.000000     1998    5492.0     clonotype332  \n",
      "AAACCTGAGGAGTTGC-1       2.192982     1604    4560.0    clonotype1183  \n",
      "AAACCTGAGTACGACG-1       0.173568     1424    4033.0       clonotype5  \n",
      "AAACCTGCACAGTCGC-1       0.620292     1722    4514.0              NaN  \n"
     ]
    }
   ],
   "source": [
    "# Add tcr to metadata\n",
    "adata.obs = adata.obs.join(clonotype_info, how=\"left\")\n",
    "\n",
    "# Check if the metadata was added\n",
    "print(adata.obs.head())\n"
   ]
  },
  {
   "cell_type": "code",
   "execution_count": 40,
   "metadata": {},
   "outputs": [
    {
     "name": "stdout",
     "output_type": "stream",
     "text": [
      "Index(['n_genes_by_counts', 'total_counts', 'total_counts_mt', 'pct_counts_mt',\n",
      "       'n_genes', 'n_counts', 'raw_clonotype_id'],\n",
      "      dtype='object')\n",
      "AAACCTGAGAGACTAT-1              NaN\n",
      "AAACCTGAGCCAGTAG-1     clonotype332\n",
      "AAACCTGAGGAGTTGC-1    clonotype1183\n",
      "AAACCTGAGTACGACG-1       clonotype5\n",
      "AAACCTGCACAGTCGC-1              NaN\n",
      "Name: raw_clonotype_id, dtype: object\n"
     ]
    }
   ],
   "source": [
    "print(adata.obs.columns)  # Should include 'raw_clonotype_id'\n",
    "print(adata.obs[\"raw_clonotype_id\"].head())\n"
   ]
  },
  {
   "cell_type": "markdown",
   "metadata": {},
   "source": [
    "CITE-Seq analysis - to define the Dex + population"
   ]
  },
  {
   "cell_type": "code",
   "execution_count": 41,
   "metadata": {},
   "outputs": [
    {
     "data": {
      "text/plain": [
       "AnnData object with n_obs × n_vars = 7991 × 20412\n",
       "    obs: 'n_genes_by_counts', 'total_counts', 'total_counts_mt', 'pct_counts_mt', 'n_genes', 'n_counts', 'raw_clonotype_id'\n",
       "    var: 'gene_ids', 'feature_types', 'genome', 'mt', 'n_cells_by_counts', 'mean_counts', 'pct_dropout_by_counts', 'total_counts', 'n_cells', 'highly_variable', 'means', 'dispersions', 'dispersions_norm', 'mean', 'std'\n",
       "    uns: 'CITE_features', 'Dextramer_features', 'log1p', 'hvg'\n",
       "    obsm: 'CITE', 'Dextramer'\n",
       "    layers: 'counts'"
      ]
     },
     "execution_count": 41,
     "metadata": {},
     "output_type": "execute_result"
    }
   ],
   "source": [
    "adata"
   ]
  },
  {
   "cell_type": "markdown",
   "metadata": {},
   "source": [
    "CITE-Seq Dex+ cell determination"
   ]
  },
  {
   "cell_type": "code",
   "execution_count": 43,
   "metadata": {},
   "outputs": [],
   "source": [
    "\n",
    "def clr_transform(matrix, eps=1e-9):\n",
    "    \"\"\"Applies CLR transformation to an input matrix (cell-wise), handling sparse matrices.\"\"\"\n",
    "    if sp.issparse(matrix):\n",
    "        matrix = matrix.toarray()  # Convert sparse matrix to dense\n",
    "\n",
    "    gm = np.exp(np.mean(np.log(matrix + eps), axis=1, keepdims=True))  # Geometric mean per cell\n",
    "    return np.log1p(matrix / gm)  # Log-transform after division\n",
    "\n",
    "# Apply CLR to CITE-seq data\n",
    "adata.obsm[\"CITE_clr\"] = clr_transform(adata.obsm[\"CITE\"])\n",
    "\n"
   ]
  },
  {
   "cell_type": "code",
   "execution_count": 45,
   "metadata": {},
   "outputs": [
    {
     "data": {
      "image/png": "[encoded data removed]",
      "text/plain": [
       "<Figure size 800x500 with 1 Axes>"
      ]
     },
     "metadata": {},
     "output_type": "display_data"
    }
   ],
   "source": [
    "# Extract the CITE assay data from adata.obsm\n",
    "cite_data = adata.obsm[\"CITE_clr\"]\n",
    "\n",
    "# Calculate the total reads per cell (column sum)\n",
    "if sp.issparse(cite_data):\n",
    "    total_reads = np.array(cite_data.sum(axis=1)).flatten()  # Sum along rows (cells)\n",
    "else:\n",
    "    total_reads = cite_data.sum(axis=1)\n",
    "\n",
    "# Create density plot\n",
    "plt.figure(figsize=(8, 5))\n",
    "plt.hist(total_reads, bins=100, density=True, alpha=0.5, color=\"blue\")  # Histogram with density scaling\n",
    "plt.xlabel(\"Total Reads\")\n",
    "plt.ylabel(\"Density\")\n",
    "plt.title(\"Density Plot of Reads for CITE Assay\")\n",
    "plt.grid(True)\n",
    "plt.show()"
   ]
  }
 ],
 "metadata": {
  "kernelspec": {
   "display_name": "Python 3",
   "language": "python",
   "name": "python3"
  },
  "language_info": {
   "codemirror_mode": {
    "name": "ipython",
    "version": 3
   },
   "file_extension": ".py",
   "mimetype": "text/x-python",
   "name": "python",
   "nbconvert_exporter": "python",
   "pygments_lexer": "ipython3",
   "version": "3.10.11"
  }
 },
 "nbformat": 4,
 "nbformat_minor": 2
}
