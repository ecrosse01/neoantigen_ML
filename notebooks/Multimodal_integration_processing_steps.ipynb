{
 "cells": [
  {
   "cell_type": "markdown",
   "metadata": {},
   "source": [
    "## Integrate and process the different datasets"
   ]
  },
  {
   "cell_type": "markdown",
   "metadata": {},
   "source": [
    "Import libraries"
   ]
  },
  {
   "cell_type": "code",
   "execution_count": 1,
   "metadata": {},
   "outputs": [],
   "source": [
    "import os\n",
    "import scanpy as sc\n",
    "import scipy.io\n",
    "import scipy.sparse as sp\n",
    "import pandas as pd \n",
    "import numpy as np\n",
    "import anndata\n",
    "import matplotlib.pyplot as plt\n",
    "import seaborn as sns"
   ]
  },
  {
   "cell_type": "markdown",
   "metadata": {},
   "source": [
    "Set directories\n",
    "SRSF2_2 = Training set with known positive control binders\n",
    "SRSF2_9 = Test set with known true binders\n",
    "SRSF2_10 = Test set - noisy with no confirmed binders"
   ]
  },
  {
   "cell_type": "code",
   "execution_count": null,
   "metadata": {},
   "outputs": [
    {
     "name": "stdout",
     "output_type": "stream",
     "text": [
      "{'dir_gex': '/Users/ecrosse/Desktop/november_dextramer_data/WJK-2719_SRSF2_2/CellRangerGex_results', 'dir_dex': '/Users/ecrosse/Desktop/november_dextramer_data/WJK-2719_SRSF2_2_dextramer_count/umi_count', 'dir_TCR': '/Users/ecrosse/Desktop/november_dextramer_data/WJK-2719_SRSF2_2_TCR_VDJ/CellRangerVdj_results', 'dir_CITE': '/Users/ecrosse/Desktop/november_dextramer_data/WJK-2719_SRSF2_2_hash_count/umi_count'}\n",
      "{'dir_gex': '/Users/ecrosse/Desktop/data_for_edie_third_batch_january/WJK-2859_SRSF2_9/CellRangerGex_results', 'dir_dex': '/Users/ecrosse/Desktop/data_for_edie_third_batch_january/WJK-2859_SRSF2_9_dextramer_count/umi_count', 'dir_TCR': '/Users/ecrosse/Desktop/data_for_edie_third_batch_january/WJK-2859_SRSF2_9_TCR_VDJ/CellRangerVdj_results', 'dir_CITE': '/Users/ecrosse/Desktop/data_for_edie_third_batch_january/WJK-2859_SRSF2_9_hash_count/umi_count'}\n",
      "{'dir_gex': '/Users/ecrosse/Desktop/dextramer_data_for_edie_january_part_2/WJK-2864_SRSF2_10/CellRangerGex_results', 'dir_dex': '/Users/ecrosse/Desktop/dextramer_data_for_edie_january_part_2/WJK-2864_SRSF2_10_dextramer_count/umi_count', 'dir_TCR': '/Users/ecrosse/Desktop/dextramer_data_for_edie_january_part_2/WJK-2864_SRSF2_10_TCR_VDJ/CellRangerVdj_results', 'dir_CITE': '/Users/ecrosse/Desktop/dextramer_data_for_edie_january_part_2/WJK-2864_SRSF2_10_hash_count/umi_count'}\n"
     ]
    }
   ],
   "source": [
    "import os\n",
    "\n",
    "def set_directories(patient_id, base_dir):\n",
    "    \"\"\"\n",
    "    Generate a dictionary containing paths to relevant directories for a given patient.\n",
    "\n",
    "    Parameters:\n",
    "    - patient_id (str): The unique identifier for the patient.\n",
    "    - base_dir (str): The base directory containing all patient data.\n",
    "\n",
    "    Returns:\n",
    "    - dict: A dictionary with paths to gene expression, dextramer, TCR, and CITE-seq data.\n",
    "    \"\"\"\n",
    "    return {\n",
    "        \"dir_gex\": os.path.join(base_dir, f\"{patient_id}/CellRangerGex_results\"),\n",
    "        \"dir_dex\": os.path.join(base_dir, f\"{patient_id}_dextramer_count/umi_count\"),\n",
    "        \"dir_TCR\": os.path.join(base_dir, f\"{patient_id}_TCR_VDJ/CellRangerVdj_results\"),\n",
    "        \"dir_CITE\": os.path.join(base_dir, f\"{patient_id}_hash_count/umi_count\")\n",
    "    }\n",
    "\n",
    "# --- USER SETUP ---\n",
    "\n",
    "# Define the base directory relative to the repo\n",
    "# (Recommend: create a 'data/' folder inside your GitHub repo for safety)\n",
    "base_dir = \"./data\"\n",
    "\n",
    "# Example patient IDs\n",
    "patient_ids = [\n",
    "    \"SRSF2_2\",\n",
    "    \"SRSF2_9\",\n",
    "    \"SRSF2_10\"\n",
    "]\n",
    "\n",
    "# Set directories for each patient\n",
    "dirs = {pid: set_directories(pid, base_dir) for pid in patient_ids}\n",
    "\n",
    "# Print to verify\n",
    "for pid, paths in dirs.items():\n",
    "    print(f\"\\nPatient: {pid}\")\n",
    "    for key, path in paths.items():\n",
    "        print(f\"  {key}: {path}\")\n"
   ]
  },
  {
   "cell_type": "markdown",
   "metadata": {},
   "source": [
    "Data integration and processing function"
   ]
  },
  {
   "cell_type": "code",
   "execution_count": 8,
   "metadata": {},
   "outputs": [],
   "source": [
    "def load_and_prepare_adata(dirs):\n",
    "    # Unpack paths\n",
    "    dir_gex, dir_dex, dir_CITE, dir_TCR = (\n",
    "        dirs[\"dir_gex\"], dirs[\"dir_dex\"], dirs[\"dir_CITE\"], dirs[\"dir_TCR\"]\n",
    "    )\n",
    "\n",
    "    # Load gene expression\n",
    "    adata = sc.read_10x_h5(os.path.join(dir_gex, \"filtered_feature_bc_matrix.h5\"))\n",
    "    adata.var_names_make_unique()\n",
    "\n",
    "    # Load CITE-seq\n",
    "    cite_matrix = scipy.io.mmread(f\"{dir_CITE}/matrix.mtx.gz\").T.tocsr()\n",
    "    cite_barcodes = pd.read_csv(f\"{dir_CITE}/barcodes.tsv.gz\", header=None, sep='\\t')[0].values + \"-1\"\n",
    "    cite_features = pd.read_csv(f\"{dir_CITE}/features.tsv.gz\", header=None, sep='\\t')[1].values\n",
    "\n",
    "    # Load Dextramer\n",
    "    dex_matrix = scipy.io.mmread(f\"{dir_dex}/matrix.mtx.gz\").T.tocsr()\n",
    "    dex_barcodes = pd.read_csv(f\"{dir_dex}/barcodes.tsv.gz\", header=None, sep='\\t')[0].values + \"-1\"\n",
    "    dex_features = pd.read_csv(f\"{dir_dex}/features.tsv.gz\", header=None, sep='\\t')[1].values\n",
    "\n",
    "    # Intersect barcodes\n",
    "    common = list(set(adata.obs_names) & set(cite_barcodes) & set(dex_barcodes))\n",
    "    adata = adata[adata.obs_names.isin(common)].copy()\n",
    "\n",
    "    # Align barcode indices\n",
    "    cite_idx = np.array([np.where(cite_barcodes == bc)[0][0] for bc in adata.obs_names])\n",
    "    dex_idx = np.array([np.where(dex_barcodes == bc)[0][0] for bc in adata.obs_names])\n",
    "    adata.obsm[\"CITE\"] = cite_matrix[cite_idx, :]\n",
    "    adata.obsm[\"Dextramer\"] = dex_matrix[dex_idx, :]\n",
    "    adata.uns[\"CITE_features\"] = cite_features\n",
    "    adata.uns[\"Dextramer_features\"] = dex_features\n",
    "\n",
    "    # QC + normalization\n",
    "    adata.var[\"mt\"] = adata.var_names.str.startswith(\"MT-\")\n",
    "    sc.pp.calculate_qc_metrics(adata, qc_vars=[\"mt\"], inplace=True)\n",
    "    sc.pp.filter_cells(adata, min_genes=250)\n",
    "    sc.pp.filter_genes(adata, min_cells=3)\n",
    "    sc.pp.filter_cells(adata, min_counts=500)\n",
    "    adata.layers[\"counts\"] = adata.X.copy()\n",
    "    sc.pp.normalize_total(adata, target_sum=1e4)\n",
    "    sc.pp.log1p(adata)\n",
    "    sc.pp.highly_variable_genes(adata, n_top_genes=4000)\n",
    "    adata.var[\"highly_variable\"] &= ~adata.var_names.str.startswith(\"TR\")\n",
    "    sc.pp.scale(adata, max_value=10)\n",
    "\n",
    "    # TCR clonotype integration\n",
    "    vdj = pd.read_csv(f\"{dir_TCR}/filtered_contig_annotations.csv\")\n",
    "    tcr = vdj[\n",
    "        (vdj[\"high_confidence\"]) &\n",
    "        (vdj[\"productive\"]) &\n",
    "        (vdj[\"chain\"].isin([\"TRA\", \"TRB\"])) &\n",
    "        (vdj[\"umis\"] >= 3)\n",
    "    ][[\"barcode\", \"chain\", \"raw_clonotype_id\"]]\n",
    "    tcr = tcr.groupby(\"raw_clonotype_id\").filter(lambda g: {\"TRA\", \"TRB\"}.issubset(set(g[\"chain\"])))\n",
    "    tcr = tcr.reset_index(drop=True)\n",
    "\n",
    "    clono = pd.read_csv(f\"{dir_TCR}/clonotypes.csv\")[[\"clonotype_id\", \"cdr3s_aa\", \"cdr3s_nt\"]]\n",
    "    clono = clono.rename(columns={\"clonotype_id\": \"raw_clonotype_id\"})\n",
    "    tcr = tcr.merge(clono, on=\"raw_clonotype_id\", how=\"left\")\n",
    "\n",
    "    clonotype_info = tcr[[\"barcode\", \"raw_clonotype_id\"]].drop_duplicates().set_index(\"barcode\")\n",
    "    adata.obs = adata.obs.join(clonotype_info, how=\"left\")\n",
    "\n",
    "    # CITE CLR transform (but no thresholding yet)\n",
    "    def clr_transform(matrix, eps=1e-9):\n",
    "        if sp.issparse(matrix): matrix = matrix.toarray()\n",
    "        gm = np.exp(np.mean(np.log(matrix + eps), axis=1, keepdims=True))\n",
    "        return np.log((matrix + eps) / (gm + eps))\n",
    "\n",
    "    adata.obsm[\"CITE_clr\"] = clr_transform(adata.obsm[\"CITE\"])\n",
    "\n",
    "    return adata\n"
   ]
  },
  {
   "cell_type": "markdown",
   "metadata": {},
   "source": [
    "Apply to a sample and find manual CITE-Seq threshold"
   ]
  },
  {
   "cell_type": "code",
   "execution_count": 32,
   "metadata": {},
   "outputs": [
    {
     "name": "stderr",
     "output_type": "stream",
     "text": [
      "/Library/Frameworks/Python.framework/Versions/3.10/lib/python3.10/site-packages/anndata/_core/anndata.py:1900: UserWarning: Variable names are not unique. To make them unique, call `.var_names_make_unique`.\n",
      "  utils.warn_names_duplicates(\"var\")\n",
      "/Library/Frameworks/Python.framework/Versions/3.10/lib/python3.10/site-packages/anndata/_core/anndata.py:1900: UserWarning: Variable names are not unique. To make them unique, call `.var_names_make_unique`.\n",
      "  utils.warn_names_duplicates(\"var\")\n",
      "/Library/Frameworks/Python.framework/Versions/3.10/lib/python3.10/site-packages/scanpy/preprocessing/_highly_variable_genes.py:215: FutureWarning: The default of observed=False is deprecated and will be changed to True in a future version of pandas. Pass observed=False to retain current behavior or observed=True to adopt the future default and silence this warning.\n",
      "  disp_grouped = df.groupby('mean_bin')['dispersions']\n"
     ]
    },
    {
     "data": {
      "image/png": "[encoded data removed]",
      "text/plain": [
       "<Figure size 700x500 with 1 Axes>"
      ]
     },
     "metadata": {},
     "output_type": "display_data"
    }
   ],
   "source": [
    "adata = load_and_prepare_adata(dirs_SRSF2_2)\n",
    "\n",
    "# Then inspect hash distribution\n",
    "hash_idx = np.where(adata.uns[\"CITE_features\"] == \"Hash\")[0][0]\n",
    "hash_values = adata.obsm[\"CITE_clr\"][:, hash_idx]\n",
    "\n",
    "plt.figure(figsize=(7, 5))\n",
    "sns.histplot(hash_values, kde=True, bins=50)\n",
    "plt.xlabel(\"CLR-transformed Hash expression\")\n",
    "plt.title(\"Hash Histogram\")\n",
    "plt.show()\n"
   ]
  },
  {
   "cell_type": "markdown",
   "metadata": {},
   "source": [
    "Apply threshold to define Dex+ cells"
   ]
  },
  {
   "cell_type": "code",
   "execution_count": 34,
   "metadata": {},
   "outputs": [],
   "source": [
    "def finalize_adata_after_hash(adata, hash_cutoff=0.5):\n",
    "    # Locate \"Hash\" feature index\n",
    "    hash_idx = np.where(adata.uns[\"CITE_features\"] == \"Hash\")[0][0]\n",
    "    \n",
    "    # Extract CLR-transformed Hash counts\n",
    "    hash_vals = adata.obsm[\"CITE_clr\"][:, hash_idx]\n",
    "    adata.obs[\"HashCounts\"] = hash_vals\n",
    "\n",
    "    # Assign manual hash demux label\n",
    "    adata.obs[\"manual_hash_dmux\"] = np.where(hash_vals > hash_cutoff, \"CITE_hash\", \"Negative\")\n",
    "\n",
    "    # Remove \"unmapped\" dextramer feature\n",
    "    unmapped_idx = np.where(adata.uns[\"Dextramer_features\"] == \"unmapped\")[0]\n",
    "    if unmapped_idx.size > 0:\n",
    "        adata.uns[\"Dextramer_features\"] = np.delete(adata.uns[\"Dextramer_features\"], unmapped_idx[0])\n",
    "        adata.obsm[\"Dextramer\"] = sp.csr_matrix(\n",
    "            np.delete(adata.obsm[\"Dextramer\"].toarray(), unmapped_idx[0], axis=1)\n",
    "        )\n",
    "\n",
    "    # Add total dextramer counts\n",
    "    adata.obs[\"Dextramer_total_counts\"] = adata.obsm[\"Dextramer\"].sum(axis=1)\n",
    "\n",
    "    return adata\n",
    "\n",
    "adata = finalize_adata_after_hash(adata, hash_cutoff=0.5)\n"
   ]
  },
  {
   "cell_type": "markdown",
   "metadata": {},
   "source": [
    "Save adata"
   ]
  },
  {
   "cell_type": "code",
   "execution_count": 35,
   "metadata": {},
   "outputs": [],
   "source": [
    "adata.write(\"adata_SRSF2_2_processed.h5ad\")"
   ]
  },
  {
   "cell_type": "code",
   "execution_count": 24,
   "metadata": {},
   "outputs": [
    {
     "data": {
      "text/plain": [
       "AnnData object with n_obs × n_vars = 7203 × 19684\n",
       "    obs: 'n_genes_by_counts', 'log1p_n_genes_by_counts', 'total_counts', 'log1p_total_counts', 'pct_counts_in_top_50_genes', 'pct_counts_in_top_100_genes', 'pct_counts_in_top_200_genes', 'pct_counts_in_top_500_genes', 'total_counts_mt', 'log1p_total_counts_mt', 'pct_counts_mt', 'n_genes', 'n_counts', 'raw_clonotype_id', 'HashCounts', 'manual_hash_dmux', 'Dextramer_total_counts'\n",
       "    var: 'gene_ids', 'feature_types', 'genome', 'mt', 'n_cells_by_counts', 'mean_counts', 'log1p_mean_counts', 'pct_dropout_by_counts', 'total_counts', 'log1p_total_counts', 'n_cells', 'highly_variable', 'means', 'dispersions', 'dispersions_norm', 'mean', 'std'\n",
       "    uns: 'CITE_features', 'Dextramer_features', 'log1p', 'hvg'\n",
       "    obsm: 'CITE', 'Dextramer', 'CITE_clr'\n",
       "    layers: 'counts'"
      ]
     },
     "execution_count": 24,
     "metadata": {},
     "output_type": "execute_result"
    }
   ],
   "source": [
    "adata"
   ]
  }
 ],
 "metadata": {
  "kernelspec": {
   "display_name": "Python 3",
   "language": "python",
   "name": "python3"
  },
  "language_info": {
   "codemirror_mode": {
    "name": "ipython",
    "version": 3
   },
   "file_extension": ".py",
   "mimetype": "text/x-python",
   "name": "python",
   "nbconvert_exporter": "python",
   "pygments_lexer": "ipython3",
   "version": "3.10.11"
  }
 },
 "nbformat": 4,
 "nbformat_minor": 2
}
