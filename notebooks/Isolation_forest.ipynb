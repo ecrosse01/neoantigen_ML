{
 "cells": [
  {
   "cell_type": "markdown",
   "metadata": {},
   "source": [
    "# Predicting TCR–Neoantigen Binding with ML models (Isolation Forest)"
   ]
  },
  {
   "cell_type": "markdown",
   "metadata": {},
   "source": [
    "#### Import Libraries"
   ]
  },
  {
   "cell_type": "code",
   "execution_count": 3,
   "metadata": {},
   "outputs": [],
   "source": [
    "import os\n",
    "import scanpy as sc\n",
    "import scipy.io\n",
    "import scipy.sparse as sp\n",
    "import pandas as pd \n",
    "import numpy as np\n",
    "import anndata\n",
    "import matplotlib.pyplot as plt\n",
    "import seaborn as sns"
   ]
  },
  {
   "cell_type": "markdown",
   "metadata": {},
   "source": [
    "Load feature matrices for the three samples"
   ]
  },
  {
   "cell_type": "code",
   "execution_count": 4,
   "metadata": {},
   "outputs": [
    {
     "name": "stdout",
     "output_type": "stream",
     "text": [
      "X_a shape: (401100, 8)\n",
      "X_b shape: (399550, 8)\n",
      "X_c shape: (360150, 8)\n"
     ]
    }
   ],
   "source": [
    "# Load feature matrices\n",
    "X_a = pd.read_parquet(\"data/feature_matrix_X_a.parquet\")\n",
    "X_b = pd.read_parquet(\"data/feature_matrix_X_b.parquet\")\n",
    "X_c = pd.read_parquet(\"data/feature_matrix_X_c.parquet\")\n",
    "\n",
    "# Quick sanity check\n",
    "print(f\"X_a shape: {X_a.shape}\")\n",
    "print(f\"X_b shape: {X_b.shape}\")\n",
    "print(f\"X_c shape: {X_c.shape}\")"
   ]
  },
  {
   "cell_type": "markdown",
   "metadata": {},
   "source": [
    "## Isolation forest model\n",
    "\n",
    "Set up the model"
   ]
  },
  {
   "cell_type": "code",
   "execution_count": 9,
   "metadata": {},
   "outputs": [],
   "source": [
    "from sklearn.preprocessing import StandardScaler\n",
    "from sklearn.ensemble import IsolationForest\n",
    "\n",
    "def run_isolation_forest(X, feature_cols, contamination=0.001, random_state=42, min_cells=5):\n",
    "    \"\"\"\n",
    "    Applies Isolation Forest to a feature matrix X.\n",
    "\n",
    "    Parameters:\n",
    "    - X (pd.DataFrame): Input feature matrix\n",
    "    - feature_cols (list): List of feature columns to use for modeling\n",
    "    - contamination (float): Proportion of outliers expected\n",
    "    - random_state (int): Random seed for reproducibility\n",
    "    - min_cells (int): Minimum number of cells required per (dextramer, clonotype) pair\n",
    "\n",
    "    Returns:\n",
    "    - X_ranked (pd.DataFrame): Ranked (dextramer, clonotype) binding predictions\n",
    "    - X (pd.DataFrame): Input X with added anomaly scores and inlier/outlier prediction\n",
    "    \"\"\"\n",
    "    \n",
    "    # Extract model features\n",
    "    X_model = X[feature_cols]\n",
    "\n",
    "    # Scale features\n",
    "    scaler = StandardScaler()\n",
    "    X_scaled = scaler.fit_transform(X_model)\n",
    "\n",
    "    # Train Isolation Forest\n",
    "    iso_forest = IsolationForest(\n",
    "        n_estimators=100,\n",
    "        contamination=contamination,\n",
    "        random_state=random_state\n",
    "    )\n",
    "    iso_forest.fit(X_scaled)\n",
    "\n",
    "    # Predict anomaly scores\n",
    "    X[\"binding_anomaly_score\"] = iso_forest.decision_function(X_scaled)\n",
    "    X[\"is_likely_binder\"] = iso_forest.predict(X_scaled)\n",
    "\n",
    "    print(\"Isolation Forest model trained.\")\n",
    "\n",
    "    # Group by (dextramer, clonotype)\n",
    "    X_grouped = X.groupby([\"dextramer\", \"raw_clonotype_id\"]).agg(\n",
    "        mean_score=(\"binding_anomaly_score\", \"mean\"),\n",
    "        min_score=(\"binding_anomaly_score\", \"min\"),\n",
    "        count=(\"binding_anomaly_score\", \"count\")\n",
    "    ).reset_index()\n",
    "\n",
    "    # Filter for pairs with sufficient supporting cells\n",
    "    X_grouped = X_grouped[X_grouped[\"count\"] > min_cells]\n",
    "\n",
    "    # Composite final ranking score\n",
    "    X_grouped[\"final_score\"] = X_grouped[\"min_score\"] * 0.7 + X_grouped[\"mean_score\"] * 0.3\n",
    "\n",
    "    # Sort by final score (lower = better)\n",
    "    X_ranked = X_grouped.sort_values(by=\"final_score\")\n",
    "\n",
    "    return X_ranked, X\n"
   ]
  },
  {
   "cell_type": "markdown",
   "metadata": {},
   "source": [
    "Apply the model"
   ]
  },
  {
   "cell_type": "code",
   "execution_count": 10,
   "metadata": {},
   "outputs": [
    {
     "name": "stdout",
     "output_type": "stream",
     "text": [
      "Isolation Forest model trained.\n",
      "Isolation Forest model trained.\n",
      "Isolation Forest model trained.\n",
      "🔵 Top predictions for X_a:\n",
      "          dextramer raw_clonotype_id  mean_score  min_score  count  \\\n",
      "2342   Positive_CMV      clonotype39   -0.047885  -0.058837     17   \n",
      "2522   Positive_CMV      clonotype64   -0.037270  -0.052546      8   \n",
      "2531   Positive_CMV       clonotype7   -0.026854  -0.041581    216   \n",
      "17535      SRSF2_29       clonotype7    0.132413  -0.041581    216   \n",
      "2047   Positive_CMV       clonotype1    0.078245  -0.018140    596   \n",
      "8867       SRSF2_18       clonotype1    0.127552  -0.034787    596   \n",
      "9061       SRSF2_18       clonotype2    0.147621  -0.015299    474   \n",
      "23871      SRSF2_38       clonotype1    0.191869  -0.029197    596   \n",
      "3895       SRSF2_10       clonotype7    0.146511  -0.009543    216   \n",
      "15005      SRSF2_26       clonotype1    0.206822  -0.034787    596   \n",
      "9120       SRSF2_18       clonotype3    0.167509  -0.014971    417   \n",
      "3411       SRSF2_10       clonotype1    0.180297  -0.018639    596   \n",
      "3605       SRSF2_10       clonotype2    0.197416  -0.023936    474   \n",
      "17245      SRSF2_29       clonotype2    0.187154  -0.018925    474   \n",
      "2262   Positive_CMV      clonotype22    0.134899   0.003804     67   \n",
      "10231       SRSF2_2       clonotype1    0.226440  -0.034787    596   \n",
      "17051      SRSF2_29       clonotype1    0.161902  -0.005283    596   \n",
      "9162       SRSF2_18      clonotype39    0.084953   0.028125     17   \n",
      "9168       SRSF2_18       clonotype4    0.155322  -0.001896    377   \n",
      "9242       SRSF2_18       clonotype5    0.173636  -0.008836    289   \n",
      "\n",
      "       final_score  \n",
      "2342     -0.055552  \n",
      "2522     -0.047963  \n",
      "2531     -0.037163  \n",
      "17535     0.010617  \n",
      "2047      0.010776  \n",
      "8867      0.013915  \n",
      "9061      0.033577  \n",
      "23871     0.037123  \n",
      "3895      0.037273  \n",
      "15005     0.037696  \n",
      "9120      0.039773  \n",
      "3411      0.041042  \n",
      "3605      0.042470  \n",
      "17245     0.042899  \n",
      "2262      0.043133  \n",
      "10231     0.043581  \n",
      "17051     0.044873  \n",
      "9162      0.045173  \n",
      "9168      0.045269  \n",
      "9242      0.045905  \n",
      "\n",
      "🟢 Top predictions for X_b:\n",
      "        dextramer raw_clonotype_id  mean_score  min_score  count  final_score\n",
      "29228    SRSF2_31      clonotype16   -0.004137  -0.053909     57    -0.038977\n",
      "13404    SRSF2_18       clonotype1    0.067930  -0.059802    506    -0.021482\n",
      "39179    SRSF2_40       clonotype1    0.088356  -0.061916    506    -0.016834\n",
      "1      Negative_1       clonotype1    0.113366  -0.063505    506    -0.010444\n",
      "22683    SRSF2_26       clonotype1    0.134975  -0.067226    506    -0.006566\n",
      "36086    SRSF2_38       clonotype1    0.134975  -0.066694    506    -0.006193\n",
      "35055    SRSF2_37       clonotype1    0.146961  -0.065098    506    -0.001480\n",
      "15466     SRSF2_2       clonotype1    0.118412  -0.047236    506     0.002458\n",
      "14010    SRSF2_18       clonotype3    0.124735  -0.049837    259     0.002534\n",
      "11342    SRSF2_16       clonotype1    0.167253  -0.065629    506     0.004235\n",
      "4125      SRSF2_1       clonotype1    0.131283  -0.048796    506     0.005228\n",
      "2063   Negative_3       clonotype1    0.145202  -0.051925    506     0.007213\n",
      "43303    SRSF2_44       clonotype1    0.172726  -0.061387    506     0.008847\n",
      "23714    SRSF2_27       clonotype1    0.143557  -0.048796    506     0.008910\n",
      "19590    SRSF2_23       clonotype1    0.147196  -0.048796    506     0.010002\n",
      "34024    SRSF2_36       clonotype1    0.194057  -0.064036    506     0.013392\n",
      "12373    SRSF2_17       clonotype1    0.159363  -0.048796    506     0.013652\n",
      "16497    SRSF2_20       clonotype1    0.179655  -0.054541    506     0.015717\n",
      "39686    SRSF2_40       clonotype2    0.145814  -0.038535    298     0.016770\n",
      "9280     SRSF2_14       clonotype1    0.183336  -0.054541    506     0.016822\n",
      "\n",
      "🟣 Top predictions for X_c:\n",
      "      dextramer raw_clonotype_id  mean_score  min_score  count  final_score\n",
      "13542  SRSF2_16       clonotype1    0.088254  -0.045469    511    -0.005352\n",
      "14582  SRSF2_16      clonotype70    0.090767  -0.037354      8     0.001082\n",
      "16004  SRSF2_18       clonotype1    0.022576   0.001425    511     0.007770\n",
      "17002  SRSF2_18       clonotype6    0.091311  -0.022247    168     0.011821\n",
      "45357  SRSF2_39      clonotype70    0.143055  -0.037977      8     0.016332\n",
      "31816  SRSF2_29      clonotype70    0.132198  -0.025812      8     0.021591\n",
      "14181  SRSF2_16       clonotype2    0.143078  -0.027323    246     0.023798\n",
      "16916  SRSF2_18      clonotype47    0.040117   0.024671     10     0.029305\n",
      "16948  SRSF2_18      clonotype53    0.040923   0.024671     10     0.029547\n",
      "30489  SRSF2_28      clonotype53    0.153694  -0.023275     10     0.029816\n",
      "17044  SRSF2_18      clonotype70    0.042505   0.025145      8     0.030353\n",
      "14460  SRSF2_16       clonotype5    0.156477  -0.022880    206     0.030927\n",
      "31934  SRSF2_29      clonotype84    0.173756  -0.029141      6     0.031728\n",
      "37971  SRSF2_33      clonotype70    0.163437  -0.024288      8     0.032029\n",
      "40624  SRSF2_36       clonotype1    0.175594  -0.028448    511     0.032765\n",
      "56436  SRSF2_47      clonotype70    0.158068  -0.020746      8     0.032898\n",
      "14402  SRSF2_16       clonotype4    0.163953  -0.020731    207     0.034674\n",
      "12311  SRSF2_15       clonotype1    0.175455  -0.023259    511     0.036355\n",
      "17210  SRSF2_18      clonotype96    0.046999   0.032164      6     0.036615\n",
      "30585  SRSF2_28      clonotype70    0.135551  -0.005741      8     0.036646\n"
     ]
    }
   ],
   "source": [
    "# Define feature columns to use\n",
    "feature_cols = [\"dex_norm\", \"dex_enrich\", \"clonotype_count\", \"clonotype_enrichment\"]\n",
    "\n",
    "# Apply to each dataset\n",
    "X_a_ranked, X_a = run_isolation_forest(X_a, feature_cols)\n",
    "X_b_ranked, X_b = run_isolation_forest(X_b, feature_cols)\n",
    "X_c_ranked, X_c = run_isolation_forest(X_c, feature_cols)\n",
    "\n",
    "# View top predictions\n",
    "print(\"🔵 Top predictions for X_a:\")\n",
    "print(X_a_ranked.head(20))\n",
    "\n",
    "print(\"\\n🟢 Top predictions for X_b:\")\n",
    "print(X_b_ranked.head(20))\n",
    "\n",
    "print(\"\\n🟣 Top predictions for X_c:\")\n",
    "print(X_c_ranked.head(20))\n"
   ]
  },
  {
   "cell_type": "markdown",
   "metadata": {},
   "source": [
    "## Commentary on Isolation Forest Performance\n",
    "\n",
    "This unsupervised method is attractive because it does not require any labeled ground truth during training.  \n",
    "In patient **SRSF2-2 (X_a)**, Isolation Forest clearly identifies the three positive control binders as strong outliers, demonstrating  good sensitivity when the true signals are distinct and the noise level is low.\n",
    "\n",
    "However, in **SRSF2-9 (X_b)**, although the validated binder (**SRSF2_31 ↔ clonotype16**) does emerge as the top-ranked candidate, its anomaly score is only **1.4× higher** than the next-best hit.  \n",
    "Moreover, the following top candidates are dominated by **clonotype1**, suggesting many false positives due to background noise.\n",
    "\n",
    "### Conclusion\n",
    "- **Isolation Forest** performs well when the true binders are strongly separated from background (e.g., SRSF2-2).\n",
    "- **XGBoost** generally outperforms Isolation Forest, particularly in noisier datasets like SRSF2-9, where explicit supervision allows the model to better distinguish true binders from noise.\n",
    "\n"
   ]
  }
 ],
 "metadata": {
  "kernelspec": {
   "display_name": "Python 3",
   "language": "python",
   "name": "python3"
  },
  "language_info": {
   "codemirror_mode": {
    "name": "ipython",
    "version": 3
   },
   "file_extension": ".py",
   "mimetype": "text/x-python",
   "name": "python",
   "nbconvert_exporter": "python",
   "pygments_lexer": "ipython3",
   "version": "3.10.11"
  }
 },
 "nbformat": 4,
 "nbformat_minor": 2
}
